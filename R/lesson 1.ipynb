{
 "cells": [
  {
   "cell_type": "markdown",
   "id": "f60c34a2-5adb-4958-86b4-6bdcbe302bad",
   "metadata": {},
   "source": [
    "<h1><strong>Basics on programming in R</strong></h1>\n",
    "<h2>Basic structures and concepts</h2>\n",
    "<h3>Math operations</h3>\n",
    "<ul>\n",
    "    <li>Addition -> \"+\"</li>\n",
    "    <li>Subtraction -> \"-\"</li>\n",
    "    <li>Multuplication -> \"*\"</li>\n",
    "    <li>Division -> \"/\"</li>\n",
    "    <li>Exponentiation -> \"^\" or \"**\"</li>\n",
    "    <li>Remainder -> \"%%\"</li>\n",
    "</ul>"
   ]
  },
  {
   "cell_type": "code",
   "execution_count": 1,
   "id": "0399d831-827f-4ef7-9313-2c43037de21e",
   "metadata": {},
   "outputs": [
    {
     "data": {
      "text/html": [
       "5"
      ],
      "text/latex": [
       "5"
      ],
      "text/markdown": [
       "5"
      ],
      "text/plain": [
       "[1] 5"
      ]
     },
     "metadata": {},
     "output_type": "display_data"
    },
    {
     "data": {
      "text/html": [
       "-1"
      ],
      "text/latex": [
       "-1"
      ],
      "text/markdown": [
       "-1"
      ],
      "text/plain": [
       "[1] -1"
      ]
     },
     "metadata": {},
     "output_type": "display_data"
    },
    {
     "data": {
      "text/html": [
       "30"
      ],
      "text/latex": [
       "30"
      ],
      "text/markdown": [
       "30"
      ],
      "text/plain": [
       "[1] 30"
      ]
     },
     "metadata": {},
     "output_type": "display_data"
    },
    {
     "data": {
      "text/html": [
       "2.5"
      ],
      "text/latex": [
       "2.5"
      ],
      "text/markdown": [
       "2.5"
      ],
      "text/plain": [
       "[1] 2.5"
      ]
     },
     "metadata": {},
     "output_type": "display_data"
    },
    {
     "data": {
      "text/html": [
       "256"
      ],
      "text/latex": [
       "256"
      ],
      "text/markdown": [
       "256"
      ],
      "text/plain": [
       "[1] 256"
      ]
     },
     "metadata": {},
     "output_type": "display_data"
    },
    {
     "data": {
      "text/html": [
       "25"
      ],
      "text/latex": [
       "25"
      ],
      "text/markdown": [
       "25"
      ],
      "text/plain": [
       "[1] 25"
      ]
     },
     "metadata": {},
     "output_type": "display_data"
    },
    {
     "data": {
      "text/html": [
       "4"
      ],
      "text/latex": [
       "4"
      ],
      "text/markdown": [
       "4"
      ],
      "text/plain": [
       "[1] 4"
      ]
     },
     "metadata": {},
     "output_type": "display_data"
    }
   ],
   "source": [
    "2 + 3\n",
    "5 - 6\n",
    "5 * 6\n",
    "15 / 6\n",
    "4 ^ 4\n",
    "5 ** 2\n",
    "24 %% 5"
   ]
  },
  {
   "cell_type": "markdown",
   "id": "8268a6fb-0a27-4e07-8ab9-ca7959067115",
   "metadata": {},
   "source": [
    "Write a function that takes two numbers as input and returns the result of dividing the first by the second."
   ]
  },
  {
   "cell_type": "code",
   "execution_count": 4,
   "id": "e2954a3c-dce8-4e86-9a99-adeaa181dc84",
   "metadata": {},
   "outputs": [
    {
     "data": {
      "text/html": [
       "Inf"
      ],
      "text/latex": [
       "Inf"
      ],
      "text/markdown": [
       "Inf"
      ],
      "text/plain": [
       "[1] Inf"
      ]
     },
     "metadata": {},
     "output_type": "display_data"
    },
    {
     "data": {
      "text/html": [
       "-Inf"
      ],
      "text/latex": [
       "-Inf"
      ],
      "text/markdown": [
       "-Inf"
      ],
      "text/plain": [
       "[1] -Inf"
      ]
     },
     "metadata": {},
     "output_type": "display_data"
    },
    {
     "data": {
      "text/html": [
       "NaN"
      ],
      "text/latex": [
       "NaN"
      ],
      "text/markdown": [
       "NaN"
      ],
      "text/plain": [
       "[1] NaN"
      ]
     },
     "metadata": {},
     "output_type": "display_data"
    },
    {
     "data": {
      "text/html": [
       "NaN"
      ],
      "text/latex": [
       "NaN"
      ],
      "text/markdown": [
       "NaN"
      ],
      "text/plain": [
       "[1] NaN"
      ]
     },
     "metadata": {},
     "output_type": "display_data"
    }
   ],
   "source": [
    "divide <- function(x, y) {\n",
    "    x <- x / y\n",
    "    return(x)\n",
    "}\n",
    "divide(1, 0)\n",
    "divide(-99999, 0)\n",
    "divide(0, 0)\n",
    "divide(Inf, Inf)"
   ]
  },
  {
   "cell_type": "markdown",
   "id": "c96f3ced-4750-4034-9e1a-88d53d32fcde",
   "metadata": {},
   "source": [
    "<h3>Vector operations</h3>\n",
    "To create a vector we can use the vector function"
   ]
  },
  {
   "cell_type": "code",
   "execution_count": 8,
   "id": "c2a62b39-64ea-4212-9e61-fe9ccd45bf15",
   "metadata": {},
   "outputs": [
    {
     "data": {
      "text/html": [
       "<style>\n",
       ".list-inline {list-style: none; margin:0; padding: 0}\n",
       ".list-inline>li {display: inline-block}\n",
       ".list-inline>li:not(:last-child)::after {content: \"\\00b7\"; padding: 0 .5ex}\n",
       "</style>\n",
       "<ol class=list-inline><li>5</li><li>8</li></ol>\n"
      ],
      "text/latex": [
       "\\begin{enumerate*}\n",
       "\\item 5\n",
       "\\item 8\n",
       "\\end{enumerate*}\n"
      ],
      "text/markdown": [
       "1. 5\n",
       "2. 8\n",
       "\n",
       "\n"
      ],
      "text/plain": [
       "[1] 5 8"
      ]
     },
     "metadata": {},
     "output_type": "display_data"
    }
   ],
   "source": [
    "x <- vector(length = 2)\n",
    "x[1] <- 5\n",
    "x[2] <- 8\n",
    "x"
   ]
  },
  {
   "cell_type": "markdown",
   "id": "36c3ab6f-2a2e-4673-bdc8-f8efe41fd0f0",
   "metadata": {},
   "source": [
    "Instead of elemrntwise assigment, use compact notation"
   ]
  },
  {
   "cell_type": "code",
   "execution_count": 6,
   "id": "9a8d3e52-bbf0-4ddf-a256-2af7ff9e3761",
   "metadata": {},
   "outputs": [
    {
     "data": {
      "text/html": [
       "<style>\n",
       ".list-inline {list-style: none; margin:0; padding: 0}\n",
       ".list-inline>li {display: inline-block}\n",
       ".list-inline>li:not(:last-child)::after {content: \"\\00b7\"; padding: 0 .5ex}\n",
       "</style>\n",
       "<ol class=list-inline><li>5</li><li>8</li></ol>\n"
      ],
      "text/latex": [
       "\\begin{enumerate*}\n",
       "\\item 5\n",
       "\\item 8\n",
       "\\end{enumerate*}\n"
      ],
      "text/markdown": [
       "1. 5\n",
       "2. 8\n",
       "\n",
       "\n"
      ],
      "text/plain": [
       "[1] 5 8"
      ]
     },
     "metadata": {},
     "output_type": "display_data"
    }
   ],
   "source": [
    "x <- c(5, 8)\n",
    "x"
   ]
  },
  {
   "cell_type": "markdown",
   "id": "a5fd7722-5545-4494-93b8-bf208a179023",
   "metadata": {},
   "source": [
    "THe function can be folded and take variables"
   ]
  },
  {
   "cell_type": "code",
   "execution_count": 7,
   "id": "c13bd77f-edb1-45f5-9d4c-be8567c2764e",
   "metadata": {},
   "outputs": [
    {
     "data": {
      "text/html": [
       "<style>\n",
       ".list-inline {list-style: none; margin:0; padding: 0}\n",
       ".list-inline>li {display: inline-block}\n",
       ".list-inline>li:not(:last-child)::after {content: \"\\00b7\"; padding: 0 .5ex}\n",
       "</style>\n",
       "<ol class=list-inline><li>5</li><li>8</li><li>6</li><li>7</li><li>2</li><li>4</li><li>&lt;NA&gt;</li></ol>\n"
      ],
      "text/latex": [
       "\\begin{enumerate*}\n",
       "\\item 5\n",
       "\\item 8\n",
       "\\item 6\n",
       "\\item 7\n",
       "\\item 2\n",
       "\\item 4\n",
       "\\item <NA>\n",
       "\\end{enumerate*}\n"
      ],
      "text/markdown": [
       "1. 5\n",
       "2. 8\n",
       "3. 6\n",
       "4. 7\n",
       "5. 2\n",
       "6. 4\n",
       "7. &lt;NA&gt;\n",
       "\n",
       "\n"
      ],
      "text/plain": [
       "[1]  5  8  6  7  2  4 NA"
      ]
     },
     "metadata": {},
     "output_type": "display_data"
    }
   ],
   "source": [
    "y <- c(x, 6, 7, c(2, 4), NA)\n",
    "y"
   ]
  },
  {
   "cell_type": "markdown",
   "id": "9764d2b5-0d21-4dc5-8df1-8f0fcba17d48",
   "metadata": {},
   "source": [
    "Creating number sequences in steps of one"
   ]
  },
  {
   "cell_type": "code",
   "execution_count": 8,
   "id": "6d1a8477-5560-409c-9b85-0779478c5e8f",
   "metadata": {},
   "outputs": [
    {
     "data": {
      "text/html": [
       "<style>\n",
       ".list-inline {list-style: none; margin:0; padding: 0}\n",
       ".list-inline>li {display: inline-block}\n",
       ".list-inline>li:not(:last-child)::after {content: \"\\00b7\"; padding: 0 .5ex}\n",
       "</style>\n",
       "<ol class=list-inline><li>5</li><li>6</li><li>7</li><li>8</li><li>9</li></ol>\n"
      ],
      "text/latex": [
       "\\begin{enumerate*}\n",
       "\\item 5\n",
       "\\item 6\n",
       "\\item 7\n",
       "\\item 8\n",
       "\\item 9\n",
       "\\end{enumerate*}\n"
      ],
      "text/markdown": [
       "1. 5\n",
       "2. 6\n",
       "3. 7\n",
       "4. 8\n",
       "5. 9\n",
       "\n",
       "\n"
      ],
      "text/plain": [
       "[1] 5 6 7 8 9"
      ]
     },
     "metadata": {},
     "output_type": "display_data"
    },
    {
     "data": {
      "text/html": [
       "<style>\n",
       ".list-inline {list-style: none; margin:0; padding: 0}\n",
       ".list-inline>li {display: inline-block}\n",
       ".list-inline>li:not(:last-child)::after {content: \"\\00b7\"; padding: 0 .5ex}\n",
       "</style>\n",
       "<ol class=list-inline><li>3</li><li>2</li><li>1</li><li>0</li><li>-1</li></ol>\n"
      ],
      "text/latex": [
       "\\begin{enumerate*}\n",
       "\\item 3\n",
       "\\item 2\n",
       "\\item 1\n",
       "\\item 0\n",
       "\\item -1\n",
       "\\end{enumerate*}\n"
      ],
      "text/markdown": [
       "1. 3\n",
       "2. 2\n",
       "3. 1\n",
       "4. 0\n",
       "5. -1\n",
       "\n",
       "\n"
      ],
      "text/plain": [
       "[1]  3  2  1  0 -1"
      ]
     },
     "metadata": {},
     "output_type": "display_data"
    }
   ],
   "source": [
    "5:9\n",
    "3:-1"
   ]
  },
  {
   "cell_type": "code",
   "execution_count": 12,
   "id": "5410db5f-09af-4227-846d-f3e3da591d34",
   "metadata": {},
   "outputs": [
    {
     "data": {
      "text/html": [
       "<style>\n",
       ".list-inline {list-style: none; margin:0; padding: 0}\n",
       ".list-inline>li {display: inline-block}\n",
       ".list-inline>li:not(:last-child)::after {content: \"\\00b7\"; padding: 0 .5ex}\n",
       "</style>\n",
       "<ol class=list-inline><li>1</li><li>1.25</li><li>1.5</li><li>1.75</li><li>2</li></ol>\n"
      ],
      "text/latex": [
       "\\begin{enumerate*}\n",
       "\\item 1\n",
       "\\item 1.25\n",
       "\\item 1.5\n",
       "\\item 1.75\n",
       "\\item 2\n",
       "\\end{enumerate*}\n"
      ],
      "text/markdown": [
       "1. 1\n",
       "2. 1.25\n",
       "3. 1.5\n",
       "4. 1.75\n",
       "5. 2\n",
       "\n",
       "\n"
      ],
      "text/plain": [
       "[1] 1.00 1.25 1.50 1.75 2.00"
      ]
     },
     "metadata": {},
     "output_type": "display_data"
    },
    {
     "data": {
      "text/html": [
       "<style>\n",
       ".list-inline {list-style: none; margin:0; padding: 0}\n",
       ".list-inline>li {display: inline-block}\n",
       ".list-inline>li:not(:last-child)::after {content: \"\\00b7\"; padding: 0 .5ex}\n",
       "</style>\n",
       "<ol class=list-inline><li>3</li><li>3.125</li><li>3.25</li><li>3.375</li><li>3.5</li><li>3.625</li><li>3.75</li><li>3.875</li><li>4</li></ol>\n"
      ],
      "text/latex": [
       "\\begin{enumerate*}\n",
       "\\item 3\n",
       "\\item 3.125\n",
       "\\item 3.25\n",
       "\\item 3.375\n",
       "\\item 3.5\n",
       "\\item 3.625\n",
       "\\item 3.75\n",
       "\\item 3.875\n",
       "\\item 4\n",
       "\\end{enumerate*}\n"
      ],
      "text/markdown": [
       "1. 3\n",
       "2. 3.125\n",
       "3. 3.25\n",
       "4. 3.375\n",
       "5. 3.5\n",
       "6. 3.625\n",
       "7. 3.75\n",
       "8. 3.875\n",
       "9. 4\n",
       "\n",
       "\n"
      ],
      "text/plain": [
       "[1] 3.000 3.125 3.250 3.375 3.500 3.625 3.750 3.875 4.000"
      ]
     },
     "metadata": {},
     "output_type": "display_data"
    }
   ],
   "source": [
    "seq(1, 2, by = 0.25)\n",
    "seq(3, 4, length.out = 9)"
   ]
  },
  {
   "cell_type": "markdown",
   "id": "fb253ad6-a3db-4818-b8ae-bcd342dd0c76",
   "metadata": {},
   "source": [
    "Repetition of vectors"
   ]
  },
  {
   "cell_type": "code",
   "execution_count": 13,
   "id": "4b07b11d-1a13-4b01-93e6-f83f0ae7a9db",
   "metadata": {},
   "outputs": [
    {
     "data": {
      "text/html": [
       "<style>\n",
       ".list-inline {list-style: none; margin:0; padding: 0}\n",
       ".list-inline>li {display: inline-block}\n",
       ".list-inline>li:not(:last-child)::after {content: \"\\00b7\"; padding: 0 .5ex}\n",
       "</style>\n",
       "<ol class=list-inline><li>1</li><li>2</li><li>3</li><li>1</li><li>2</li><li>3</li><li>1</li><li>2</li><li>3</li></ol>\n"
      ],
      "text/latex": [
       "\\begin{enumerate*}\n",
       "\\item 1\n",
       "\\item 2\n",
       "\\item 3\n",
       "\\item 1\n",
       "\\item 2\n",
       "\\item 3\n",
       "\\item 1\n",
       "\\item 2\n",
       "\\item 3\n",
       "\\end{enumerate*}\n"
      ],
      "text/markdown": [
       "1. 1\n",
       "2. 2\n",
       "3. 3\n",
       "4. 1\n",
       "5. 2\n",
       "6. 3\n",
       "7. 1\n",
       "8. 2\n",
       "9. 3\n",
       "\n",
       "\n"
      ],
      "text/plain": [
       "[1] 1 2 3 1 2 3 1 2 3"
      ]
     },
     "metadata": {},
     "output_type": "display_data"
    },
    {
     "data": {
      "text/html": [
       "<style>\n",
       ".list-inline {list-style: none; margin:0; padding: 0}\n",
       ".list-inline>li {display: inline-block}\n",
       ".list-inline>li:not(:last-child)::after {content: \"\\00b7\"; padding: 0 .5ex}\n",
       "</style>\n",
       "<ol class=list-inline><li>1</li><li>1</li><li>1</li><li>1</li><li>2</li><li>2</li><li>2</li><li>2</li><li>3</li><li>3</li><li>3</li><li>3</li></ol>\n"
      ],
      "text/latex": [
       "\\begin{enumerate*}\n",
       "\\item 1\n",
       "\\item 1\n",
       "\\item 1\n",
       "\\item 1\n",
       "\\item 2\n",
       "\\item 2\n",
       "\\item 2\n",
       "\\item 2\n",
       "\\item 3\n",
       "\\item 3\n",
       "\\item 3\n",
       "\\item 3\n",
       "\\end{enumerate*}\n"
      ],
      "text/markdown": [
       "1. 1\n",
       "2. 1\n",
       "3. 1\n",
       "4. 1\n",
       "5. 2\n",
       "6. 2\n",
       "7. 2\n",
       "8. 2\n",
       "9. 3\n",
       "10. 3\n",
       "11. 3\n",
       "12. 3\n",
       "\n",
       "\n"
      ],
      "text/plain": [
       " [1] 1 1 1 1 2 2 2 2 3 3 3 3"
      ]
     },
     "metadata": {},
     "output_type": "display_data"
    },
    {
     "data": {
      "text/html": [
       "<style>\n",
       ".list-inline {list-style: none; margin:0; padding: 0}\n",
       ".list-inline>li {display: inline-block}\n",
       ".list-inline>li:not(:last-child)::after {content: \"\\00b7\"; padding: 0 .5ex}\n",
       "</style>\n",
       "<ol class=list-inline><li>1</li><li>2</li><li>3</li><li>1</li><li>2</li></ol>\n"
      ],
      "text/latex": [
       "\\begin{enumerate*}\n",
       "\\item 1\n",
       "\\item 2\n",
       "\\item 3\n",
       "\\item 1\n",
       "\\item 2\n",
       "\\end{enumerate*}\n"
      ],
      "text/markdown": [
       "1. 1\n",
       "2. 2\n",
       "3. 3\n",
       "4. 1\n",
       "5. 2\n",
       "\n",
       "\n"
      ],
      "text/plain": [
       "[1] 1 2 3 1 2"
      ]
     },
     "metadata": {},
     "output_type": "display_data"
    }
   ],
   "source": [
    "rep(1:3, times = 3)\n",
    "rep(1:3, each = 4)\n",
    "rep(1:3, length = 5)"
   ]
  },
  {
   "cell_type": "markdown",
   "id": "173733db-aecd-4d64-84b9-b50194d30ab9",
   "metadata": {},
   "source": [
    "<strong>Attention</strong>"
   ]
  },
  {
   "cell_type": "code",
   "execution_count": 14,
   "id": "5c370b58-c7f4-4dab-a3a3-b274200f702b",
   "metadata": {},
   "outputs": [
    {
     "data": {
      "text/html": [
       "TRUE"
      ],
      "text/latex": [
       "TRUE"
      ],
      "text/markdown": [
       "TRUE"
      ],
      "text/plain": [
       "[1] TRUE"
      ]
     },
     "metadata": {},
     "output_type": "display_data"
    }
   ],
   "source": [
    "0.1 + 0.1 == 0.2"
   ]
  },
  {
   "cell_type": "markdown",
   "id": "055a537d-44c2-45bb-a2a5-f30b9b856910",
   "metadata": {},
   "source": [
    "<b>But!</b>"
   ]
  },
  {
   "cell_type": "code",
   "execution_count": null,
   "id": "c501b108-28b2-4ada-ab82-875aa52a4e08",
   "metadata": {},
   "outputs": [],
   "source": [
    "0.1 + 0.05 == 0.15"
   ]
  },
  {
   "cell_type": "code",
   "execution_count": 16,
   "id": "6a913a0f-811c-4902-9739-b268eea80af0",
   "metadata": {},
   "outputs": [
    {
     "data": {
      "text/html": [
       "TRUE"
      ],
      "text/latex": [
       "TRUE"
      ],
      "text/markdown": [
       "TRUE"
      ],
      "text/plain": [
       "[1] TRUE"
      ]
     },
     "metadata": {},
     "output_type": "display_data"
    }
   ],
   "source": [
    "all.equal(0.1 + 0.05, 0.15)"
   ]
  },
  {
   "cell_type": "markdown",
   "id": "80bd118a-3f7e-43f3-b57b-e1700b7f614a",
   "metadata": {},
   "source": [
    "Write the get_fractions function, which takes two numbers, m and n, as input, and returns a similar vector containing all fractions of the form {i/m, i = 0, 1, ..., m} and {j/n, j = 0, 1, ..., n}. The vector must not contain repetitions. And -- the plot twist -- should be ordered in descending order."
   ]
  },
  {
   "cell_type": "code",
   "execution_count": 5,
   "id": "d30d0718-58de-48e4-b2ee-b6856da9416e",
   "metadata": {},
   "outputs": [],
   "source": [
    "get_fractions <- function(m, n) {\n",
    "    x <- seq(0, m, 1/m)\n",
    "    y <- seq(0, n, 1/n)\n",
    "    answer <- sort(unique(c(x, y)), TRUE)\n",
    "    return(answer)\n",
    "}\n"
   ]
  },
  {
   "cell_type": "markdown",
   "id": "04d97fc9-415c-46a7-90da-ec55684f03a5",
   "metadata": {},
   "source": [
    "<h3>Vector types</h3>\n",
    "<ul>\n",
    "    <li>logical</li>\n",
    "    <li>integer</li>\n",
    "    <li>numeric/double</li>\n",
    "    <li>complex</li>\n",
    "    <li>character</li>\n",
    "    <li>raw</li>\n",
    "</ul>\n",
    "For determine the type of vectors there are functions <b>typeof</b> and <b>is.*</b> (where * is a type)"
   ]
  },
  {
   "cell_type": "code",
   "execution_count": 6,
   "id": "1cc20551-314f-4196-9974-1adb9b1c364d",
   "metadata": {},
   "outputs": [
    {
     "data": {
      "text/html": [
       "'character'"
      ],
      "text/latex": [
       "'character'"
      ],
      "text/markdown": [
       "'character'"
      ],
      "text/plain": [
       "[1] \"character\""
      ]
     },
     "metadata": {},
     "output_type": "display_data"
    }
   ],
   "source": [
    "a <- c(\"one\", \"two\", \"three\")\n",
    "typeof(a)"
   ]
  },
  {
   "cell_type": "code",
   "execution_count": 9,
   "id": "66c1d0b9-056d-4db8-adcf-59c1659f1bea",
   "metadata": {},
   "outputs": [
    {
     "data": {
      "text/html": [
       "FALSE"
      ],
      "text/latex": [
       "FALSE"
      ],
      "text/markdown": [
       "FALSE"
      ],
      "text/plain": [
       "[1] FALSE"
      ]
     },
     "metadata": {},
     "output_type": "display_data"
    }
   ],
   "source": [
    "is.logical(x)"
   ]
  },
  {
   "cell_type": "code",
   "execution_count": 10,
   "id": "388be65f-ec57-4153-a18e-8fa3283e3232",
   "metadata": {},
   "outputs": [
    {
     "data": {
      "text/html": [
       "FALSE"
      ],
      "text/latex": [
       "FALSE"
      ],
      "text/markdown": [
       "FALSE"
      ],
      "text/plain": [
       "[1] FALSE"
      ]
     },
     "metadata": {},
     "output_type": "display_data"
    }
   ],
   "source": [
    "is.integer(x)"
   ]
  },
  {
   "cell_type": "code",
   "execution_count": 11,
   "id": "95e0a948-c08f-4029-9750-4fe392f030c9",
   "metadata": {},
   "outputs": [
    {
     "data": {
      "text/html": [
       "TRUE"
      ],
      "text/latex": [
       "TRUE"
      ],
      "text/markdown": [
       "TRUE"
      ],
      "text/plain": [
       "[1] TRUE"
      ]
     },
     "metadata": {},
     "output_type": "display_data"
    }
   ],
   "source": [
    "is.numeric(x)"
   ]
  },
  {
   "cell_type": "markdown",
   "id": "feec2312-48e3-4515-bc2a-4d1bd46255c6",
   "metadata": {},
   "source": [
    "<h3>Vectors length</h3>\n",
    "Any of vectors has a length"
   ]
  },
  {
   "cell_type": "code",
   "execution_count": 13,
   "id": "d3f789b3-a7d6-40cf-ba1a-4b8f0e015980",
   "metadata": {},
   "outputs": [
    {
     "data": {
      "text/html": [
       "100"
      ],
      "text/latex": [
       "100"
      ],
      "text/markdown": [
       "100"
      ],
      "text/plain": [
       "[1] 100"
      ]
     },
     "metadata": {},
     "output_type": "display_data"
    }
   ],
   "source": [
    "x <- 1:100\n",
    "length(x)"
   ]
  },
  {
   "cell_type": "markdown",
   "id": "9039f63c-416c-4eac-b7bb-556055e7dd75",
   "metadata": {},
   "source": [
    "It can be changed"
   ]
  },
  {
   "cell_type": "code",
   "execution_count": 14,
   "id": "6553b9e9-d2fc-431e-9767-cd68a4c1ffca",
   "metadata": {},
   "outputs": [
    {
     "data": {
      "text/html": [
       "<style>\n",
       ".list-inline {list-style: none; margin:0; padding: 0}\n",
       ".list-inline>li {display: inline-block}\n",
       ".list-inline>li:not(:last-child)::after {content: \"\\00b7\"; padding: 0 .5ex}\n",
       "</style>\n",
       "<ol class=list-inline><li>1</li><li>2</li><li>3</li><li>4</li></ol>\n"
      ],
      "text/latex": [
       "\\begin{enumerate*}\n",
       "\\item 1\n",
       "\\item 2\n",
       "\\item 3\n",
       "\\item 4\n",
       "\\end{enumerate*}\n"
      ],
      "text/markdown": [
       "1. 1\n",
       "2. 2\n",
       "3. 3\n",
       "4. 4\n",
       "\n",
       "\n"
      ],
      "text/plain": [
       "[1] 1 2 3 4"
      ]
     },
     "metadata": {},
     "output_type": "display_data"
    },
    {
     "data": {
      "text/html": [
       "<style>\n",
       ".list-inline {list-style: none; margin:0; padding: 0}\n",
       ".list-inline>li {display: inline-block}\n",
       ".list-inline>li:not(:last-child)::after {content: \"\\00b7\"; padding: 0 .5ex}\n",
       "</style>\n",
       "<ol class=list-inline><li>1</li><li>2</li><li>3</li><li>4</li></ol>\n"
      ],
      "text/latex": [
       "\\begin{enumerate*}\n",
       "\\item 1\n",
       "\\item 2\n",
       "\\item 3\n",
       "\\item 4\n",
       "\\end{enumerate*}\n"
      ],
      "text/markdown": [
       "1. 1\n",
       "2. 2\n",
       "3. 3\n",
       "4. 4\n",
       "\n",
       "\n"
      ],
      "text/plain": [
       "[1] 1 2 3 4"
      ]
     },
     "metadata": {},
     "output_type": "display_data"
    }
   ],
   "source": [
    "length(x) <- 4; x\n",
    "x"
   ]
  },
  {
   "cell_type": "code",
   "execution_count": 15,
   "id": "84bb3153-966a-45a5-9851-c182bb1a2985",
   "metadata": {},
   "outputs": [
    {
     "data": {
      "text/html": [
       "<style>\n",
       ".list-inline {list-style: none; margin:0; padding: 0}\n",
       ".list-inline>li {display: inline-block}\n",
       ".list-inline>li:not(:last-child)::after {content: \"\\00b7\"; padding: 0 .5ex}\n",
       "</style>\n",
       "<ol class=list-inline><li>1</li><li>2</li><li>3</li><li>4</li><li>&lt;NA&gt;</li><li>&lt;NA&gt;</li><li>&lt;NA&gt;</li></ol>\n"
      ],
      "text/latex": [
       "\\begin{enumerate*}\n",
       "\\item 1\n",
       "\\item 2\n",
       "\\item 3\n",
       "\\item 4\n",
       "\\item <NA>\n",
       "\\item <NA>\n",
       "\\item <NA>\n",
       "\\end{enumerate*}\n"
      ],
      "text/markdown": [
       "1. 1\n",
       "2. 2\n",
       "3. 3\n",
       "4. 4\n",
       "5. &lt;NA&gt;\n",
       "6. &lt;NA&gt;\n",
       "7. &lt;NA&gt;\n",
       "\n",
       "\n"
      ],
      "text/plain": [
       "[1]  1  2  3  4 NA NA NA"
      ]
     },
     "metadata": {},
     "output_type": "display_data"
    },
    {
     "data": {
      "text/html": [
       "<style>\n",
       ".list-inline {list-style: none; margin:0; padding: 0}\n",
       ".list-inline>li {display: inline-block}\n",
       ".list-inline>li:not(:last-child)::after {content: \"\\00b7\"; padding: 0 .5ex}\n",
       "</style>\n",
       "<ol class=list-inline><li>1</li><li>2</li><li>3</li><li>4</li><li>&lt;NA&gt;</li><li>&lt;NA&gt;</li><li>&lt;NA&gt;</li></ol>\n"
      ],
      "text/latex": [
       "\\begin{enumerate*}\n",
       "\\item 1\n",
       "\\item 2\n",
       "\\item 3\n",
       "\\item 4\n",
       "\\item <NA>\n",
       "\\item <NA>\n",
       "\\item <NA>\n",
       "\\end{enumerate*}\n"
      ],
      "text/markdown": [
       "1. 1\n",
       "2. 2\n",
       "3. 3\n",
       "4. 4\n",
       "5. &lt;NA&gt;\n",
       "6. &lt;NA&gt;\n",
       "7. &lt;NA&gt;\n",
       "\n",
       "\n"
      ],
      "text/plain": [
       "[1]  1  2  3  4 NA NA NA"
      ]
     },
     "metadata": {},
     "output_type": "display_data"
    }
   ],
   "source": [
    "length(x) <- 7; x\n",
    "x"
   ]
  },
  {
   "cell_type": "markdown",
   "id": "255620ef-7346-4a1b-89f0-95ac43ba8631",
   "metadata": {},
   "source": [
    "<h3>Named vectors</h3>\n",
    "Elements of vector can be named"
   ]
  },
  {
   "cell_type": "code",
   "execution_count": 17,
   "id": "a1082d4f-7153-4cb8-bd6f-8624edec51d5",
   "metadata": {},
   "outputs": [
    {
     "data": {
      "text/html": [
       "<style>\n",
       ".dl-inline {width: auto; margin:0; padding: 0}\n",
       ".dl-inline>dt, .dl-inline>dd {float: none; width: auto; display: inline-block}\n",
       ".dl-inline>dt::after {content: \":\\0020\"; padding-right: .5ex}\n",
       ".dl-inline>dt:not(:first-of-type) {padding-left: .5ex}\n",
       "</style><dl class=dl-inline><dt>uno</dt><dd>1</dd><dt>dos</dt><dd>2</dd><dt>other numbers</dt><dd>42</dd><dt>4</dt><dd>99</dd></dl>\n"
      ],
      "text/latex": [
       "\\begin{description*}\n",
       "\\item[uno] 1\n",
       "\\item[dos] 2\n",
       "\\item[other numbers] 42\n",
       "\\item[4] 99\n",
       "\\end{description*}\n"
      ],
      "text/markdown": [
       "uno\n",
       ":   1dos\n",
       ":   2other numbers\n",
       ":   424\n",
       ":   99\n",
       "\n"
      ],
      "text/plain": [
       "          uno           dos other numbers               \n",
       "            1             2            42            99 "
      ]
     },
     "metadata": {},
     "output_type": "display_data"
    }
   ],
   "source": [
    "a <- c(\"uno\" = 1, \"dos\" = 2, \"other numbers\" = 42, 99)\n",
    "a"
   ]
  },
  {
   "cell_type": "code",
   "execution_count": 18,
   "id": "16c673e1-537e-4287-8155-1f39f77dce19",
   "metadata": {},
   "outputs": [
    {
     "data": {
      "text/html": [
       "<style>\n",
       ".dl-inline {width: auto; margin:0; padding: 0}\n",
       ".dl-inline>dt, .dl-inline>dd {float: none; width: auto; display: inline-block}\n",
       ".dl-inline>dt::after {content: \":\\0020\"; padding-right: .5ex}\n",
       ".dl-inline>dt:not(:first-of-type) {padding-left: .5ex}\n",
       "</style><dl class=dl-inline><dt>one</dt><dd>1</dd><dt>two</dt><dd>2</dd><dt>forty two</dt><dd>42</dd><dt>ninety nine</dt><dd>99</dd></dl>\n"
      ],
      "text/latex": [
       "\\begin{description*}\n",
       "\\item[one] 1\n",
       "\\item[two] 2\n",
       "\\item[forty two] 42\n",
       "\\item[ninety nine] 99\n",
       "\\end{description*}\n"
      ],
      "text/markdown": [
       "one\n",
       ":   1two\n",
       ":   2forty two\n",
       ":   42ninety nine\n",
       ":   99\n",
       "\n"
      ],
      "text/plain": [
       "        one         two   forty two ninety nine \n",
       "          1           2          42          99 "
      ]
     },
     "metadata": {},
     "output_type": "display_data"
    }
   ],
   "source": [
    "names(a) <- c(\"one\", \"two\", \"forty two\", \"ninety nine\")\n",
    "a"
   ]
  },
  {
   "cell_type": "markdown",
   "id": "ae798b23-c5b3-40ec-98a5-b74463640fc5",
   "metadata": {},
   "source": [
    "<h3>Vector arithmetic</h3>\n",
    "Arithmetic operations are vectorized(used element by element)"
   ]
  },
  {
   "cell_type": "code",
   "execution_count": 19,
   "id": "68bc1404-8d5f-4972-a3a5-632cef553495",
   "metadata": {},
   "outputs": [
    {
     "data": {
      "text/html": [
       "<style>\n",
       ".list-inline {list-style: none; margin:0; padding: 0}\n",
       ".list-inline>li {display: inline-block}\n",
       ".list-inline>li:not(:last-child)::after {content: \"\\00b7\"; padding: 0 .5ex}\n",
       "</style>\n",
       "<ol class=list-inline><li>0</li><li>6</li><li>11</li></ol>\n"
      ],
      "text/latex": [
       "\\begin{enumerate*}\n",
       "\\item 0\n",
       "\\item 6\n",
       "\\item 11\n",
       "\\end{enumerate*}\n"
      ],
      "text/markdown": [
       "1. 0\n",
       "2. 6\n",
       "3. 11\n",
       "\n",
       "\n"
      ],
      "text/plain": [
       "[1]  0  6 11"
      ]
     },
     "metadata": {},
     "output_type": "display_data"
    }
   ],
   "source": [
    "1:3 + c(-1, 4, 8)"
   ]
  },
  {
   "cell_type": "code",
   "execution_count": 20,
   "id": "0d699ef6-4660-43e4-99d4-48908f2d7bab",
   "metadata": {},
   "outputs": [
    {
     "data": {
      "text/html": [
       "<style>\n",
       ".list-inline {list-style: none; margin:0; padding: 0}\n",
       ".list-inline>li {display: inline-block}\n",
       ".list-inline>li:not(:last-child)::after {content: \"\\00b7\"; padding: 0 .5ex}\n",
       "</style>\n",
       "<ol class=list-inline><li>-1</li><li>8</li><li>24</li></ol>\n"
      ],
      "text/latex": [
       "\\begin{enumerate*}\n",
       "\\item -1\n",
       "\\item 8\n",
       "\\item 24\n",
       "\\end{enumerate*}\n"
      ],
      "text/markdown": [
       "1. -1\n",
       "2. 8\n",
       "3. 24\n",
       "\n",
       "\n"
      ],
      "text/plain": [
       "[1] -1  8 24"
      ]
     },
     "metadata": {},
     "output_type": "display_data"
    }
   ],
   "source": [
    "1:3 * c(-1, 4, 8)"
   ]
  },
  {
   "cell_type": "code",
   "execution_count": 21,
   "id": "f934771d-2d8d-492c-8301-d2e5dc52370f",
   "metadata": {},
   "outputs": [
    {
     "data": {
      "text/html": [
       "<style>\n",
       ".list-inline {list-style: none; margin:0; padding: 0}\n",
       ".list-inline>li {display: inline-block}\n",
       ".list-inline>li:not(:last-child)::after {content: \"\\00b7\"; padding: 0 .5ex}\n",
       "</style>\n",
       "<ol class=list-inline><li>0</li><li>1</li><li>999</li></ol>\n"
      ],
      "text/latex": [
       "\\begin{enumerate*}\n",
       "\\item 0\n",
       "\\item 1\n",
       "\\item 999\n",
       "\\end{enumerate*}\n"
      ],
      "text/markdown": [
       "1. 0\n",
       "2. 1\n",
       "3. 999\n",
       "\n",
       "\n"
      ],
      "text/plain": [
       "[1]   0   1 999"
      ]
     },
     "metadata": {},
     "output_type": "display_data"
    }
   ],
   "source": [
    "c(TRUE, TRUE, TRUE) * c(0, 1, 999)"
   ]
  },
  {
   "cell_type": "markdown",
   "id": "38610c2e-e349-48d8-b31d-673ee6b9baa9",
   "metadata": {},
   "source": [
    "### Vectorized\n",
    "Many functions in R have a built-in support for vectorized"
   ]
  },
  {
   "cell_type": "code",
   "execution_count": 22,
   "id": "fc19ec44-b4e2-45b8-a9e2-2137b18e6150",
   "metadata": {},
   "outputs": [
    {
     "data": {
      "text/html": [
       "<style>\n",
       ".list-inline {list-style: none; margin:0; padding: 0}\n",
       ".list-inline>li {display: inline-block}\n",
       ".list-inline>li:not(:last-child)::after {content: \"\\00b7\"; padding: 0 .5ex}\n",
       "</style>\n",
       "<ol class=list-inline><li>1</li><li>1.4142135623731</li><li>1.73205080756888</li><li>2</li></ol>\n"
      ],
      "text/latex": [
       "\\begin{enumerate*}\n",
       "\\item 1\n",
       "\\item 1.4142135623731\n",
       "\\item 1.73205080756888\n",
       "\\item 2\n",
       "\\end{enumerate*}\n"
      ],
      "text/markdown": [
       "1. 1\n",
       "2. 1.4142135623731\n",
       "3. 1.73205080756888\n",
       "4. 2\n",
       "\n",
       "\n"
      ],
      "text/plain": [
       "[1] 1.000000 1.414214 1.732051 2.000000"
      ]
     },
     "metadata": {},
     "output_type": "display_data"
    }
   ],
   "source": [
    "sqrt(1:4)"
   ]
  },
  {
   "cell_type": "code",
   "execution_count": 23,
   "id": "ac7fa7eb-ebed-42ac-8709-39c3566e91b9",
   "metadata": {},
   "outputs": [
    {
     "data": {
      "text/html": [
       "<style>\n",
       ".list-inline {list-style: none; margin:0; padding: 0}\n",
       ".list-inline>li {display: inline-block}\n",
       ".list-inline>li:not(:last-child)::after {content: \"\\00b7\"; padding: 0 .5ex}\n",
       "</style>\n",
       "<ol class=list-inline><li>0</li><li>0</li><li>0</li><li>0</li><li>1</li><li>1</li><li>1</li><li>1</li><li>2</li><li>2</li><li>2</li><li>2</li><li>3</li></ol>\n"
      ],
      "text/latex": [
       "\\begin{enumerate*}\n",
       "\\item 0\n",
       "\\item 0\n",
       "\\item 0\n",
       "\\item 0\n",
       "\\item 1\n",
       "\\item 1\n",
       "\\item 1\n",
       "\\item 1\n",
       "\\item 2\n",
       "\\item 2\n",
       "\\item 2\n",
       "\\item 2\n",
       "\\item 3\n",
       "\\end{enumerate*}\n"
      ],
      "text/markdown": [
       "1. 0\n",
       "2. 0\n",
       "3. 0\n",
       "4. 0\n",
       "5. 1\n",
       "6. 1\n",
       "7. 1\n",
       "8. 1\n",
       "9. 2\n",
       "10. 2\n",
       "11. 2\n",
       "12. 2\n",
       "13. 3\n",
       "\n",
       "\n"
      ],
      "text/plain": [
       " [1] 0 0 0 0 1 1 1 1 2 2 2 2 3"
      ]
     },
     "metadata": {},
     "output_type": "display_data"
    }
   ],
   "source": [
    "floor(seq(0, 3, by = 0.25))"
   ]
  },
  {
   "cell_type": "code",
   "execution_count": 24,
   "id": "f54dba1f-a368-4530-82cb-8de792221698",
   "metadata": {},
   "outputs": [
    {
     "data": {
      "text/html": [
       "66795"
      ],
      "text/latex": [
       "66795"
      ],
      "text/markdown": [
       "66795"
      ],
      "text/plain": [
       "[1] 66795"
      ]
     },
     "metadata": {},
     "output_type": "display_data"
    }
   ],
   "source": [
    "sum(1:365)"
   ]
  },
  {
   "cell_type": "markdown",
   "id": "5fe8dd65-b9b0-4dff-b7db-940cfb457ae3",
   "metadata": {},
   "source": [
    "<h3>Conditional operator</h3>"
   ]
  },
  {
   "cell_type": "code",
   "execution_count": 3,
   "id": "3f6db605-2a23-445d-9f23-b0dfece56b69",
   "metadata": {},
   "outputs": [
    {
     "name": "stdout",
     "output_type": "stream",
     "text": [
      "[1] \"Less\"\n"
     ]
    }
   ],
   "source": [
    "n <- 0\n",
    "if (n < 1) {print(\"Less\")} else {print(\"More\")}"
   ]
  },
  {
   "cell_type": "code",
   "execution_count": 4,
   "id": "3635e0be-74a9-4d04-be87-15f56c0d7432",
   "metadata": {},
   "outputs": [
    {
     "name": "stdout",
     "output_type": "stream",
     "text": [
      "[1] \"Less\"\n"
     ]
    }
   ],
   "source": [
    "if (n < 1) {\n",
    "    print(\"Less\")\n",
    "} else {\n",
    "    print(\"More\")\n",
    "}"
   ]
  },
  {
   "cell_type": "markdown",
   "id": "4809b468-04e2-43a7-b3cb-cbd824699628",
   "metadata": {},
   "source": [
    "We can use **ifelse** to work with vector"
   ]
  },
  {
   "cell_type": "code",
   "execution_count": 5,
   "id": "17467633-32a3-4497-a447-b028125a94c8",
   "metadata": {},
   "outputs": [
    {
     "data": {
      "text/html": [
       "<style>\n",
       ".list-inline {list-style: none; margin:0; padding: 0}\n",
       ".list-inline>li {display: inline-block}\n",
       ".list-inline>li:not(:last-child)::after {content: \"\\00b7\"; padding: 0 .5ex}\n",
       "</style>\n",
       "<ol class=list-inline><li>'Орёл'</li><li>'Орёл'</li><li>'Орёл'</li><li>'Решка'</li><li>'Орёл'</li><li>'Решка'</li><li>'Орёл'</li><li>'Орёл'</li></ol>\n"
      ],
      "text/latex": [
       "\\begin{enumerate*}\n",
       "\\item 'Орёл'\n",
       "\\item 'Орёл'\n",
       "\\item 'Орёл'\n",
       "\\item 'Решка'\n",
       "\\item 'Орёл'\n",
       "\\item 'Решка'\n",
       "\\item 'Орёл'\n",
       "\\item 'Орёл'\n",
       "\\end{enumerate*}\n"
      ],
      "text/markdown": [
       "1. 'Орёл'\n",
       "2. 'Орёл'\n",
       "3. 'Орёл'\n",
       "4. 'Решка'\n",
       "5. 'Орёл'\n",
       "6. 'Решка'\n",
       "7. 'Орёл'\n",
       "8. 'Орёл'\n",
       "\n",
       "\n"
      ],
      "text/plain": [
       "[1] \"Орёл\"  \"Орёл\"  \"Орёл\"  \"Решка\" \"Орёл\"  \"Решка\" \"Орёл\"  \"Орёл\" "
      ]
     },
     "metadata": {},
     "output_type": "display_data"
    }
   ],
   "source": [
    "ifelse(runif(8) > 0.5, \"Орёл\", \"Решка\")"
   ]
  },
  {
   "cell_type": "markdown",
   "id": "39aa72ee-54bd-4ecf-b8c2-ad5e0a1730fa",
   "metadata": {},
   "source": [
    "### Multiple choice"
   ]
  },
  {
   "cell_type": "code",
   "execution_count": 8,
   "id": "ba830c0c-ca1a-4893-b4ee-538400bb2b0d",
   "metadata": {},
   "outputs": [
    {
     "data": {
      "text/html": [
       "120"
      ],
      "text/latex": [
       "120"
      ],
      "text/markdown": [
       "120"
      ],
      "text/plain": [
       "[1] 120"
      ]
     },
     "metadata": {},
     "output_type": "display_data"
    }
   ],
   "source": [
    "switch(\"factorial\", sum = 5 + 5, product = 5 * 5, factorial = factorial(5), 0)"
   ]
  },
  {
   "cell_type": "markdown",
   "id": "f9b87cfc-9062-4837-963d-d71f8a3b980d",
   "metadata": {},
   "source": [
    "### Loops"
   ]
  },
  {
   "cell_type": "code",
   "execution_count": 9,
   "id": "df0c1ab3-46ab-4bf9-98a3-5bf02d5f0cc4",
   "metadata": {},
   "outputs": [
    {
     "name": "stdout",
     "output_type": "stream",
     "text": [
      "[1] 0.5767684\n",
      "[1] 1.466329\n",
      "[1] 1.511838\n",
      "[1] 1.565317\n",
      "[1] 1.81576\n",
      "[1] 2.807593\n",
      "[1] 3.202676\n",
      "[1] 3.525787\n",
      "[1] 3.865155\n",
      "[1] 4.523999\n",
      "[1] 5.00806\n"
     ]
    }
   ],
   "source": [
    "i <- 0\n",
    "repeat{\n",
    "    i <- i + runif(1)\n",
    "    print(i)\n",
    "    if (i > 5) break\n",
    "    }"
   ]
  },
  {
   "cell_type": "code",
   "execution_count": 10,
   "id": "f5e1f249-37c9-4e0e-bbdd-48daeca6dc63",
   "metadata": {},
   "outputs": [
    {
     "name": "stdout",
     "output_type": "stream",
     "text": [
      "[1] 8192\n",
      "[1] 4096\n",
      "[1] 2048\n",
      "[1] 1024\n",
      "[1] 512\n"
     ]
    }
   ],
   "source": [
    "i <- 2 ^ 14\n",
    "while (i > 1000){\n",
    "    i <- i / 2\n",
    "    print(i)\n",
    "    }"
   ]
  },
  {
   "cell_type": "code",
   "execution_count": 12,
   "id": "53b2fc8b-1748-4f35-a36d-f359dc8b0e67",
   "metadata": {},
   "outputs": [
    {
     "name": "stdout",
     "output_type": "stream",
     "text": [
      "[1] 2\n",
      "[1] 4\n",
      "[1] 6\n",
      "[1] 8\n"
     ]
    }
   ],
   "source": [
    "for (i in 1:8) {\n",
    "    if (i %% 2 == 0) print(i)    \n",
    "}"
   ]
  },
  {
   "cell_type": "code",
   "execution_count": 14,
   "id": "dac56703-1983-49df-ade0-e46496b3c649",
   "metadata": {},
   "outputs": [
    {
     "name": "stdout",
     "output_type": "stream",
     "text": [
      "[1] \"a\"\n",
      "[1] \"c\"\n"
     ]
    }
   ],
   "source": [
    "letters <- c('a', 'b', 'c', 'd')\n",
    "for (i in letters) {\n",
    "    if (i == 'b') next\n",
    "    if (i == 'd') break\n",
    "    print(i)\n",
    "    }"
   ]
  },
  {
   "cell_type": "code",
   "execution_count": 17,
   "id": "6fd2dce6-9b98-47f3-8f4a-cd9398e137f5",
   "metadata": {},
   "outputs": [],
   "source": [
    "set.seed(1337)\n",
    "x <- runif(1e6, min = -1, max = 1)"
   ]
  },
  {
   "cell_type": "code",
   "execution_count": 24,
   "id": "27c5c332-6aef-4d8f-8c3d-c40f220204aa",
   "metadata": {},
   "outputs": [
    {
     "data": {
      "text/html": [
       "249644"
      ],
      "text/latex": [
       "249644"
      ],
      "text/markdown": [
       "249644"
      ],
      "text/plain": [
       "[1] 249644"
      ]
     },
     "metadata": {},
     "output_type": "display_data"
    }
   ],
   "source": [
    "y <- x[x > -0.2 & x < 0.3]\n",
    "length(y)"
   ]
  },
  {
   "cell_type": "markdown",
   "id": "5dcd0221-dc42-4bb1-ac59-07c142706eec",
   "metadata": {},
   "source": [
    "Don't you like either the coin or the \"rocks-paper-scissors\"? Okay, let's play Monopoly, but I don't have a die. Write it yourself!\n",
    "\n",
    "The dice_roll(n) function should produce n independent dice rolls. Acceptable values, of course, range from 1 to 6.\n",
    "\n",
    "Just keep in mind that if the cube is dishonest (not all faces fall out with equal probability), I will check it and I will not sit down to play with you!"
   ]
  },
  {
   "cell_type": "code",
   "execution_count": 28,
   "id": "082796ca-541f-4fd9-838e-cad6e53c2c9d",
   "metadata": {},
   "outputs": [
    {
     "name": "stdout",
     "output_type": "stream",
     "text": [
      " [1] 6 3 3 3 2 5 1 4 1 6\n"
     ]
    }
   ],
   "source": [
    "dice_roll <- function(n) {\n",
    "    x <- sample(1:6, n, replace=TRUE)\n",
    "    print(x)\n",
    "}\n",
    "dice_roll(10)"
   ]
  },
  {
   "cell_type": "markdown",
   "id": "584c4595-14d3-467b-b03f-4c30bf5ab8db",
   "metadata": {},
   "source": [
    "### Package connection"
   ]
  },
  {
   "cell_type": "code",
   "execution_count": 30,
   "id": "6e536659-f7b9-4d91-b469-291a7581251e",
   "metadata": {},
   "outputs": [
    {
     "ename": "ERROR",
     "evalue": "Error in grid.newpage(): не могу найти функцию \"grid.newpage\"\n",
     "output_type": "error",
     "traceback": [
      "Error in grid.newpage(): не могу найти функцию \"grid.newpage\"\nTraceback:\n"
     ]
    }
   ],
   "source": [
    "grid.newpage()"
   ]
  },
  {
   "cell_type": "code",
   "execution_count": 33,
   "id": "52836b49-af90-4d6a-8435-d939ac62cd71",
   "metadata": {},
   "outputs": [
    {
     "data": {
      "image/png": "[encoded data removed]",
      "text/plain": [
       "plot without title"
      ]
     },
     "metadata": {
      "image/png": {
       "height": 420,
       "width": 420
      }
     },
     "output_type": "display_data"
    }
   ],
   "source": [
    "library(grid)\n",
    "grid.newpage()\n",
    "grid.lines()"
   ]
  },
  {
   "cell_type": "code",
   "execution_count": 32,
   "id": "f4f1d1f3-383b-4f5d-98af-7465d399a8c1",
   "metadata": {},
   "outputs": [
    {
     "data": {
      "text/html": [
       "<table class=\"dataframe\">\n",
       "<caption>A matrix: 178 × 16 of type chr</caption>\n",
       "<thead>\n",
       "\t<tr><th></th><th scope=col>Package</th><th scope=col>LibPath</th><th scope=col>Version</th><th scope=col>Priority</th><th scope=col>Depends</th><th scope=col>Imports</th><th scope=col>LinkingTo</th><th scope=col>Suggests</th><th scope=col>Enhances</th><th scope=col>License</th><th scope=col>License_is_FOSS</th><th scope=col>License_restricts_use</th><th scope=col>OS_type</th><th scope=col>MD5sum</th><th scope=col>NeedsCompilation</th><th scope=col>Built</th></tr>\n",
       "</thead>\n",
       "<tbody>\n",
       "\t<tr><th scope=row>askpass</th><td><span style=white-space:pre-wrap>askpass   </span></td><td>/home/Tiris/anaconda3/envs/r-tutorial/lib/R/library</td><td><span style=white-space:pre-wrap>1.2.0   </span></td><td><span style=white-space:pre-wrap>NA  </span></td><td><span style=white-space:pre-wrap>NA                                                 </span></td><td><span style=white-space:pre-wrap>sys (&gt;= 2.1)                                                                                                                                            </span></td><td><span style=white-space:pre-wrap>NA                               </span></td><td><span style=white-space:pre-wrap>testthat                                                                                                                                                                                                                                                                                                                                                                                                                                                                                                                                                                                                                                                                                                                                                           </span></td><td>NA </td><td><span style=white-space:pre-wrap>MIT + file LICENSE         </span></td><td>NA</td><td>NA</td><td>NA</td><td>NA</td><td>yes</td><td>4.3.1</td></tr>\n",
       "\t<tr><th scope=row>backports</th><td>backports </td><td>/home/Tiris/anaconda3/envs/r-tutorial/lib/R/library</td><td><span style=white-space:pre-wrap>1.4.1   </span></td><td><span style=white-space:pre-wrap>NA  </span></td><td><span style=white-space:pre-wrap>R (&gt;= 3.0.0)                                       </span></td><td><span style=white-space:pre-wrap>NA                                                                                                                                                      </span></td><td><span style=white-space:pre-wrap>NA                               </span></td><td><span style=white-space:pre-wrap>NA                                                                                                                                                                                                                                                                                                                                                                                                                                                                                                                                                                                                                                                                                                                                                                 </span></td><td>NA </td><td><span style=white-space:pre-wrap>GPL-2 | GPL-3              </span></td><td>NA</td><td>NA</td><td>NA</td><td>NA</td><td>yes</td><td>4.3.1</td></tr>\n",
       "\t<tr><th scope=row>base</th><td>base      </td><td>/home/Tiris/anaconda3/envs/r-tutorial/lib/R/library</td><td>4.3.1   </td><td>base</td><td>NA                                                 </td><td>NA                                                                                                                                                      </td><td>NA                               </td><td>methods                                                                                                                                                                                                                                                                                                                                                                                                                                                                                                                                                                                                                                                                                                                                                            </td><td>NA </td><td>Part of R 4.3.1            </td><td>NA</td><td>NA</td><td>NA</td><td>NA</td><td>NA </td><td>4.3.1</td></tr>\n",
       "\t<tr><th scope=row>base64enc</th><td>base64enc </td><td>/home/Tiris/anaconda3/envs/r-tutorial/lib/R/library</td><td><span style=white-space:pre-wrap>0.1-3   </span></td><td><span style=white-space:pre-wrap>NA  </span></td><td><span style=white-space:pre-wrap>R (&gt;= 2.9.0)                                       </span></td><td><span style=white-space:pre-wrap>NA                                                                                                                                                      </span></td><td><span style=white-space:pre-wrap>NA                               </span></td><td><span style=white-space:pre-wrap>NA                                                                                                                                                                                                                                                                                                                                                                                                                                                                                                                                                                                                                                                                                                                                                                 </span></td><td>png</td><td><span style=white-space:pre-wrap>GPL-2 | GPL-3              </span></td><td>NA</td><td>NA</td><td>NA</td><td>NA</td><td>yes</td><td>4.3.1</td></tr>\n",
       "\t<tr><th scope=row>bit</th><td><span style=white-space:pre-wrap>bit       </span></td><td>/home/Tiris/anaconda3/envs/r-tutorial/lib/R/library</td><td><span style=white-space:pre-wrap>4.0.5   </span></td><td><span style=white-space:pre-wrap>NA  </span></td><td><span style=white-space:pre-wrap>R (&gt;= 2.9.2)                                       </span></td><td><span style=white-space:pre-wrap>NA                                                                                                                                                      </span></td><td><span style=white-space:pre-wrap>NA                               </span></td><td><span style=white-space:pre-wrap>testthat (&gt;= 0.11.0), roxygen2, knitr, rmarkdown,\n",
       "microbenchmark, bit64 (&gt;= 4.0.0), ff (&gt;= 4.0.0)                                                                                                                                                                                                                                                                                                                                                                                                                                                                                                                                                                                                                                                                 </span></td><td>NA </td><td><span style=white-space:pre-wrap>GPL-2 | GPL-3              </span></td><td>NA</td><td>NA</td><td>NA</td><td>NA</td><td>yes</td><td>4.3.1</td></tr>\n",
       "\t<tr><th scope=row>bit64</th><td><span style=white-space:pre-wrap>bit64     </span></td><td>/home/Tiris/anaconda3/envs/r-tutorial/lib/R/library</td><td><span style=white-space:pre-wrap>4.0.5   </span></td><td><span style=white-space:pre-wrap>NA  </span></td><td>R (&gt;= 3.0.1), bit (&gt;= 4.0.0), utils, methods, stats</td><td><span style=white-space:pre-wrap>NA                                                                                                                                                      </span></td><td><span style=white-space:pre-wrap>NA                               </span></td><td><span style=white-space:pre-wrap>NA                                                                                                                                                                                                                                                                                                                                                                                                                                                                                                                                                                                                                                                                                                                                                                 </span></td><td>NA </td><td><span style=white-space:pre-wrap>GPL-2 | GPL-3              </span></td><td>NA</td><td>NA</td><td>NA</td><td>NA</td><td>yes</td><td>4.3.1</td></tr>\n",
       "\t<tr><th scope=row>blob</th><td><span style=white-space:pre-wrap>blob      </span></td><td>/home/Tiris/anaconda3/envs/r-tutorial/lib/R/library</td><td><span style=white-space:pre-wrap>1.2.4   </span></td><td><span style=white-space:pre-wrap>NA  </span></td><td><span style=white-space:pre-wrap>NA                                                 </span></td><td><span style=white-space:pre-wrap>methods, rlang, vctrs (&gt;= 0.2.1)                                                                                                                        </span></td><td><span style=white-space:pre-wrap>NA                               </span></td><td><span style=white-space:pre-wrap>covr, crayon, pillar (&gt;= 1.2.1), testthat                                                                                                                                                                                                                                                                                                                                                                                                                                                                                                                                                                                                                                                                                                                          </span></td><td>NA </td><td><span style=white-space:pre-wrap>MIT + file LICENSE         </span></td><td>NA</td><td>NA</td><td>NA</td><td>NA</td><td>no </td><td>4.3.1</td></tr>\n",
       "\t<tr><th scope=row>boot</th><td><span style=white-space:pre-wrap>boot      </span></td><td>/home/Tiris/anaconda3/envs/r-tutorial/lib/R/library</td><td>1.3-28.1</td><td><span style=white-space:pre-wrap>NA  </span></td><td><span style=white-space:pre-wrap>R (&gt;= 3.0.0), graphics, stats                      </span></td><td><span style=white-space:pre-wrap>NA                                                                                                                                                      </span></td><td><span style=white-space:pre-wrap>NA                               </span></td><td><span style=white-space:pre-wrap>MASS, survival                                                                                                                                                                                                                                                                                                                                                                                                                                                                                                                                                                                                                                                                                                                                                     </span></td><td>NA </td><td><span style=white-space:pre-wrap>Unlimited                  </span></td><td>NA</td><td>NA</td><td>NA</td><td>NA</td><td>no </td><td>4.3.1</td></tr>\n",
       "\t<tr><th scope=row>broom</th><td><span style=white-space:pre-wrap>broom     </span></td><td>/home/Tiris/anaconda3/envs/r-tutorial/lib/R/library</td><td><span style=white-space:pre-wrap>1.0.5   </span></td><td><span style=white-space:pre-wrap>NA  </span></td><td><span style=white-space:pre-wrap>R (&gt;= 3.5)                                         </span></td><td><span style=white-space:pre-wrap>backports, dplyr (&gt;= 1.0.0), ellipsis, generics (&gt;= 0.0.2),\n",
       "glue, lifecycle, purrr, rlang, stringr, tibble (&gt;= 3.0.0),\n",
       "tidyr (&gt;= 1.0.0)               </span></td><td><span style=white-space:pre-wrap>NA                               </span></td><td>AER, AUC, bbmle, betareg, biglm, binGroup, boot, btergm (&gt;=\n",
       "1.10.6), car, carData, caret, cluster, cmprsk, coda, covr, drc,\n",
       "e1071, emmeans, epiR, ergm (&gt;= 3.10.4), fixest (&gt;= 0.9.0), gam\n",
       "(&gt;= 1.15), gee, geepack, ggplot2, glmnet, glmnetUtils, gmm,\n",
       "Hmisc, irlba, interp, joineRML, Kendall, knitr, ks, Lahman,\n",
       "lavaan, leaps, lfe, lm.beta, lme4, lmodel2, lmtest (&gt;= 0.9.38),\n",
       "lsmeans, maps, margins, MASS, mclust, mediation, metafor, mfx,\n",
       "mgcv, mlogit, modeldata, modeltests, muhaz, multcomp, network,\n",
       "nnet, orcutt (&gt;= 2.2), ordinal, plm, poLCA, psych, quantreg,\n",
       "rmarkdown, robust, robustbase, rsample, sandwich, sp, spdep (&gt;=\n",
       "1.1), spatialreg, speedglm, spelling, survey, survival,\n",
       "systemfit, testthat (&gt;= 2.1.0), tseries, vars, zoo</td><td>NA </td><td><span style=white-space:pre-wrap>MIT + file LICENSE         </span></td><td>NA</td><td>NA</td><td>NA</td><td>NA</td><td>no </td><td>4.3.1</td></tr>\n",
       "\t<tr><th scope=row>bslib</th><td><span style=white-space:pre-wrap>bslib     </span></td><td>/home/Tiris/anaconda3/envs/r-tutorial/lib/R/library</td><td><span style=white-space:pre-wrap>0.5.1   </span></td><td><span style=white-space:pre-wrap>NA  </span></td><td><span style=white-space:pre-wrap>R (&gt;= 2.10)                                        </span></td><td><span style=white-space:pre-wrap>base64enc, cachem, grDevices, htmltools (&gt;= 0.5.4), jquerylib\n",
       "(&gt;= 0.1.3), jsonlite, memoise (&gt;= 2.0.1), mime, rlang, sass (&gt;=\n",
       "0.4.0)                  </span></td><td><span style=white-space:pre-wrap>NA                               </span></td><td><span style=white-space:pre-wrap>bsicons, curl, fontawesome, ggplot2, knitr, magrittr,\n",
       "rappdirs, rmarkdown (&gt;= 2.7), shiny (&gt;= 1.6.0), testthat,\n",
       "thematic, withr                                                                                                                                                                                                                                                                                                                                                                                                                                                                                                                                                                                                                                  </span></td><td>NA </td><td><span style=white-space:pre-wrap>MIT + file LICENSE         </span></td><td>NA</td><td>NA</td><td>NA</td><td>NA</td><td>no </td><td>4.3.1</td></tr>\n",
       "\t<tr><th scope=row>cachem</th><td><span style=white-space:pre-wrap>cachem    </span></td><td>/home/Tiris/anaconda3/envs/r-tutorial/lib/R/library</td><td><span style=white-space:pre-wrap>1.0.8   </span></td><td><span style=white-space:pre-wrap>NA  </span></td><td><span style=white-space:pre-wrap>NA                                                 </span></td><td><span style=white-space:pre-wrap>rlang, fastmap (&gt;= 1.1.1)                                                                                                                               </span></td><td><span style=white-space:pre-wrap>NA                               </span></td><td><span style=white-space:pre-wrap>testthat                                                                                                                                                                                                                                                                                                                                                                                                                                                                                                                                                                                                                                                                                                                                                           </span></td><td>NA </td><td><span style=white-space:pre-wrap>MIT + file LICENSE         </span></td><td>NA</td><td>NA</td><td>NA</td><td>NA</td><td>yes</td><td>4.3.1</td></tr>\n",
       "\t<tr><th scope=row>callr</th><td><span style=white-space:pre-wrap>callr     </span></td><td>/home/Tiris/anaconda3/envs/r-tutorial/lib/R/library</td><td><span style=white-space:pre-wrap>3.7.3   </span></td><td><span style=white-space:pre-wrap>NA  </span></td><td><span style=white-space:pre-wrap>R (&gt;= 3.4)                                         </span></td><td><span style=white-space:pre-wrap>processx (&gt;= 3.6.1), R6, utils                                                                                                                          </span></td><td><span style=white-space:pre-wrap>NA                               </span></td><td><span style=white-space:pre-wrap>asciicast, cli (&gt;= 1.1.0), covr, mockery, ps, rprojroot,\n",
       "spelling, testthat (&gt;= 3.0.0), withr (&gt;= 2.3.0)                                                                                                                                                                                                                                                                                                                                                                                                                                                                                                                                                                                                                                                          </span></td><td>NA </td><td><span style=white-space:pre-wrap>MIT + file LICENSE         </span></td><td>NA</td><td>NA</td><td>NA</td><td>NA</td><td>no </td><td>4.3.1</td></tr>\n",
       "\t<tr><th scope=row>caret</th><td><span style=white-space:pre-wrap>caret     </span></td><td>/home/Tiris/anaconda3/envs/r-tutorial/lib/R/library</td><td><span style=white-space:pre-wrap>6.0-94  </span></td><td><span style=white-space:pre-wrap>NA  </span></td><td><span style=white-space:pre-wrap>ggplot2, lattice (&gt;= 0.20), R (&gt;= 3.2.0)           </span></td><td>e1071, foreach, grDevices, methods, ModelMetrics (&gt;= 1.2.2.2),\n",
       "nlme, plyr, pROC, recipes (&gt;= 0.1.10), reshape2, stats, stats4,\n",
       "utils, withr (&gt;= 2.0.0)</td><td><span style=white-space:pre-wrap>NA                               </span></td><td><span style=white-space:pre-wrap>BradleyTerry2, covr, Cubist, dplyr, earth (&gt;= 2.2-3),\n",
       "ellipse, fastICA, gam (&gt;= 1.15), ipred, kernlab, klaR, knitr,\n",
       "MASS, Matrix, mda, mgcv, mlbench, MLmetrics, nnet, pamr, party\n",
       "(&gt;= 0.9-99992), pls, proxy, randomForest, RANN, rmarkdown,\n",
       "rpart, spls, subselect, superpc, testthat (&gt;= 0.9.1), themis\n",
       "(&gt;= 0.1.3)                                                                                                                                                                                                                                                                                                                                                                                                                                         </span></td><td>NA </td><td><span style=white-space:pre-wrap>GPL (&gt;= 2)                 </span></td><td>NA</td><td>NA</td><td>NA</td><td>NA</td><td>yes</td><td>4.3.1</td></tr>\n",
       "\t<tr><th scope=row>cellranger</th><td>cellranger</td><td>/home/Tiris/anaconda3/envs/r-tutorial/lib/R/library</td><td><span style=white-space:pre-wrap>1.1.0   </span></td><td><span style=white-space:pre-wrap>NA  </span></td><td><span style=white-space:pre-wrap>R (&gt;= 3.0.0)                                       </span></td><td><span style=white-space:pre-wrap>rematch, tibble                                                                                                                                         </span></td><td><span style=white-space:pre-wrap>NA                               </span></td><td><span style=white-space:pre-wrap>covr, testthat (&gt;= 1.0.0), knitr, rmarkdown                                                                                                                                                                                                                                                                                                                                                                                                                                                                                                                                                                                                                                                                                                                        </span></td><td>NA </td><td><span style=white-space:pre-wrap>MIT + file LICENSE         </span></td><td>NA</td><td>NA</td><td>NA</td><td>NA</td><td>no </td><td>4.3.1</td></tr>\n",
       "\t<tr><th scope=row>class</th><td><span style=white-space:pre-wrap>class     </span></td><td>/home/Tiris/anaconda3/envs/r-tutorial/lib/R/library</td><td><span style=white-space:pre-wrap>7.3-22  </span></td><td><span style=white-space:pre-wrap>NA  </span></td><td><span style=white-space:pre-wrap>R (&gt;= 3.0.0), stats, utils                         </span></td><td><span style=white-space:pre-wrap>MASS                                                                                                                                                    </span></td><td><span style=white-space:pre-wrap>NA                               </span></td><td><span style=white-space:pre-wrap>NA                                                                                                                                                                                                                                                                                                                                                                                                                                                                                                                                                                                                                                                                                                                                                                 </span></td><td>NA </td><td><span style=white-space:pre-wrap>GPL-2 | GPL-3              </span></td><td>NA</td><td>NA</td><td>NA</td><td>NA</td><td>yes</td><td>4.3.1</td></tr>\n",
       "\t<tr><th scope=row>cli</th><td><span style=white-space:pre-wrap>cli       </span></td><td>/home/Tiris/anaconda3/envs/r-tutorial/lib/R/library</td><td><span style=white-space:pre-wrap>3.6.1   </span></td><td><span style=white-space:pre-wrap>NA  </span></td><td><span style=white-space:pre-wrap>R (&gt;= 3.4)                                         </span></td><td><span style=white-space:pre-wrap>utils                                                                                                                                                   </span></td><td><span style=white-space:pre-wrap>NA                               </span></td><td><span style=white-space:pre-wrap>callr, covr, crayon, digest, glue (&gt;= 1.6.0), grDevices,\n",
       "htmltools, htmlwidgets, knitr, methods, mockery, processx, ps\n",
       "(&gt;= 1.3.4.9000), rlang (&gt;= 1.0.2.9003), rmarkdown, rprojroot,\n",
       "rstudioapi, testthat, tibble, whoami, withr                                                                                                                                                                                                                                                                                                                                                                                                                                                                                                                                </span></td><td>NA </td><td><span style=white-space:pre-wrap>MIT + file LICENSE         </span></td><td>NA</td><td>NA</td><td>NA</td><td>NA</td><td>yes</td><td>4.3.1</td></tr>\n",
       "\t<tr><th scope=row>clipr</th><td><span style=white-space:pre-wrap>clipr     </span></td><td>/home/Tiris/anaconda3/envs/r-tutorial/lib/R/library</td><td><span style=white-space:pre-wrap>0.8.0   </span></td><td><span style=white-space:pre-wrap>NA  </span></td><td><span style=white-space:pre-wrap>NA                                                 </span></td><td><span style=white-space:pre-wrap>utils                                                                                                                                                   </span></td><td><span style=white-space:pre-wrap>NA                               </span></td><td><span style=white-space:pre-wrap>covr, knitr, rmarkdown, rstudioapi (&gt;= 0.5), testthat (&gt;=\n",
       "2.0.0)                                                                                                                                                                                                                                                                                                                                                                                                                                                                                                                                                                                                                                                                                                  </span></td><td>NA </td><td><span style=white-space:pre-wrap>GPL-3                      </span></td><td>NA</td><td>NA</td><td>NA</td><td>NA</td><td>no </td><td>4.3.1</td></tr>\n",
       "\t<tr><th scope=row>clock</th><td><span style=white-space:pre-wrap>clock     </span></td><td>/home/Tiris/anaconda3/envs/r-tutorial/lib/R/library</td><td><span style=white-space:pre-wrap>0.7.0   </span></td><td><span style=white-space:pre-wrap>NA  </span></td><td><span style=white-space:pre-wrap>R (&gt;= 3.5.0)                                       </span></td><td><span style=white-space:pre-wrap>cli (&gt;= 3.6.1), lifecycle (&gt;= 1.0.3), rlang (&gt;= 1.1.0), tzdb\n",
       "(&gt;= 0.4.0), vctrs (&gt;= 0.6.1)                                                              </span></td><td>cpp11 (&gt;= 0.4.3), tzdb (&gt;= 0.4.0)</td><td><span style=white-space:pre-wrap>covr, knitr, magrittr, pillar, rmarkdown, slider (&gt;= 0.3.0),\n",
       "testthat (&gt;= 3.0.0), withr                                                                                                                                                                                                                                                                                                                                                                                                                                                                                                                                                                                                                                                                           </span></td><td>NA </td><td><span style=white-space:pre-wrap>MIT + file LICENSE         </span></td><td>NA</td><td>NA</td><td>NA</td><td>NA</td><td>yes</td><td>4.3.1</td></tr>\n",
       "\t<tr><th scope=row>cluster</th><td><span style=white-space:pre-wrap>cluster   </span></td><td>/home/Tiris/anaconda3/envs/r-tutorial/lib/R/library</td><td><span style=white-space:pre-wrap>2.1.4   </span></td><td><span style=white-space:pre-wrap>NA  </span></td><td><span style=white-space:pre-wrap>R (&gt;= 3.5.0)                                       </span></td><td><span style=white-space:pre-wrap>graphics, grDevices, stats, utils                                                                                                                       </span></td><td><span style=white-space:pre-wrap>NA                               </span></td><td><span style=white-space:pre-wrap>MASS, Matrix                                                                                                                                                                                                                                                                                                                                                                                                                                                                                                                                                                                                                                                                                                                                                       </span></td><td>NA </td><td><span style=white-space:pre-wrap>GPL (&gt;= 2)                 </span></td><td>NA</td><td>NA</td><td>NA</td><td>NA</td><td>yes</td><td>4.3.1</td></tr>\n",
       "\t<tr><th scope=row>codetools</th><td>codetools </td><td>/home/Tiris/anaconda3/envs/r-tutorial/lib/R/library</td><td><span style=white-space:pre-wrap>0.2-19  </span></td><td><span style=white-space:pre-wrap>NA  </span></td><td><span style=white-space:pre-wrap>R (&gt;= 2.1)                                         </span></td><td><span style=white-space:pre-wrap>NA                                                                                                                                                      </span></td><td><span style=white-space:pre-wrap>NA                               </span></td><td><span style=white-space:pre-wrap>NA                                                                                                                                                                                                                                                                                                                                                                                                                                                                                                                                                                                                                                                                                                                                                                 </span></td><td>NA </td><td><span style=white-space:pre-wrap>GPL                        </span></td><td>NA</td><td>NA</td><td>NA</td><td>NA</td><td>no </td><td>4.3.1</td></tr>\n",
       "\t<tr><th scope=row>colorspace</th><td>colorspace</td><td>/home/Tiris/anaconda3/envs/r-tutorial/lib/R/library</td><td><span style=white-space:pre-wrap>2.1-0   </span></td><td><span style=white-space:pre-wrap>NA  </span></td><td><span style=white-space:pre-wrap>R (&gt;= 3.0.0), methods                              </span></td><td><span style=white-space:pre-wrap>graphics, grDevices, stats                                                                                                                              </span></td><td><span style=white-space:pre-wrap>NA                               </span></td><td><span style=white-space:pre-wrap>datasets, utils, KernSmooth, MASS, kernlab, mvtnorm, vcd,\n",
       "tcltk, shiny, shinyjs, ggplot2, dplyr, scales, grid, png, jpeg,\n",
       "knitr, rmarkdown, RColorBrewer, rcartocolor, scico, viridis,\n",
       "wesanderson                                                                                                                                                                                                                                                                                                                                                                                                                                                                                                                                                              </span></td><td>NA </td><td>BSD_3_clause + file LICENSE</td><td>NA</td><td>NA</td><td>NA</td><td>NA</td><td>yes</td><td>4.3.1</td></tr>\n",
       "\t<tr><th scope=row>commonmark</th><td>commonmark</td><td>/home/Tiris/anaconda3/envs/r-tutorial/lib/R/library</td><td>1.9.0   </td><td>NA  </td><td>NA                                                 </td><td>NA                                                                                                                                                      </td><td>NA                               </td><td>curl, testthat, xml2                                                                                                                                                                                                                                                                                                                                                                                                                                                                                                                                                                                                                                                                                                                                               </td><td>NA </td><td>BSD_2_clause + file LICENSE</td><td>NA</td><td>NA</td><td>NA</td><td>NA</td><td>yes</td><td>4.3.1</td></tr>\n",
       "\t<tr><th scope=row>compiler</th><td>compiler  </td><td>/home/Tiris/anaconda3/envs/r-tutorial/lib/R/library</td><td>4.3.1   </td><td>base</td><td>NA                                                 </td><td>NA                                                                                                                                                      </td><td>NA                               </td><td>NA                                                                                                                                                                                                                                                                                                                                                                                                                                                                                                                                                                                                                                                                                                                                                                 </td><td>NA </td><td>Part of R 4.3.1            </td><td>NA</td><td>NA</td><td>NA</td><td>NA</td><td>NA </td><td>4.3.1</td></tr>\n",
       "\t<tr><th scope=row>conflicted</th><td>conflicted</td><td>/home/Tiris/anaconda3/envs/r-tutorial/lib/R/library</td><td><span style=white-space:pre-wrap>1.2.0   </span></td><td><span style=white-space:pre-wrap>NA  </span></td><td><span style=white-space:pre-wrap>R (&gt;= 3.2)                                         </span></td><td><span style=white-space:pre-wrap>cli (&gt;= 3.4.0), memoise, rlang (&gt;= 1.0.0)                                                                                                               </span></td><td><span style=white-space:pre-wrap>NA                               </span></td><td><span style=white-space:pre-wrap>callr, covr, dplyr, Matrix, methods, pkgload, testthat (&gt;=\n",
       "3.0.0), withr                                                                                                                                                                                                                                                                                                                                                                                                                                                                                                                                                                                                                                                                                          </span></td><td>NA </td><td><span style=white-space:pre-wrap>MIT + file LICENSE         </span></td><td>NA</td><td>NA</td><td>NA</td><td>NA</td><td>no </td><td>4.3.1</td></tr>\n",
       "\t<tr><th scope=row>cpp11</th><td><span style=white-space:pre-wrap>cpp11     </span></td><td>/home/Tiris/anaconda3/envs/r-tutorial/lib/R/library</td><td><span style=white-space:pre-wrap>0.4.6   </span></td><td><span style=white-space:pre-wrap>NA  </span></td><td><span style=white-space:pre-wrap>R (&gt;= 3.5.0)                                       </span></td><td><span style=white-space:pre-wrap>NA                                                                                                                                                      </span></td><td><span style=white-space:pre-wrap>NA                               </span></td><td><span style=white-space:pre-wrap>bench, brio, callr, cli, covr, decor, desc, ggplot2, glue,\n",
       "knitr, lobstr, mockery, progress, rmarkdown, scales, Rcpp,\n",
       "testthat, tibble, utils, vctrs, withr                                                                                                                                                                                                                                                                                                                                                                                                                                                                                                                                                                                                      </span></td><td>NA </td><td><span style=white-space:pre-wrap>MIT + file LICENSE         </span></td><td>NA</td><td>NA</td><td>NA</td><td>NA</td><td>no </td><td>4.3.1</td></tr>\n",
       "\t<tr><th scope=row>crayon</th><td>crayon    </td><td>/home/Tiris/anaconda3/envs/r-tutorial/lib/R/library</td><td>1.5.2   </td><td>NA  </td><td>NA                                                 </td><td>grDevices, methods, utils                                                                                                                               </td><td>NA                               </td><td>mockery, rstudioapi, testthat, withr                                                                                                                                                                                                                                                                                                                                                                                                                                                                                                                                                                                                                                                                                                                               </td><td>NA </td><td>MIT + file LICENSE         </td><td>NA</td><td>NA</td><td>NA</td><td>NA</td><td>no </td><td>4.3.1</td></tr>\n",
       "\t<tr><th scope=row>curl</th><td><span style=white-space:pre-wrap>curl      </span></td><td>/home/Tiris/anaconda3/envs/r-tutorial/lib/R/library</td><td><span style=white-space:pre-wrap>5.1.0   </span></td><td><span style=white-space:pre-wrap>NA  </span></td><td><span style=white-space:pre-wrap>R (&gt;= 3.0.0)                                       </span></td><td><span style=white-space:pre-wrap>NA                                                                                                                                                      </span></td><td><span style=white-space:pre-wrap>NA                               </span></td><td><span style=white-space:pre-wrap>spelling, testthat (&gt;= 1.0.0), knitr, jsonlite, rmarkdown,\n",
       "magrittr, httpuv (&gt;= 1.4.4), webutils                                                                                                                                                                                                                                                                                                                                                                                                                                                                                                                                                                                                                                                                  </span></td><td>NA </td><td><span style=white-space:pre-wrap>MIT + file LICENSE         </span></td><td>NA</td><td>NA</td><td>NA</td><td>NA</td><td>yes</td><td>4.3.1</td></tr>\n",
       "\t<tr><th scope=row>data.table</th><td>data.table</td><td>/home/Tiris/anaconda3/envs/r-tutorial/lib/R/library</td><td><span style=white-space:pre-wrap>1.14.8  </span></td><td><span style=white-space:pre-wrap>NA  </span></td><td><span style=white-space:pre-wrap>R (&gt;= 3.1.0)                                       </span></td><td><span style=white-space:pre-wrap>methods                                                                                                                                                 </span></td><td><span style=white-space:pre-wrap>NA                               </span></td><td><span style=white-space:pre-wrap>bit64 (&gt;= 4.0.0), bit (&gt;= 4.0.4), curl, R.utils, xts,\n",
       "nanotime, zoo (&gt;= 1.8-1), yaml, knitr, rmarkdown                                                                                                                                                                                                                                                                                                                                                                                                                                                                                                                                                                                                                                                            </span></td><td>NA </td><td><span style=white-space:pre-wrap>MPL-2.0 | file LICENSE     </span></td><td>NA</td><td>NA</td><td>NA</td><td>NA</td><td>yes</td><td>4.3.1</td></tr>\n",
       "\t<tr><th scope=row>datasets</th><td>datasets  </td><td>/home/Tiris/anaconda3/envs/r-tutorial/lib/R/library</td><td>4.3.1   </td><td>base</td><td>NA                                                 </td><td>NA                                                                                                                                                      </td><td>NA                               </td><td>NA                                                                                                                                                                                                                                                                                                                                                                                                                                                                                                                                                                                                                                                                                                                                                                 </td><td>NA </td><td>Part of R 4.3.1            </td><td>NA</td><td>NA</td><td>NA</td><td>NA</td><td>NA </td><td>4.3.1</td></tr>\n",
       "\t<tr><th scope=row>DBI</th><td><span style=white-space:pre-wrap>DBI       </span></td><td>/home/Tiris/anaconda3/envs/r-tutorial/lib/R/library</td><td><span style=white-space:pre-wrap>1.1.3   </span></td><td><span style=white-space:pre-wrap>NA  </span></td><td><span style=white-space:pre-wrap>methods, R (&gt;= 3.0.0)                              </span></td><td><span style=white-space:pre-wrap>NA                                                                                                                                                      </span></td><td><span style=white-space:pre-wrap>NA                               </span></td><td><span style=white-space:pre-wrap>blob, covr, DBItest, dbplyr, downlit, dplyr, glue, hms,\n",
       "knitr, magrittr, RMariaDB, rmarkdown, rprojroot, RSQLite (&gt;=\n",
       "1.1-2), testthat, xml2                                                                                                                                                                                                                                                                                                                                                                                                                                                                                                                                                                                                                      </span></td><td>NA </td><td><span style=white-space:pre-wrap>LGPL (&gt;= 2.1)              </span></td><td>NA</td><td>NA</td><td>NA</td><td>NA</td><td>no </td><td>4.3.1</td></tr>\n",
       "\t<tr><th scope=row>⋮</th><td>⋮</td><td>⋮</td><td>⋮</td><td>⋮</td><td>⋮</td><td>⋮</td><td>⋮</td><td>⋮</td><td>⋮</td><td>⋮</td><td>⋮</td><td>⋮</td><td>⋮</td><td>⋮</td><td>⋮</td><td>⋮</td></tr>\n",
       "\t<tr><th scope=row>stringi</th><td><span style=white-space:pre-wrap>stringi    </span></td><td>/home/Tiris/anaconda3/envs/r-tutorial/lib/R/library</td><td><span style=white-space:pre-wrap>1.7.12  </span></td><td><span style=white-space:pre-wrap>NA  </span></td><td><span style=white-space:pre-wrap>R (&gt;= 3.1)                   </span></td><td><span style=white-space:pre-wrap>tools, utils, stats                                                                                                                                                                                                                                                                                                                                                                                                                                                                                                                                                                                        </span></td><td><span style=white-space:pre-wrap>NA                                                    </span></td><td><span style=white-space:pre-wrap>NA                                                                                                                                                                                                                                                                </span></td><td><span style=white-space:pre-wrap>NA      </span></td><td><span style=white-space:pre-wrap>file LICENSE                          </span></td><td>yes</td><td>NA</td><td>NA</td><td>NA</td><td>yes</td><td>4.3.1</td></tr>\n",
       "\t<tr><th scope=row>stringr</th><td><span style=white-space:pre-wrap>stringr    </span></td><td>/home/Tiris/anaconda3/envs/r-tutorial/lib/R/library</td><td><span style=white-space:pre-wrap>1.5.0   </span></td><td><span style=white-space:pre-wrap>NA  </span></td><td><span style=white-space:pre-wrap>R (&gt;= 3.3)                   </span></td><td><span style=white-space:pre-wrap>cli, glue (&gt;= 1.6.1), lifecycle (&gt;= 1.0.3), magrittr, rlang\n",
       "(&gt;= 1.0.0), stringi (&gt;= 1.5.3), vctrs                                                                                                                                                                                                                                                                                                                                                                                                                                                                                                         </span></td><td><span style=white-space:pre-wrap>NA                                                    </span></td><td><span style=white-space:pre-wrap>covr, htmltools, htmlwidgets, knitr, rmarkdown, testthat (&gt;=\n",
       "3.0.0)                                                                                                                                                                                              </span></td><td><span style=white-space:pre-wrap>NA      </span></td><td><span style=white-space:pre-wrap>MIT + file LICENSE                    </span></td><td>NA </td><td>NA</td><td>NA</td><td>NA</td><td>no </td><td>4.3.1</td></tr>\n",
       "\t<tr><th scope=row>survival</th><td><span style=white-space:pre-wrap>survival   </span></td><td>/home/Tiris/anaconda3/envs/r-tutorial/lib/R/library</td><td><span style=white-space:pre-wrap>3.5-7   </span></td><td><span style=white-space:pre-wrap>NA  </span></td><td><span style=white-space:pre-wrap>R (&gt;= 3.5.0)                 </span></td><td><span style=white-space:pre-wrap>graphics, Matrix, methods, splines, stats, utils                                                                                                                                                                                                                                                                                                                                                                                                                                                                                                                                                           </span></td><td><span style=white-space:pre-wrap>NA                                                    </span></td><td><span style=white-space:pre-wrap>NA                                                                                                                                                                                                                                                                </span></td><td><span style=white-space:pre-wrap>NA      </span></td><td><span style=white-space:pre-wrap>LGPL (&gt;= 2)                           </span></td><td>NA </td><td>NA</td><td>NA</td><td>NA</td><td>yes</td><td>4.3.1</td></tr>\n",
       "\t<tr><th scope=row>sys</th><td><span style=white-space:pre-wrap>sys        </span></td><td>/home/Tiris/anaconda3/envs/r-tutorial/lib/R/library</td><td><span style=white-space:pre-wrap>3.4.2   </span></td><td><span style=white-space:pre-wrap>NA  </span></td><td><span style=white-space:pre-wrap>NA                           </span></td><td><span style=white-space:pre-wrap>NA                                                                                                                                                                                                                                                                                                                                                                                                                                                                                                                                                                                                         </span></td><td><span style=white-space:pre-wrap>NA                                                    </span></td><td><span style=white-space:pre-wrap>unix (&gt;= 1.4), spelling, testthat                                                                                                                                                                                                                                 </span></td><td><span style=white-space:pre-wrap>NA      </span></td><td><span style=white-space:pre-wrap>MIT + file LICENSE                    </span></td><td>NA </td><td>NA</td><td>NA</td><td>NA</td><td>yes</td><td>4.3.1</td></tr>\n",
       "\t<tr><th scope=row>systemfonts</th><td>systemfonts</td><td>/home/Tiris/anaconda3/envs/r-tutorial/lib/R/library</td><td><span style=white-space:pre-wrap>1.0.5   </span></td><td><span style=white-space:pre-wrap>NA  </span></td><td><span style=white-space:pre-wrap>R (&gt;= 3.2.0)                 </span></td><td><span style=white-space:pre-wrap>NA                                                                                                                                                                                                                                                                                                                                                                                                                                                                                                                                                                                                         </span></td><td><span style=white-space:pre-wrap>cpp11 (&gt;= 0.2.1)                                      </span></td><td><span style=white-space:pre-wrap>covr, knitr, rmarkdown, testthat (&gt;= 2.1.0), tools                                                                                                                                                                                                                </span></td><td><span style=white-space:pre-wrap>NA      </span></td><td><span style=white-space:pre-wrap>MIT + file LICENSE                    </span></td><td>NA </td><td>NA</td><td>NA</td><td>NA</td><td>yes</td><td>4.3.1</td></tr>\n",
       "\t<tr><th scope=row>tcltk</th><td>tcltk      </td><td>/home/Tiris/anaconda3/envs/r-tutorial/lib/R/library</td><td>4.3.1   </td><td>base</td><td>NA                           </td><td>utils                                                                                                                                                                                                                                                                                                                                                                                                                                                                                                                                                                                                      </td><td>NA                                                    </td><td>NA                                                                                                                                                                                                                                                                </td><td>NA      </td><td>Part of R 4.3.1                       </td><td>NA </td><td>NA</td><td>NA</td><td>NA</td><td>yes</td><td>4.3.1</td></tr>\n",
       "\t<tr><th scope=row>textshaping</th><td>textshaping</td><td>/home/Tiris/anaconda3/envs/r-tutorial/lib/R/library</td><td><span style=white-space:pre-wrap>0.3.7   </span></td><td><span style=white-space:pre-wrap>NA  </span></td><td><span style=white-space:pre-wrap>R (&gt;= 3.2.0)                 </span></td><td><span style=white-space:pre-wrap>systemfonts (&gt;= 1.0.0)                                                                                                                                                                                                                                                                                                                                                                                                                                                                                                                                                                                     </span></td><td><span style=white-space:pre-wrap>cpp11 (&gt;= 0.2.1), systemfonts (&gt;= 1.0.0)              </span></td><td><span style=white-space:pre-wrap>covr, knitr, rmarkdown                                                                                                                                                                                                                                            </span></td><td><span style=white-space:pre-wrap>NA      </span></td><td><span style=white-space:pre-wrap>MIT + file LICENSE                    </span></td><td>NA </td><td>NA</td><td>NA</td><td>NA</td><td>yes</td><td>4.3.1</td></tr>\n",
       "\t<tr><th scope=row>tibble</th><td><span style=white-space:pre-wrap>tibble     </span></td><td>/home/Tiris/anaconda3/envs/r-tutorial/lib/R/library</td><td><span style=white-space:pre-wrap>3.2.1   </span></td><td><span style=white-space:pre-wrap>NA  </span></td><td><span style=white-space:pre-wrap>R (&gt;= 3.4.0)                 </span></td><td><span style=white-space:pre-wrap>fansi (&gt;= 0.4.0), lifecycle (&gt;= 1.0.0), magrittr, methods,\n",
       "pillar (&gt;= 1.8.1), pkgconfig, rlang (&gt;= 1.0.2), utils, vctrs\n",
       "(&gt;= 0.4.2)                                                                                                                                                                                                                                                                                                                                                                                                                                                                       </span></td><td><span style=white-space:pre-wrap>NA                                                    </span></td><td>bench, bit64, blob, brio, callr, cli, covr, crayon (&gt;=\n",
       "1.3.4), DiagrammeR, dplyr, evaluate, formattable, ggplot2,\n",
       "here, hms, htmltools, knitr, lubridate, mockr, nycflights13,\n",
       "pkgbuild, pkgload, purrr, rmarkdown, stringi, testthat (&gt;=\n",
       "3.0.2), tidyr, withr</td><td><span style=white-space:pre-wrap>NA      </span></td><td><span style=white-space:pre-wrap>MIT + file LICENSE                    </span></td><td>NA </td><td>NA</td><td>NA</td><td>NA</td><td>yes</td><td>4.3.1</td></tr>\n",
       "\t<tr><th scope=row>tidyr</th><td><span style=white-space:pre-wrap>tidyr      </span></td><td>/home/Tiris/anaconda3/envs/r-tutorial/lib/R/library</td><td><span style=white-space:pre-wrap>1.3.0   </span></td><td><span style=white-space:pre-wrap>NA  </span></td><td><span style=white-space:pre-wrap>R (&gt;= 3.4.0)                 </span></td><td><span style=white-space:pre-wrap>cli (&gt;= 3.4.1), dplyr (&gt;= 1.0.10), glue, lifecycle (&gt;= 1.0.3),\n",
       "magrittr, purrr (&gt;= 1.0.1), rlang (&gt;= 1.0.4), stringr (&gt;=\n",
       "1.5.0), tibble (&gt;= 2.1.1), tidyselect (&gt;= 1.2.0), utils, vctrs\n",
       "(&gt;= 0.5.2)                                                                                                                                                                                                                                                                                                                                                                                                      </span></td><td><span style=white-space:pre-wrap>cpp11 (&gt;= 0.4.0)                                      </span></td><td><span style=white-space:pre-wrap>covr, data.table, knitr, readr, repurrrsive (&gt;= 1.1.0),\n",
       "rmarkdown, testthat (&gt;= 3.0.0)                                                                                                                                                                           </span></td><td><span style=white-space:pre-wrap>NA      </span></td><td><span style=white-space:pre-wrap>MIT + file LICENSE                    </span></td><td>NA </td><td>NA</td><td>NA</td><td>NA</td><td>yes</td><td>4.3.1</td></tr>\n",
       "\t<tr><th scope=row>tidyselect</th><td>tidyselect </td><td>/home/Tiris/anaconda3/envs/r-tutorial/lib/R/library</td><td><span style=white-space:pre-wrap>1.2.0   </span></td><td><span style=white-space:pre-wrap>NA  </span></td><td><span style=white-space:pre-wrap>R (&gt;= 3.4)                   </span></td><td><span style=white-space:pre-wrap>cli (&gt;= 3.3.0), glue (&gt;= 1.3.0), lifecycle (&gt;= 1.0.3), rlang\n",
       "(&gt;= 1.0.4), vctrs (&gt;= 0.4.1), withr                                                                                                                                                                                                                                                                                                                                                                                                                                                                                                          </span></td><td><span style=white-space:pre-wrap>NA                                                    </span></td><td><span style=white-space:pre-wrap>covr, crayon, dplyr, knitr, magrittr, rmarkdown, stringr,\n",
       "testthat (&gt;= 3.1.1), tibble (&gt;= 2.1.3)                                                                                                                                                                 </span></td><td><span style=white-space:pre-wrap>NA      </span></td><td><span style=white-space:pre-wrap>MIT + file LICENSE                    </span></td><td>NA </td><td>NA</td><td>NA</td><td>NA</td><td>no </td><td>4.3.1</td></tr>\n",
       "\t<tr><th scope=row>tidyverse</th><td><span style=white-space:pre-wrap>tidyverse  </span></td><td>/home/Tiris/anaconda3/envs/r-tutorial/lib/R/library</td><td><span style=white-space:pre-wrap>2.0.0   </span></td><td><span style=white-space:pre-wrap>NA  </span></td><td><span style=white-space:pre-wrap>R (&gt;= 3.3)                   </span></td><td>broom (&gt;= 1.0.3), conflicted (&gt;= 1.2.0), cli (&gt;= 3.6.0),\n",
       "dbplyr (&gt;= 2.3.0), dplyr (&gt;= 1.1.0), dtplyr (&gt;= 1.2.2), forcats\n",
       "(&gt;= 1.0.0), ggplot2 (&gt;= 3.4.1), googledrive (&gt;= 2.0.0),\n",
       "googlesheets4 (&gt;= 1.0.1), haven (&gt;= 2.5.1), hms (&gt;= 1.1.2),\n",
       "httr (&gt;= 1.4.4), jsonlite (&gt;= 1.8.4), lubridate (&gt;= 1.9.2),\n",
       "magrittr (&gt;= 2.0.3), modelr (&gt;= 0.1.10), pillar (&gt;= 1.8.1),\n",
       "purrr (&gt;= 1.0.1), ragg (&gt;= 1.2.5), readr (&gt;= 2.1.4), readxl (&gt;=\n",
       "1.4.2), reprex (&gt;= 2.0.2), rlang (&gt;= 1.0.6), rstudioapi (&gt;=\n",
       "0.14), rvest (&gt;= 1.0.3), stringr (&gt;= 1.5.0), tibble (&gt;= 3.1.8),\n",
       "tidyr (&gt;= 1.3.0), xml2 (&gt;= 1.3.3)</td><td><span style=white-space:pre-wrap>NA                                                    </span></td><td><span style=white-space:pre-wrap>covr (&gt;= 3.6.1), feather (&gt;= 0.3.5), glue (&gt;= 1.6.2), mockr\n",
       "(&gt;= 0.2.0), knitr (&gt;= 1.41), rmarkdown (&gt;= 2.20), testthat (&gt;=\n",
       "3.1.6)                                                                                                                               </span></td><td><span style=white-space:pre-wrap>NA      </span></td><td><span style=white-space:pre-wrap>MIT + file LICENSE                    </span></td><td>NA </td><td>NA</td><td>NA</td><td>NA</td><td>no </td><td>4.3.1</td></tr>\n",
       "\t<tr><th scope=row>timechange</th><td>timechange </td><td>/home/Tiris/anaconda3/envs/r-tutorial/lib/R/library</td><td><span style=white-space:pre-wrap>0.2.0   </span></td><td><span style=white-space:pre-wrap>NA  </span></td><td><span style=white-space:pre-wrap>R (&gt;= 3.3)                   </span></td><td><span style=white-space:pre-wrap>NA                                                                                                                                                                                                                                                                                                                                                                                                                                                                                                                                                                                                         </span></td><td><span style=white-space:pre-wrap>cpp11 (&gt;= 0.2.7)                                      </span></td><td><span style=white-space:pre-wrap>testthat (&gt;= 0.7.1.99), knitr                                                                                                                                                                                                                                     </span></td><td><span style=white-space:pre-wrap>NA      </span></td><td><span style=white-space:pre-wrap>GPL-3                                 </span></td><td>NA </td><td>NA</td><td>NA</td><td>NA</td><td>yes</td><td>4.3.1</td></tr>\n",
       "\t<tr><th scope=row>timeDate</th><td><span style=white-space:pre-wrap>timeDate   </span></td><td>/home/Tiris/anaconda3/envs/r-tutorial/lib/R/library</td><td>4022.108</td><td><span style=white-space:pre-wrap>NA  </span></td><td><span style=white-space:pre-wrap>R (&gt;= 3.6.0)                 </span></td><td><span style=white-space:pre-wrap>graphics, utils, stats, methods                                                                                                                                                                                                                                                                                                                                                                                                                                                                                                                                                                            </span></td><td><span style=white-space:pre-wrap>NA                                                    </span></td><td><span style=white-space:pre-wrap>RUnit                                                                                                                                                                                                                                                             </span></td><td><span style=white-space:pre-wrap>NA      </span></td><td><span style=white-space:pre-wrap>GPL (&gt;= 2)                            </span></td><td>NA </td><td>NA</td><td>NA</td><td>NA</td><td>no </td><td>4.3.1</td></tr>\n",
       "\t<tr><th scope=row>tinytex</th><td><span style=white-space:pre-wrap>tinytex    </span></td><td>/home/Tiris/anaconda3/envs/r-tutorial/lib/R/library</td><td><span style=white-space:pre-wrap>0.48    </span></td><td><span style=white-space:pre-wrap>NA  </span></td><td><span style=white-space:pre-wrap>NA                           </span></td><td><span style=white-space:pre-wrap>xfun (&gt;= 0.29)                                                                                                                                                                                                                                                                                                                                                                                                                                                                                                                                                                                             </span></td><td><span style=white-space:pre-wrap>NA                                                    </span></td><td><span style=white-space:pre-wrap>testit, rstudioapi                                                                                                                                                                                                                                                </span></td><td><span style=white-space:pre-wrap>NA      </span></td><td><span style=white-space:pre-wrap>MIT + file LICENSE                    </span></td><td>NA </td><td>NA</td><td>NA</td><td>NA</td><td>no </td><td>4.3.1</td></tr>\n",
       "\t<tr><th scope=row>tools</th><td>tools      </td><td>/home/Tiris/anaconda3/envs/r-tutorial/lib/R/library</td><td>4.3.1   </td><td>base</td><td>NA                           </td><td>NA                                                                                                                                                                                                                                                                                                                                                                                                                                                                                                                                                                                                         </td><td>NA                                                    </td><td>codetools, methods, xml2, curl, commonmark, knitr, xfun,\n",
       "mathjaxr, V8                                                                                                                                                                                            </td><td>NA      </td><td>Part of R 4.3.1                       </td><td>NA </td><td>NA</td><td>NA</td><td>NA</td><td>yes</td><td>4.3.1</td></tr>\n",
       "\t<tr><th scope=row>TTR</th><td><span style=white-space:pre-wrap>TTR        </span></td><td>/home/Tiris/anaconda3/envs/r-tutorial/lib/R/library</td><td><span style=white-space:pre-wrap>0.24.3  </span></td><td><span style=white-space:pre-wrap>NA  </span></td><td><span style=white-space:pre-wrap>NA                           </span></td><td><span style=white-space:pre-wrap>xts (&gt;= 0.10-0), zoo, curl                                                                                                                                                                                                                                                                                                                                                                                                                                                                                                                                                                                 </span></td><td><span style=white-space:pre-wrap>xts                                                   </span></td><td><span style=white-space:pre-wrap>RUnit                                                                                                                                                                                                                                                             </span></td><td>quantmod</td><td><span style=white-space:pre-wrap>GPL (&gt;= 2)                            </span></td><td>NA </td><td>NA</td><td>NA</td><td>NA</td><td>yes</td><td>4.3.1</td></tr>\n",
       "\t<tr><th scope=row>tzdb</th><td><span style=white-space:pre-wrap>tzdb       </span></td><td>/home/Tiris/anaconda3/envs/r-tutorial/lib/R/library</td><td><span style=white-space:pre-wrap>0.4.0   </span></td><td><span style=white-space:pre-wrap>NA  </span></td><td><span style=white-space:pre-wrap>R (&gt;= 3.5.0)                 </span></td><td><span style=white-space:pre-wrap>NA                                                                                                                                                                                                                                                                                                                                                                                                                                                                                                                                                                                                         </span></td><td><span style=white-space:pre-wrap>cpp11 (&gt;= 0.4.2)                                      </span></td><td><span style=white-space:pre-wrap>covr, testthat (&gt;= 3.0.0)                                                                                                                                                                                                                                         </span></td><td><span style=white-space:pre-wrap>NA      </span></td><td><span style=white-space:pre-wrap>MIT + file LICENSE                    </span></td><td>NA </td><td>NA</td><td>NA</td><td>NA</td><td>yes</td><td>4.3.1</td></tr>\n",
       "\t<tr><th scope=row>utf8</th><td><span style=white-space:pre-wrap>utf8       </span></td><td>/home/Tiris/anaconda3/envs/r-tutorial/lib/R/library</td><td><span style=white-space:pre-wrap>1.2.4   </span></td><td><span style=white-space:pre-wrap>NA  </span></td><td><span style=white-space:pre-wrap>R (&gt;= 2.10)                  </span></td><td><span style=white-space:pre-wrap>NA                                                                                                                                                                                                                                                                                                                                                                                                                                                                                                                                                                                                         </span></td><td><span style=white-space:pre-wrap>NA                                                    </span></td><td><span style=white-space:pre-wrap>cli, covr, knitr, rlang, rmarkdown, testthat (&gt;= 3.0.0),\n",
       "withr                                                                                                                                                                                                   </span></td><td><span style=white-space:pre-wrap>NA      </span></td><td>Apache License (== 2.0) | file LICENSE</td><td>NA </td><td>NA</td><td>NA</td><td>NA</td><td>yes</td><td>4.3.1</td></tr>\n",
       "\t<tr><th scope=row>utils</th><td>utils      </td><td>/home/Tiris/anaconda3/envs/r-tutorial/lib/R/library</td><td>4.3.1   </td><td>base</td><td>NA                           </td><td>NA                                                                                                                                                                                                                                                                                                                                                                                                                                                                                                                                                                                                         </td><td>NA                                                    </td><td>methods, xml2, commonmark, knitr                                                                                                                                                                                                                                  </td><td>NA      </td><td>Part of R 4.3.1                       </td><td>NA </td><td>NA</td><td>NA</td><td>NA</td><td>yes</td><td>4.3.1</td></tr>\n",
       "\t<tr><th scope=row>uuid</th><td><span style=white-space:pre-wrap>uuid       </span></td><td>/home/Tiris/anaconda3/envs/r-tutorial/lib/R/library</td><td><span style=white-space:pre-wrap>1.1-1   </span></td><td><span style=white-space:pre-wrap>NA  </span></td><td><span style=white-space:pre-wrap>R (&gt;= 2.9.0)                 </span></td><td><span style=white-space:pre-wrap>NA                                                                                                                                                                                                                                                                                                                                                                                                                                                                                                                                                                                                         </span></td><td><span style=white-space:pre-wrap>NA                                                    </span></td><td><span style=white-space:pre-wrap>NA                                                                                                                                                                                                                                                                </span></td><td><span style=white-space:pre-wrap>NA      </span></td><td><span style=white-space:pre-wrap>MIT + file LICENSE                    </span></td><td>NA </td><td>NA</td><td>NA</td><td>NA</td><td>yes</td><td>4.3.1</td></tr>\n",
       "\t<tr><th scope=row>vctrs</th><td><span style=white-space:pre-wrap>vctrs      </span></td><td>/home/Tiris/anaconda3/envs/r-tutorial/lib/R/library</td><td><span style=white-space:pre-wrap>0.6.4   </span></td><td><span style=white-space:pre-wrap>NA  </span></td><td><span style=white-space:pre-wrap>R (&gt;= 3.5.0)                 </span></td><td><span style=white-space:pre-wrap>cli (&gt;= 3.4.0), glue, lifecycle (&gt;= 1.0.3), rlang (&gt;= 1.1.0)                                                                                                                                                                                                                                                                                                                                                                                                                                                                                                                                               </span></td><td><span style=white-space:pre-wrap>NA                                                    </span></td><td><span style=white-space:pre-wrap>bit64, covr, crayon, dplyr (&gt;= 0.8.5), generics, knitr,\n",
       "pillar (&gt;= 1.4.4), pkgdown (&gt;= 2.0.1), rmarkdown, testthat (&gt;=\n",
       "3.0.0), tibble (&gt;= 3.1.3), waldo (&gt;= 0.2.0), withr, xml2,\n",
       "zeallot                                                                       </span></td><td><span style=white-space:pre-wrap>NA      </span></td><td><span style=white-space:pre-wrap>MIT + file LICENSE                    </span></td><td>NA </td><td>NA</td><td>NA</td><td>NA</td><td>yes</td><td>4.3.1</td></tr>\n",
       "\t<tr><th scope=row>viridisLite</th><td>viridisLite</td><td>/home/Tiris/anaconda3/envs/r-tutorial/lib/R/library</td><td><span style=white-space:pre-wrap>0.4.2   </span></td><td><span style=white-space:pre-wrap>NA  </span></td><td><span style=white-space:pre-wrap>R (&gt;= 2.10)                  </span></td><td><span style=white-space:pre-wrap>NA                                                                                                                                                                                                                                                                                                                                                                                                                                                                                                                                                                                                         </span></td><td><span style=white-space:pre-wrap>NA                                                    </span></td><td><span style=white-space:pre-wrap>hexbin (&gt;= 1.27.0), ggplot2 (&gt;= 1.0.1), testthat, covr                                                                                                                                                                                                            </span></td><td><span style=white-space:pre-wrap>NA      </span></td><td><span style=white-space:pre-wrap>MIT + file LICENSE                    </span></td><td>NA </td><td>NA</td><td>NA</td><td>NA</td><td>no </td><td>4.3.1</td></tr>\n",
       "\t<tr><th scope=row>vroom</th><td><span style=white-space:pre-wrap>vroom      </span></td><td>/home/Tiris/anaconda3/envs/r-tutorial/lib/R/library</td><td><span style=white-space:pre-wrap>1.6.4   </span></td><td><span style=white-space:pre-wrap>NA  </span></td><td><span style=white-space:pre-wrap>R (&gt;= 3.6)                   </span></td><td><span style=white-space:pre-wrap>bit64, cli (&gt;= 3.2.0), crayon, glue, hms, lifecycle (&gt;=\n",
       "1.0.3), methods, rlang (&gt;= 0.4.2), stats, tibble (&gt;= 2.0.0),\n",
       "tidyselect, tzdb (&gt;= 0.1.1), vctrs (&gt;= 0.2.0), withr                                                                                                                                                                                                                                                                                                                                                                                                                                </span></td><td>cpp11 (&gt;= 0.2.0), progress (&gt;= 1.2.1), tzdb (&gt;= 0.1.1)</td><td><span style=white-space:pre-wrap>archive, bench (&gt;= 1.1.0), covr, curl, dplyr, forcats, fs,\n",
       "ggplot2, knitr, patchwork, prettyunits, purrr, rmarkdown,\n",
       "rstudioapi, scales, spelling, testthat (&gt;= 2.1.0), tidyr,\n",
       "utils, waldo, xml2                                                              </span></td><td><span style=white-space:pre-wrap>NA      </span></td><td><span style=white-space:pre-wrap>MIT + file LICENSE                    </span></td><td>NA </td><td>NA</td><td>NA</td><td>NA</td><td>yes</td><td>4.3.1</td></tr>\n",
       "\t<tr><th scope=row>withr</th><td><span style=white-space:pre-wrap>withr      </span></td><td>/home/Tiris/anaconda3/envs/r-tutorial/lib/R/library</td><td><span style=white-space:pre-wrap>2.5.1   </span></td><td><span style=white-space:pre-wrap>NA  </span></td><td><span style=white-space:pre-wrap>R (&gt;= 3.2.0)                 </span></td><td><span style=white-space:pre-wrap>graphics, grDevices, stats                                                                                                                                                                                                                                                                                                                                                                                                                                                                                                                                                                                 </span></td><td><span style=white-space:pre-wrap>NA                                                    </span></td><td><span style=white-space:pre-wrap>callr, covr, DBI, knitr, lattice, methods, rlang, rmarkdown\n",
       "(&gt;= 2.12), RSQLite, testthat (&gt;= 3.0.0)                                                                                                                                                              </span></td><td><span style=white-space:pre-wrap>NA      </span></td><td><span style=white-space:pre-wrap>MIT + file LICENSE                    </span></td><td>NA </td><td>NA</td><td>NA</td><td>NA</td><td>no </td><td>4.3.1</td></tr>\n",
       "\t<tr><th scope=row>xfun</th><td><span style=white-space:pre-wrap>xfun       </span></td><td>/home/Tiris/anaconda3/envs/r-tutorial/lib/R/library</td><td><span style=white-space:pre-wrap>0.40    </span></td><td><span style=white-space:pre-wrap>NA  </span></td><td><span style=white-space:pre-wrap>NA                           </span></td><td><span style=white-space:pre-wrap>stats, tools                                                                                                                                                                                                                                                                                                                                                                                                                                                                                                                                                                                               </span></td><td><span style=white-space:pre-wrap>NA                                                    </span></td><td><span style=white-space:pre-wrap>testit, parallel, codetools, rstudioapi, tinytex (&gt;= 0.30),\n",
       "mime, markdown (&gt;= 1.5), knitr (&gt;= 1.42), htmltools, remotes,\n",
       "pak, rhub, renv, curl, jsonlite, magick, yaml, rmarkdown                                                                              </span></td><td><span style=white-space:pre-wrap>NA      </span></td><td><span style=white-space:pre-wrap>MIT + file LICENSE                    </span></td><td>NA </td><td>NA</td><td>NA</td><td>NA</td><td>yes</td><td>4.3.1</td></tr>\n",
       "\t<tr><th scope=row>xml2</th><td><span style=white-space:pre-wrap>xml2       </span></td><td>/home/Tiris/anaconda3/envs/r-tutorial/lib/R/library</td><td><span style=white-space:pre-wrap>1.3.6   </span></td><td><span style=white-space:pre-wrap>NA  </span></td><td><span style=white-space:pre-wrap>R (&gt;= 3.6.0)                 </span></td><td><span style=white-space:pre-wrap>cli, methods, rlang (&gt;= 1.1.0)                                                                                                                                                                                                                                                                                                                                                                                                                                                                                                                                                                             </span></td><td><span style=white-space:pre-wrap>NA                                                    </span></td><td><span style=white-space:pre-wrap>covr, curl, httr, knitr, magrittr, mockery, rmarkdown,\n",
       "testthat (&gt;= 3.0.0)                                                                                                                                                                                       </span></td><td><span style=white-space:pre-wrap>NA      </span></td><td><span style=white-space:pre-wrap>MIT + file LICENSE                    </span></td><td>NA </td><td>NA</td><td>NA</td><td>NA</td><td>yes</td><td>4.3.1</td></tr>\n",
       "\t<tr><th scope=row>xtable</th><td><span style=white-space:pre-wrap>xtable     </span></td><td>/home/Tiris/anaconda3/envs/r-tutorial/lib/R/library</td><td><span style=white-space:pre-wrap>1.8-4   </span></td><td><span style=white-space:pre-wrap>NA  </span></td><td><span style=white-space:pre-wrap>R (&gt;= 2.10.0)                </span></td><td><span style=white-space:pre-wrap>stats, utils                                                                                                                                                                                                                                                                                                                                                                                                                                                                                                                                                                                               </span></td><td><span style=white-space:pre-wrap>NA                                                    </span></td><td><span style=white-space:pre-wrap>knitr, plm, zoo, survival                                                                                                                                                                                                                                         </span></td><td><span style=white-space:pre-wrap>NA      </span></td><td><span style=white-space:pre-wrap>GPL (&gt;= 2)                            </span></td><td>NA </td><td>NA</td><td>NA</td><td>NA</td><td>no </td><td>4.3.1</td></tr>\n",
       "\t<tr><th scope=row>xts</th><td><span style=white-space:pre-wrap>xts        </span></td><td>/home/Tiris/anaconda3/envs/r-tutorial/lib/R/library</td><td><span style=white-space:pre-wrap>0.13.1  </span></td><td><span style=white-space:pre-wrap>NA  </span></td><td>R (&gt;= 3.6.0), zoo (&gt;= 1.7-12)</td><td><span style=white-space:pre-wrap>methods                                                                                                                                                                                                                                                                                                                                                                                                                                                                                                                                                                                                    </span></td><td><span style=white-space:pre-wrap>zoo                                                   </span></td><td><span style=white-space:pre-wrap>timeSeries, timeDate, tseries, chron, tinytest                                                                                                                                                                                                                    </span></td><td><span style=white-space:pre-wrap>NA      </span></td><td><span style=white-space:pre-wrap>GPL (&gt;= 2)                            </span></td><td>NA </td><td>NA</td><td>NA</td><td>NA</td><td>yes</td><td>4.3.1</td></tr>\n",
       "\t<tr><th scope=row>yaml</th><td>yaml       </td><td>/home/Tiris/anaconda3/envs/r-tutorial/lib/R/library</td><td>2.3.7   </td><td>NA  </td><td>NA                           </td><td>NA                                                                                                                                                                                                                                                                                                                                                                                                                                                                                                                                                                                                         </td><td>NA                                                    </td><td>RUnit                                                                                                                                                                                                                                                             </td><td>NA      </td><td>BSD_3_clause + file LICENSE           </td><td>NA </td><td>NA</td><td>NA</td><td>NA</td><td>yes</td><td>4.3.1</td></tr>\n",
       "\t<tr><th scope=row>zoo</th><td><span style=white-space:pre-wrap>zoo        </span></td><td>/home/Tiris/anaconda3/envs/r-tutorial/lib/R/library</td><td><span style=white-space:pre-wrap>1.8-12  </span></td><td><span style=white-space:pre-wrap>NA  </span></td><td><span style=white-space:pre-wrap>R (&gt;= 3.1.0), stats          </span></td><td><span style=white-space:pre-wrap>utils, graphics, grDevices, lattice (&gt;= 0.20-27)                                                                                                                                                                                                                                                                                                                                                                                                                                                                                                                                                           </span></td><td><span style=white-space:pre-wrap>NA                                                    </span></td><td><span style=white-space:pre-wrap>AER, coda, chron, ggplot2 (&gt;= 3.0.0), mondate, scales,\n",
       "stinepack, strucchange, timeDate, timeSeries, tis, tseries, xts                                                                                                                                           </span></td><td><span style=white-space:pre-wrap>NA      </span></td><td><span style=white-space:pre-wrap>GPL-2 | GPL-3                         </span></td><td>NA </td><td>NA</td><td>NA</td><td>NA</td><td>yes</td><td>4.3.1</td></tr>\n",
       "</tbody>\n",
       "</table>\n"
      ],
      "text/latex": [
       "A matrix: 178 × 16 of type chr\n",
       "\\begin{tabular}{r|llllllllllllllll}\n",
       "  & Package & LibPath & Version & Priority & Depends & Imports & LinkingTo & Suggests & Enhances & License & License\\_is\\_FOSS & License\\_restricts\\_use & OS\\_type & MD5sum & NeedsCompilation & Built\\\\\n",
       "\\hline\n",
       "\taskpass & askpass    & /home/Tiris/anaconda3/envs/r-tutorial/lib/R/library & 1.2.0    & NA   & NA                                                  & sys (>= 2.1)                                                                                                                                             & NA                                & testthat                                                                                                                                                                                                                                                                                                                                                                                                                                                                                                                                                                                                                                                                                                                                                            & NA  & MIT + file LICENSE          & NA & NA & NA & NA & yes & 4.3.1\\\\\n",
       "\tbackports & backports  & /home/Tiris/anaconda3/envs/r-tutorial/lib/R/library & 1.4.1    & NA   & R (>= 3.0.0)                                        & NA                                                                                                                                                       & NA                                & NA                                                                                                                                                                                                                                                                                                                                                                                                                                                                                                                                                                                                                                                                                                                                                                  & NA  & GPL-2 \\textbar{} GPL-3               & NA & NA & NA & NA & yes & 4.3.1\\\\\n",
       "\tbase & base       & /home/Tiris/anaconda3/envs/r-tutorial/lib/R/library & 4.3.1    & base & NA                                                  & NA                                                                                                                                                       & NA                                & methods                                                                                                                                                                                                                                                                                                                                                                                                                                                                                                                                                                                                                                                                                                                                                             & NA  & Part of R 4.3.1             & NA & NA & NA & NA & NA  & 4.3.1\\\\\n",
       "\tbase64enc & base64enc  & /home/Tiris/anaconda3/envs/r-tutorial/lib/R/library & 0.1-3    & NA   & R (>= 2.9.0)                                        & NA                                                                                                                                                       & NA                                & NA                                                                                                                                                                                                                                                                                                                                                                                                                                                                                                                                                                                                                                                                                                                                                                  & png & GPL-2 \\textbar{} GPL-3               & NA & NA & NA & NA & yes & 4.3.1\\\\\n",
       "\tbit & bit        & /home/Tiris/anaconda3/envs/r-tutorial/lib/R/library & 4.0.5    & NA   & R (>= 2.9.2)                                        & NA                                                                                                                                                       & NA                                & testthat (>= 0.11.0), roxygen2, knitr, rmarkdown,\n",
       "microbenchmark, bit64 (>= 4.0.0), ff (>= 4.0.0)                                                                                                                                                                                                                                                                                                                                                                                                                                                                                                                                                                                                                                                                  & NA  & GPL-2 \\textbar{} GPL-3               & NA & NA & NA & NA & yes & 4.3.1\\\\\n",
       "\tbit64 & bit64      & /home/Tiris/anaconda3/envs/r-tutorial/lib/R/library & 4.0.5    & NA   & R (>= 3.0.1), bit (>= 4.0.0), utils, methods, stats & NA                                                                                                                                                       & NA                                & NA                                                                                                                                                                                                                                                                                                                                                                                                                                                                                                                                                                                                                                                                                                                                                                  & NA  & GPL-2 \\textbar{} GPL-3               & NA & NA & NA & NA & yes & 4.3.1\\\\\n",
       "\tblob & blob       & /home/Tiris/anaconda3/envs/r-tutorial/lib/R/library & 1.2.4    & NA   & NA                                                  & methods, rlang, vctrs (>= 0.2.1)                                                                                                                         & NA                                & covr, crayon, pillar (>= 1.2.1), testthat                                                                                                                                                                                                                                                                                                                                                                                                                                                                                                                                                                                                                                                                                                                           & NA  & MIT + file LICENSE          & NA & NA & NA & NA & no  & 4.3.1\\\\\n",
       "\tboot & boot       & /home/Tiris/anaconda3/envs/r-tutorial/lib/R/library & 1.3-28.1 & NA   & R (>= 3.0.0), graphics, stats                       & NA                                                                                                                                                       & NA                                & MASS, survival                                                                                                                                                                                                                                                                                                                                                                                                                                                                                                                                                                                                                                                                                                                                                      & NA  & Unlimited                   & NA & NA & NA & NA & no  & 4.3.1\\\\\n",
       "\tbroom & broom      & /home/Tiris/anaconda3/envs/r-tutorial/lib/R/library & 1.0.5    & NA   & R (>= 3.5)                                          & backports, dplyr (>= 1.0.0), ellipsis, generics (>= 0.0.2),\n",
       "glue, lifecycle, purrr, rlang, stringr, tibble (>= 3.0.0),\n",
       "tidyr (>= 1.0.0)                & NA                                & AER, AUC, bbmle, betareg, biglm, binGroup, boot, btergm (>=\n",
       "1.10.6), car, carData, caret, cluster, cmprsk, coda, covr, drc,\n",
       "e1071, emmeans, epiR, ergm (>= 3.10.4), fixest (>= 0.9.0), gam\n",
       "(>= 1.15), gee, geepack, ggplot2, glmnet, glmnetUtils, gmm,\n",
       "Hmisc, irlba, interp, joineRML, Kendall, knitr, ks, Lahman,\n",
       "lavaan, leaps, lfe, lm.beta, lme4, lmodel2, lmtest (>= 0.9.38),\n",
       "lsmeans, maps, margins, MASS, mclust, mediation, metafor, mfx,\n",
       "mgcv, mlogit, modeldata, modeltests, muhaz, multcomp, network,\n",
       "nnet, orcutt (>= 2.2), ordinal, plm, poLCA, psych, quantreg,\n",
       "rmarkdown, robust, robustbase, rsample, sandwich, sp, spdep (>=\n",
       "1.1), spatialreg, speedglm, spelling, survey, survival,\n",
       "systemfit, testthat (>= 2.1.0), tseries, vars, zoo & NA  & MIT + file LICENSE          & NA & NA & NA & NA & no  & 4.3.1\\\\\n",
       "\tbslib & bslib      & /home/Tiris/anaconda3/envs/r-tutorial/lib/R/library & 0.5.1    & NA   & R (>= 2.10)                                         & base64enc, cachem, grDevices, htmltools (>= 0.5.4), jquerylib\n",
       "(>= 0.1.3), jsonlite, memoise (>= 2.0.1), mime, rlang, sass (>=\n",
       "0.4.0)                   & NA                                & bsicons, curl, fontawesome, ggplot2, knitr, magrittr,\n",
       "rappdirs, rmarkdown (>= 2.7), shiny (>= 1.6.0), testthat,\n",
       "thematic, withr                                                                                                                                                                                                                                                                                                                                                                                                                                                                                                                                                                                                                                   & NA  & MIT + file LICENSE          & NA & NA & NA & NA & no  & 4.3.1\\\\\n",
       "\tcachem & cachem     & /home/Tiris/anaconda3/envs/r-tutorial/lib/R/library & 1.0.8    & NA   & NA                                                  & rlang, fastmap (>= 1.1.1)                                                                                                                                & NA                                & testthat                                                                                                                                                                                                                                                                                                                                                                                                                                                                                                                                                                                                                                                                                                                                                            & NA  & MIT + file LICENSE          & NA & NA & NA & NA & yes & 4.3.1\\\\\n",
       "\tcallr & callr      & /home/Tiris/anaconda3/envs/r-tutorial/lib/R/library & 3.7.3    & NA   & R (>= 3.4)                                          & processx (>= 3.6.1), R6, utils                                                                                                                           & NA                                & asciicast, cli (>= 1.1.0), covr, mockery, ps, rprojroot,\n",
       "spelling, testthat (>= 3.0.0), withr (>= 2.3.0)                                                                                                                                                                                                                                                                                                                                                                                                                                                                                                                                                                                                                                                           & NA  & MIT + file LICENSE          & NA & NA & NA & NA & no  & 4.3.1\\\\\n",
       "\tcaret & caret      & /home/Tiris/anaconda3/envs/r-tutorial/lib/R/library & 6.0-94   & NA   & ggplot2, lattice (>= 0.20), R (>= 3.2.0)            & e1071, foreach, grDevices, methods, ModelMetrics (>= 1.2.2.2),\n",
       "nlme, plyr, pROC, recipes (>= 0.1.10), reshape2, stats, stats4,\n",
       "utils, withr (>= 2.0.0) & NA                                & BradleyTerry2, covr, Cubist, dplyr, earth (>= 2.2-3),\n",
       "ellipse, fastICA, gam (>= 1.15), ipred, kernlab, klaR, knitr,\n",
       "MASS, Matrix, mda, mgcv, mlbench, MLmetrics, nnet, pamr, party\n",
       "(>= 0.9-99992), pls, proxy, randomForest, RANN, rmarkdown,\n",
       "rpart, spls, subselect, superpc, testthat (>= 0.9.1), themis\n",
       "(>= 0.1.3)                                                                                                                                                                                                                                                                                                                                                                                                                                          & NA  & GPL (>= 2)                  & NA & NA & NA & NA & yes & 4.3.1\\\\\n",
       "\tcellranger & cellranger & /home/Tiris/anaconda3/envs/r-tutorial/lib/R/library & 1.1.0    & NA   & R (>= 3.0.0)                                        & rematch, tibble                                                                                                                                          & NA                                & covr, testthat (>= 1.0.0), knitr, rmarkdown                                                                                                                                                                                                                                                                                                                                                                                                                                                                                                                                                                                                                                                                                                                         & NA  & MIT + file LICENSE          & NA & NA & NA & NA & no  & 4.3.1\\\\\n",
       "\tclass & class      & /home/Tiris/anaconda3/envs/r-tutorial/lib/R/library & 7.3-22   & NA   & R (>= 3.0.0), stats, utils                          & MASS                                                                                                                                                     & NA                                & NA                                                                                                                                                                                                                                                                                                                                                                                                                                                                                                                                                                                                                                                                                                                                                                  & NA  & GPL-2 \\textbar{} GPL-3               & NA & NA & NA & NA & yes & 4.3.1\\\\\n",
       "\tcli & cli        & /home/Tiris/anaconda3/envs/r-tutorial/lib/R/library & 3.6.1    & NA   & R (>= 3.4)                                          & utils                                                                                                                                                    & NA                                & callr, covr, crayon, digest, glue (>= 1.6.0), grDevices,\n",
       "htmltools, htmlwidgets, knitr, methods, mockery, processx, ps\n",
       "(>= 1.3.4.9000), rlang (>= 1.0.2.9003), rmarkdown, rprojroot,\n",
       "rstudioapi, testthat, tibble, whoami, withr                                                                                                                                                                                                                                                                                                                                                                                                                                                                                                                                 & NA  & MIT + file LICENSE          & NA & NA & NA & NA & yes & 4.3.1\\\\\n",
       "\tclipr & clipr      & /home/Tiris/anaconda3/envs/r-tutorial/lib/R/library & 0.8.0    & NA   & NA                                                  & utils                                                                                                                                                    & NA                                & covr, knitr, rmarkdown, rstudioapi (>= 0.5), testthat (>=\n",
       "2.0.0)                                                                                                                                                                                                                                                                                                                                                                                                                                                                                                                                                                                                                                                                                                   & NA  & GPL-3                       & NA & NA & NA & NA & no  & 4.3.1\\\\\n",
       "\tclock & clock      & /home/Tiris/anaconda3/envs/r-tutorial/lib/R/library & 0.7.0    & NA   & R (>= 3.5.0)                                        & cli (>= 3.6.1), lifecycle (>= 1.0.3), rlang (>= 1.1.0), tzdb\n",
       "(>= 0.4.0), vctrs (>= 0.6.1)                                                               & cpp11 (>= 0.4.3), tzdb (>= 0.4.0) & covr, knitr, magrittr, pillar, rmarkdown, slider (>= 0.3.0),\n",
       "testthat (>= 3.0.0), withr                                                                                                                                                                                                                                                                                                                                                                                                                                                                                                                                                                                                                                                                            & NA  & MIT + file LICENSE          & NA & NA & NA & NA & yes & 4.3.1\\\\\n",
       "\tcluster & cluster    & /home/Tiris/anaconda3/envs/r-tutorial/lib/R/library & 2.1.4    & NA   & R (>= 3.5.0)                                        & graphics, grDevices, stats, utils                                                                                                                        & NA                                & MASS, Matrix                                                                                                                                                                                                                                                                                                                                                                                                                                                                                                                                                                                                                                                                                                                                                        & NA  & GPL (>= 2)                  & NA & NA & NA & NA & yes & 4.3.1\\\\\n",
       "\tcodetools & codetools  & /home/Tiris/anaconda3/envs/r-tutorial/lib/R/library & 0.2-19   & NA   & R (>= 2.1)                                          & NA                                                                                                                                                       & NA                                & NA                                                                                                                                                                                                                                                                                                                                                                                                                                                                                                                                                                                                                                                                                                                                                                  & NA  & GPL                         & NA & NA & NA & NA & no  & 4.3.1\\\\\n",
       "\tcolorspace & colorspace & /home/Tiris/anaconda3/envs/r-tutorial/lib/R/library & 2.1-0    & NA   & R (>= 3.0.0), methods                               & graphics, grDevices, stats                                                                                                                               & NA                                & datasets, utils, KernSmooth, MASS, kernlab, mvtnorm, vcd,\n",
       "tcltk, shiny, shinyjs, ggplot2, dplyr, scales, grid, png, jpeg,\n",
       "knitr, rmarkdown, RColorBrewer, rcartocolor, scico, viridis,\n",
       "wesanderson                                                                                                                                                                                                                                                                                                                                                                                                                                                                                                                                                               & NA  & BSD\\_3\\_clause + file LICENSE & NA & NA & NA & NA & yes & 4.3.1\\\\\n",
       "\tcommonmark & commonmark & /home/Tiris/anaconda3/envs/r-tutorial/lib/R/library & 1.9.0    & NA   & NA                                                  & NA                                                                                                                                                       & NA                                & curl, testthat, xml2                                                                                                                                                                                                                                                                                                                                                                                                                                                                                                                                                                                                                                                                                                                                                & NA  & BSD\\_2\\_clause + file LICENSE & NA & NA & NA & NA & yes & 4.3.1\\\\\n",
       "\tcompiler & compiler   & /home/Tiris/anaconda3/envs/r-tutorial/lib/R/library & 4.3.1    & base & NA                                                  & NA                                                                                                                                                       & NA                                & NA                                                                                                                                                                                                                                                                                                                                                                                                                                                                                                                                                                                                                                                                                                                                                                  & NA  & Part of R 4.3.1             & NA & NA & NA & NA & NA  & 4.3.1\\\\\n",
       "\tconflicted & conflicted & /home/Tiris/anaconda3/envs/r-tutorial/lib/R/library & 1.2.0    & NA   & R (>= 3.2)                                          & cli (>= 3.4.0), memoise, rlang (>= 1.0.0)                                                                                                                & NA                                & callr, covr, dplyr, Matrix, methods, pkgload, testthat (>=\n",
       "3.0.0), withr                                                                                                                                                                                                                                                                                                                                                                                                                                                                                                                                                                                                                                                                                           & NA  & MIT + file LICENSE          & NA & NA & NA & NA & no  & 4.3.1\\\\\n",
       "\tcpp11 & cpp11      & /home/Tiris/anaconda3/envs/r-tutorial/lib/R/library & 0.4.6    & NA   & R (>= 3.5.0)                                        & NA                                                                                                                                                       & NA                                & bench, brio, callr, cli, covr, decor, desc, ggplot2, glue,\n",
       "knitr, lobstr, mockery, progress, rmarkdown, scales, Rcpp,\n",
       "testthat, tibble, utils, vctrs, withr                                                                                                                                                                                                                                                                                                                                                                                                                                                                                                                                                                                                       & NA  & MIT + file LICENSE          & NA & NA & NA & NA & no  & 4.3.1\\\\\n",
       "\tcrayon & crayon     & /home/Tiris/anaconda3/envs/r-tutorial/lib/R/library & 1.5.2    & NA   & NA                                                  & grDevices, methods, utils                                                                                                                                & NA                                & mockery, rstudioapi, testthat, withr                                                                                                                                                                                                                                                                                                                                                                                                                                                                                                                                                                                                                                                                                                                                & NA  & MIT + file LICENSE          & NA & NA & NA & NA & no  & 4.3.1\\\\\n",
       "\tcurl & curl       & /home/Tiris/anaconda3/envs/r-tutorial/lib/R/library & 5.1.0    & NA   & R (>= 3.0.0)                                        & NA                                                                                                                                                       & NA                                & spelling, testthat (>= 1.0.0), knitr, jsonlite, rmarkdown,\n",
       "magrittr, httpuv (>= 1.4.4), webutils                                                                                                                                                                                                                                                                                                                                                                                                                                                                                                                                                                                                                                                                   & NA  & MIT + file LICENSE          & NA & NA & NA & NA & yes & 4.3.1\\\\\n",
       "\tdata.table & data.table & /home/Tiris/anaconda3/envs/r-tutorial/lib/R/library & 1.14.8   & NA   & R (>= 3.1.0)                                        & methods                                                                                                                                                  & NA                                & bit64 (>= 4.0.0), bit (>= 4.0.4), curl, R.utils, xts,\n",
       "nanotime, zoo (>= 1.8-1), yaml, knitr, rmarkdown                                                                                                                                                                                                                                                                                                                                                                                                                                                                                                                                                                                                                                                             & NA  & MPL-2.0 \\textbar{} file LICENSE      & NA & NA & NA & NA & yes & 4.3.1\\\\\n",
       "\tdatasets & datasets   & /home/Tiris/anaconda3/envs/r-tutorial/lib/R/library & 4.3.1    & base & NA                                                  & NA                                                                                                                                                       & NA                                & NA                                                                                                                                                                                                                                                                                                                                                                                                                                                                                                                                                                                                                                                                                                                                                                  & NA  & Part of R 4.3.1             & NA & NA & NA & NA & NA  & 4.3.1\\\\\n",
       "\tDBI & DBI        & /home/Tiris/anaconda3/envs/r-tutorial/lib/R/library & 1.1.3    & NA   & methods, R (>= 3.0.0)                               & NA                                                                                                                                                       & NA                                & blob, covr, DBItest, dbplyr, downlit, dplyr, glue, hms,\n",
       "knitr, magrittr, RMariaDB, rmarkdown, rprojroot, RSQLite (>=\n",
       "1.1-2), testthat, xml2                                                                                                                                                                                                                                                                                                                                                                                                                                                                                                                                                                                                                       & NA  & LGPL (>= 2.1)               & NA & NA & NA & NA & no  & 4.3.1\\\\\n",
       "\t⋮ & ⋮ & ⋮ & ⋮ & ⋮ & ⋮ & ⋮ & ⋮ & ⋮ & ⋮ & ⋮ & ⋮ & ⋮ & ⋮ & ⋮ & ⋮ & ⋮\\\\\n",
       "\tstringi & stringi     & /home/Tiris/anaconda3/envs/r-tutorial/lib/R/library & 1.7.12   & NA   & R (>= 3.1)                    & tools, utils, stats                                                                                                                                                                                                                                                                                                                                                                                                                                                                                                                                                                                         & NA                                                     & NA                                                                                                                                                                                                                                                                 & NA       & file LICENSE                           & yes & NA & NA & NA & yes & 4.3.1\\\\\n",
       "\tstringr & stringr     & /home/Tiris/anaconda3/envs/r-tutorial/lib/R/library & 1.5.0    & NA   & R (>= 3.3)                    & cli, glue (>= 1.6.1), lifecycle (>= 1.0.3), magrittr, rlang\n",
       "(>= 1.0.0), stringi (>= 1.5.3), vctrs                                                                                                                                                                                                                                                                                                                                                                                                                                                                                                          & NA                                                     & covr, htmltools, htmlwidgets, knitr, rmarkdown, testthat (>=\n",
       "3.0.0)                                                                                                                                                                                               & NA       & MIT + file LICENSE                     & NA  & NA & NA & NA & no  & 4.3.1\\\\\n",
       "\tsurvival & survival    & /home/Tiris/anaconda3/envs/r-tutorial/lib/R/library & 3.5-7    & NA   & R (>= 3.5.0)                  & graphics, Matrix, methods, splines, stats, utils                                                                                                                                                                                                                                                                                                                                                                                                                                                                                                                                                            & NA                                                     & NA                                                                                                                                                                                                                                                                 & NA       & LGPL (>= 2)                            & NA  & NA & NA & NA & yes & 4.3.1\\\\\n",
       "\tsys & sys         & /home/Tiris/anaconda3/envs/r-tutorial/lib/R/library & 3.4.2    & NA   & NA                            & NA                                                                                                                                                                                                                                                                                                                                                                                                                                                                                                                                                                                                          & NA                                                     & unix (>= 1.4), spelling, testthat                                                                                                                                                                                                                                  & NA       & MIT + file LICENSE                     & NA  & NA & NA & NA & yes & 4.3.1\\\\\n",
       "\tsystemfonts & systemfonts & /home/Tiris/anaconda3/envs/r-tutorial/lib/R/library & 1.0.5    & NA   & R (>= 3.2.0)                  & NA                                                                                                                                                                                                                                                                                                                                                                                                                                                                                                                                                                                                          & cpp11 (>= 0.2.1)                                       & covr, knitr, rmarkdown, testthat (>= 2.1.0), tools                                                                                                                                                                                                                 & NA       & MIT + file LICENSE                     & NA  & NA & NA & NA & yes & 4.3.1\\\\\n",
       "\ttcltk & tcltk       & /home/Tiris/anaconda3/envs/r-tutorial/lib/R/library & 4.3.1    & base & NA                            & utils                                                                                                                                                                                                                                                                                                                                                                                                                                                                                                                                                                                                       & NA                                                     & NA                                                                                                                                                                                                                                                                 & NA       & Part of R 4.3.1                        & NA  & NA & NA & NA & yes & 4.3.1\\\\\n",
       "\ttextshaping & textshaping & /home/Tiris/anaconda3/envs/r-tutorial/lib/R/library & 0.3.7    & NA   & R (>= 3.2.0)                  & systemfonts (>= 1.0.0)                                                                                                                                                                                                                                                                                                                                                                                                                                                                                                                                                                                      & cpp11 (>= 0.2.1), systemfonts (>= 1.0.0)               & covr, knitr, rmarkdown                                                                                                                                                                                                                                             & NA       & MIT + file LICENSE                     & NA  & NA & NA & NA & yes & 4.3.1\\\\\n",
       "\ttibble & tibble      & /home/Tiris/anaconda3/envs/r-tutorial/lib/R/library & 3.2.1    & NA   & R (>= 3.4.0)                  & fansi (>= 0.4.0), lifecycle (>= 1.0.0), magrittr, methods,\n",
       "pillar (>= 1.8.1), pkgconfig, rlang (>= 1.0.2), utils, vctrs\n",
       "(>= 0.4.2)                                                                                                                                                                                                                                                                                                                                                                                                                                                                        & NA                                                     & bench, bit64, blob, brio, callr, cli, covr, crayon (>=\n",
       "1.3.4), DiagrammeR, dplyr, evaluate, formattable, ggplot2,\n",
       "here, hms, htmltools, knitr, lubridate, mockr, nycflights13,\n",
       "pkgbuild, pkgload, purrr, rmarkdown, stringi, testthat (>=\n",
       "3.0.2), tidyr, withr & NA       & MIT + file LICENSE                     & NA  & NA & NA & NA & yes & 4.3.1\\\\\n",
       "\ttidyr & tidyr       & /home/Tiris/anaconda3/envs/r-tutorial/lib/R/library & 1.3.0    & NA   & R (>= 3.4.0)                  & cli (>= 3.4.1), dplyr (>= 1.0.10), glue, lifecycle (>= 1.0.3),\n",
       "magrittr, purrr (>= 1.0.1), rlang (>= 1.0.4), stringr (>=\n",
       "1.5.0), tibble (>= 2.1.1), tidyselect (>= 1.2.0), utils, vctrs\n",
       "(>= 0.5.2)                                                                                                                                                                                                                                                                                                                                                                                                       & cpp11 (>= 0.4.0)                                       & covr, data.table, knitr, readr, repurrrsive (>= 1.1.0),\n",
       "rmarkdown, testthat (>= 3.0.0)                                                                                                                                                                            & NA       & MIT + file LICENSE                     & NA  & NA & NA & NA & yes & 4.3.1\\\\\n",
       "\ttidyselect & tidyselect  & /home/Tiris/anaconda3/envs/r-tutorial/lib/R/library & 1.2.0    & NA   & R (>= 3.4)                    & cli (>= 3.3.0), glue (>= 1.3.0), lifecycle (>= 1.0.3), rlang\n",
       "(>= 1.0.4), vctrs (>= 0.4.1), withr                                                                                                                                                                                                                                                                                                                                                                                                                                                                                                           & NA                                                     & covr, crayon, dplyr, knitr, magrittr, rmarkdown, stringr,\n",
       "testthat (>= 3.1.1), tibble (>= 2.1.3)                                                                                                                                                                  & NA       & MIT + file LICENSE                     & NA  & NA & NA & NA & no  & 4.3.1\\\\\n",
       "\ttidyverse & tidyverse   & /home/Tiris/anaconda3/envs/r-tutorial/lib/R/library & 2.0.0    & NA   & R (>= 3.3)                    & broom (>= 1.0.3), conflicted (>= 1.2.0), cli (>= 3.6.0),\n",
       "dbplyr (>= 2.3.0), dplyr (>= 1.1.0), dtplyr (>= 1.2.2), forcats\n",
       "(>= 1.0.0), ggplot2 (>= 3.4.1), googledrive (>= 2.0.0),\n",
       "googlesheets4 (>= 1.0.1), haven (>= 2.5.1), hms (>= 1.1.2),\n",
       "httr (>= 1.4.4), jsonlite (>= 1.8.4), lubridate (>= 1.9.2),\n",
       "magrittr (>= 2.0.3), modelr (>= 0.1.10), pillar (>= 1.8.1),\n",
       "purrr (>= 1.0.1), ragg (>= 1.2.5), readr (>= 2.1.4), readxl (>=\n",
       "1.4.2), reprex (>= 2.0.2), rlang (>= 1.0.6), rstudioapi (>=\n",
       "0.14), rvest (>= 1.0.3), stringr (>= 1.5.0), tibble (>= 3.1.8),\n",
       "tidyr (>= 1.3.0), xml2 (>= 1.3.3) & NA                                                     & covr (>= 3.6.1), feather (>= 0.3.5), glue (>= 1.6.2), mockr\n",
       "(>= 0.2.0), knitr (>= 1.41), rmarkdown (>= 2.20), testthat (>=\n",
       "3.1.6)                                                                                                                                & NA       & MIT + file LICENSE                     & NA  & NA & NA & NA & no  & 4.3.1\\\\\n",
       "\ttimechange & timechange  & /home/Tiris/anaconda3/envs/r-tutorial/lib/R/library & 0.2.0    & NA   & R (>= 3.3)                    & NA                                                                                                                                                                                                                                                                                                                                                                                                                                                                                                                                                                                                          & cpp11 (>= 0.2.7)                                       & testthat (>= 0.7.1.99), knitr                                                                                                                                                                                                                                      & NA       & GPL-3                                  & NA  & NA & NA & NA & yes & 4.3.1\\\\\n",
       "\ttimeDate & timeDate    & /home/Tiris/anaconda3/envs/r-tutorial/lib/R/library & 4022.108 & NA   & R (>= 3.6.0)                  & graphics, utils, stats, methods                                                                                                                                                                                                                                                                                                                                                                                                                                                                                                                                                                             & NA                                                     & RUnit                                                                                                                                                                                                                                                              & NA       & GPL (>= 2)                             & NA  & NA & NA & NA & no  & 4.3.1\\\\\n",
       "\ttinytex & tinytex     & /home/Tiris/anaconda3/envs/r-tutorial/lib/R/library & 0.48     & NA   & NA                            & xfun (>= 0.29)                                                                                                                                                                                                                                                                                                                                                                                                                                                                                                                                                                                              & NA                                                     & testit, rstudioapi                                                                                                                                                                                                                                                 & NA       & MIT + file LICENSE                     & NA  & NA & NA & NA & no  & 4.3.1\\\\\n",
       "\ttools & tools       & /home/Tiris/anaconda3/envs/r-tutorial/lib/R/library & 4.3.1    & base & NA                            & NA                                                                                                                                                                                                                                                                                                                                                                                                                                                                                                                                                                                                          & NA                                                     & codetools, methods, xml2, curl, commonmark, knitr, xfun,\n",
       "mathjaxr, V8                                                                                                                                                                                             & NA       & Part of R 4.3.1                        & NA  & NA & NA & NA & yes & 4.3.1\\\\\n",
       "\tTTR & TTR         & /home/Tiris/anaconda3/envs/r-tutorial/lib/R/library & 0.24.3   & NA   & NA                            & xts (>= 0.10-0), zoo, curl                                                                                                                                                                                                                                                                                                                                                                                                                                                                                                                                                                                  & xts                                                    & RUnit                                                                                                                                                                                                                                                              & quantmod & GPL (>= 2)                             & NA  & NA & NA & NA & yes & 4.3.1\\\\\n",
       "\ttzdb & tzdb        & /home/Tiris/anaconda3/envs/r-tutorial/lib/R/library & 0.4.0    & NA   & R (>= 3.5.0)                  & NA                                                                                                                                                                                                                                                                                                                                                                                                                                                                                                                                                                                                          & cpp11 (>= 0.4.2)                                       & covr, testthat (>= 3.0.0)                                                                                                                                                                                                                                          & NA       & MIT + file LICENSE                     & NA  & NA & NA & NA & yes & 4.3.1\\\\\n",
       "\tutf8 & utf8        & /home/Tiris/anaconda3/envs/r-tutorial/lib/R/library & 1.2.4    & NA   & R (>= 2.10)                   & NA                                                                                                                                                                                                                                                                                                                                                                                                                                                                                                                                                                                                          & NA                                                     & cli, covr, knitr, rlang, rmarkdown, testthat (>= 3.0.0),\n",
       "withr                                                                                                                                                                                                    & NA       & Apache License (== 2.0) \\textbar{} file LICENSE & NA  & NA & NA & NA & yes & 4.3.1\\\\\n",
       "\tutils & utils       & /home/Tiris/anaconda3/envs/r-tutorial/lib/R/library & 4.3.1    & base & NA                            & NA                                                                                                                                                                                                                                                                                                                                                                                                                                                                                                                                                                                                          & NA                                                     & methods, xml2, commonmark, knitr                                                                                                                                                                                                                                   & NA       & Part of R 4.3.1                        & NA  & NA & NA & NA & yes & 4.3.1\\\\\n",
       "\tuuid & uuid        & /home/Tiris/anaconda3/envs/r-tutorial/lib/R/library & 1.1-1    & NA   & R (>= 2.9.0)                  & NA                                                                                                                                                                                                                                                                                                                                                                                                                                                                                                                                                                                                          & NA                                                     & NA                                                                                                                                                                                                                                                                 & NA       & MIT + file LICENSE                     & NA  & NA & NA & NA & yes & 4.3.1\\\\\n",
       "\tvctrs & vctrs       & /home/Tiris/anaconda3/envs/r-tutorial/lib/R/library & 0.6.4    & NA   & R (>= 3.5.0)                  & cli (>= 3.4.0), glue, lifecycle (>= 1.0.3), rlang (>= 1.1.0)                                                                                                                                                                                                                                                                                                                                                                                                                                                                                                                                                & NA                                                     & bit64, covr, crayon, dplyr (>= 0.8.5), generics, knitr,\n",
       "pillar (>= 1.4.4), pkgdown (>= 2.0.1), rmarkdown, testthat (>=\n",
       "3.0.0), tibble (>= 3.1.3), waldo (>= 0.2.0), withr, xml2,\n",
       "zeallot                                                                        & NA       & MIT + file LICENSE                     & NA  & NA & NA & NA & yes & 4.3.1\\\\\n",
       "\tviridisLite & viridisLite & /home/Tiris/anaconda3/envs/r-tutorial/lib/R/library & 0.4.2    & NA   & R (>= 2.10)                   & NA                                                                                                                                                                                                                                                                                                                                                                                                                                                                                                                                                                                                          & NA                                                     & hexbin (>= 1.27.0), ggplot2 (>= 1.0.1), testthat, covr                                                                                                                                                                                                             & NA       & MIT + file LICENSE                     & NA  & NA & NA & NA & no  & 4.3.1\\\\\n",
       "\tvroom & vroom       & /home/Tiris/anaconda3/envs/r-tutorial/lib/R/library & 1.6.4    & NA   & R (>= 3.6)                    & bit64, cli (>= 3.2.0), crayon, glue, hms, lifecycle (>=\n",
       "1.0.3), methods, rlang (>= 0.4.2), stats, tibble (>= 2.0.0),\n",
       "tidyselect, tzdb (>= 0.1.1), vctrs (>= 0.2.0), withr                                                                                                                                                                                                                                                                                                                                                                                                                                 & cpp11 (>= 0.2.0), progress (>= 1.2.1), tzdb (>= 0.1.1) & archive, bench (>= 1.1.0), covr, curl, dplyr, forcats, fs,\n",
       "ggplot2, knitr, patchwork, prettyunits, purrr, rmarkdown,\n",
       "rstudioapi, scales, spelling, testthat (>= 2.1.0), tidyr,\n",
       "utils, waldo, xml2                                                               & NA       & MIT + file LICENSE                     & NA  & NA & NA & NA & yes & 4.3.1\\\\\n",
       "\twithr & withr       & /home/Tiris/anaconda3/envs/r-tutorial/lib/R/library & 2.5.1    & NA   & R (>= 3.2.0)                  & graphics, grDevices, stats                                                                                                                                                                                                                                                                                                                                                                                                                                                                                                                                                                                  & NA                                                     & callr, covr, DBI, knitr, lattice, methods, rlang, rmarkdown\n",
       "(>= 2.12), RSQLite, testthat (>= 3.0.0)                                                                                                                                                               & NA       & MIT + file LICENSE                     & NA  & NA & NA & NA & no  & 4.3.1\\\\\n",
       "\txfun & xfun        & /home/Tiris/anaconda3/envs/r-tutorial/lib/R/library & 0.40     & NA   & NA                            & stats, tools                                                                                                                                                                                                                                                                                                                                                                                                                                                                                                                                                                                                & NA                                                     & testit, parallel, codetools, rstudioapi, tinytex (>= 0.30),\n",
       "mime, markdown (>= 1.5), knitr (>= 1.42), htmltools, remotes,\n",
       "pak, rhub, renv, curl, jsonlite, magick, yaml, rmarkdown                                                                               & NA       & MIT + file LICENSE                     & NA  & NA & NA & NA & yes & 4.3.1\\\\\n",
       "\txml2 & xml2        & /home/Tiris/anaconda3/envs/r-tutorial/lib/R/library & 1.3.6    & NA   & R (>= 3.6.0)                  & cli, methods, rlang (>= 1.1.0)                                                                                                                                                                                                                                                                                                                                                                                                                                                                                                                                                                              & NA                                                     & covr, curl, httr, knitr, magrittr, mockery, rmarkdown,\n",
       "testthat (>= 3.0.0)                                                                                                                                                                                        & NA       & MIT + file LICENSE                     & NA  & NA & NA & NA & yes & 4.3.1\\\\\n",
       "\txtable & xtable      & /home/Tiris/anaconda3/envs/r-tutorial/lib/R/library & 1.8-4    & NA   & R (>= 2.10.0)                 & stats, utils                                                                                                                                                                                                                                                                                                                                                                                                                                                                                                                                                                                                & NA                                                     & knitr, plm, zoo, survival                                                                                                                                                                                                                                          & NA       & GPL (>= 2)                             & NA  & NA & NA & NA & no  & 4.3.1\\\\\n",
       "\txts & xts         & /home/Tiris/anaconda3/envs/r-tutorial/lib/R/library & 0.13.1   & NA   & R (>= 3.6.0), zoo (>= 1.7-12) & methods                                                                                                                                                                                                                                                                                                                                                                                                                                                                                                                                                                                                     & zoo                                                    & timeSeries, timeDate, tseries, chron, tinytest                                                                                                                                                                                                                     & NA       & GPL (>= 2)                             & NA  & NA & NA & NA & yes & 4.3.1\\\\\n",
       "\tyaml & yaml        & /home/Tiris/anaconda3/envs/r-tutorial/lib/R/library & 2.3.7    & NA   & NA                            & NA                                                                                                                                                                                                                                                                                                                                                                                                                                                                                                                                                                                                          & NA                                                     & RUnit                                                                                                                                                                                                                                                              & NA       & BSD\\_3\\_clause + file LICENSE            & NA  & NA & NA & NA & yes & 4.3.1\\\\\n",
       "\tzoo & zoo         & /home/Tiris/anaconda3/envs/r-tutorial/lib/R/library & 1.8-12   & NA   & R (>= 3.1.0), stats           & utils, graphics, grDevices, lattice (>= 0.20-27)                                                                                                                                                                                                                                                                                                                                                                                                                                                                                                                                                            & NA                                                     & AER, coda, chron, ggplot2 (>= 3.0.0), mondate, scales,\n",
       "stinepack, strucchange, timeDate, timeSeries, tis, tseries, xts                                                                                                                                            & NA       & GPL-2 \\textbar{} GPL-3                          & NA  & NA & NA & NA & yes & 4.3.1\\\\\n",
       "\\end{tabular}\n"
      ],
      "text/markdown": [
       "\n",
       "A matrix: 178 × 16 of type chr\n",
       "\n",
       "| <!--/--> | Package | LibPath | Version | Priority | Depends | Imports | LinkingTo | Suggests | Enhances | License | License_is_FOSS | License_restricts_use | OS_type | MD5sum | NeedsCompilation | Built |\n",
       "|---|---|---|---|---|---|---|---|---|---|---|---|---|---|---|---|---|\n",
       "| askpass | askpass    | /home/Tiris/anaconda3/envs/r-tutorial/lib/R/library | 1.2.0    | NA   | NA                                                  | sys (&gt;= 2.1)                                                                                                                                             | NA                                | testthat                                                                                                                                                                                                                                                                                                                                                                                                                                                                                                                                                                                                                                                                                                                                                            | NA  | MIT + file LICENSE          | NA | NA | NA | NA | yes | 4.3.1 |\n",
       "| backports | backports  | /home/Tiris/anaconda3/envs/r-tutorial/lib/R/library | 1.4.1    | NA   | R (&gt;= 3.0.0)                                        | NA                                                                                                                                                       | NA                                | NA                                                                                                                                                                                                                                                                                                                                                                                                                                                                                                                                                                                                                                                                                                                                                                  | NA  | GPL-2 | GPL-3               | NA | NA | NA | NA | yes | 4.3.1 |\n",
       "| base | base       | /home/Tiris/anaconda3/envs/r-tutorial/lib/R/library | 4.3.1    | base | NA                                                  | NA                                                                                                                                                       | NA                                | methods                                                                                                                                                                                                                                                                                                                                                                                                                                                                                                                                                                                                                                                                                                                                                             | NA  | Part of R 4.3.1             | NA | NA | NA | NA | NA  | 4.3.1 |\n",
       "| base64enc | base64enc  | /home/Tiris/anaconda3/envs/r-tutorial/lib/R/library | 0.1-3    | NA   | R (&gt;= 2.9.0)                                        | NA                                                                                                                                                       | NA                                | NA                                                                                                                                                                                                                                                                                                                                                                                                                                                                                                                                                                                                                                                                                                                                                                  | png | GPL-2 | GPL-3               | NA | NA | NA | NA | yes | 4.3.1 |\n",
       "| bit | bit        | /home/Tiris/anaconda3/envs/r-tutorial/lib/R/library | 4.0.5    | NA   | R (&gt;= 2.9.2)                                        | NA                                                                                                                                                       | NA                                | testthat (&gt;= 0.11.0), roxygen2, knitr, rmarkdown,\n",
       "microbenchmark, bit64 (&gt;= 4.0.0), ff (&gt;= 4.0.0)                                                                                                                                                                                                                                                                                                                                                                                                                                                                                                                                                                                                                                                                  | NA  | GPL-2 | GPL-3               | NA | NA | NA | NA | yes | 4.3.1 |\n",
       "| bit64 | bit64      | /home/Tiris/anaconda3/envs/r-tutorial/lib/R/library | 4.0.5    | NA   | R (&gt;= 3.0.1), bit (&gt;= 4.0.0), utils, methods, stats | NA                                                                                                                                                       | NA                                | NA                                                                                                                                                                                                                                                                                                                                                                                                                                                                                                                                                                                                                                                                                                                                                                  | NA  | GPL-2 | GPL-3               | NA | NA | NA | NA | yes | 4.3.1 |\n",
       "| blob | blob       | /home/Tiris/anaconda3/envs/r-tutorial/lib/R/library | 1.2.4    | NA   | NA                                                  | methods, rlang, vctrs (&gt;= 0.2.1)                                                                                                                         | NA                                | covr, crayon, pillar (&gt;= 1.2.1), testthat                                                                                                                                                                                                                                                                                                                                                                                                                                                                                                                                                                                                                                                                                                                           | NA  | MIT + file LICENSE          | NA | NA | NA | NA | no  | 4.3.1 |\n",
       "| boot | boot       | /home/Tiris/anaconda3/envs/r-tutorial/lib/R/library | 1.3-28.1 | NA   | R (&gt;= 3.0.0), graphics, stats                       | NA                                                                                                                                                       | NA                                | MASS, survival                                                                                                                                                                                                                                                                                                                                                                                                                                                                                                                                                                                                                                                                                                                                                      | NA  | Unlimited                   | NA | NA | NA | NA | no  | 4.3.1 |\n",
       "| broom | broom      | /home/Tiris/anaconda3/envs/r-tutorial/lib/R/library | 1.0.5    | NA   | R (&gt;= 3.5)                                          | backports, dplyr (&gt;= 1.0.0), ellipsis, generics (&gt;= 0.0.2),\n",
       "glue, lifecycle, purrr, rlang, stringr, tibble (&gt;= 3.0.0),\n",
       "tidyr (&gt;= 1.0.0)                | NA                                | AER, AUC, bbmle, betareg, biglm, binGroup, boot, btergm (&gt;=\n",
       "1.10.6), car, carData, caret, cluster, cmprsk, coda, covr, drc,\n",
       "e1071, emmeans, epiR, ergm (&gt;= 3.10.4), fixest (&gt;= 0.9.0), gam\n",
       "(&gt;= 1.15), gee, geepack, ggplot2, glmnet, glmnetUtils, gmm,\n",
       "Hmisc, irlba, interp, joineRML, Kendall, knitr, ks, Lahman,\n",
       "lavaan, leaps, lfe, lm.beta, lme4, lmodel2, lmtest (&gt;= 0.9.38),\n",
       "lsmeans, maps, margins, MASS, mclust, mediation, metafor, mfx,\n",
       "mgcv, mlogit, modeldata, modeltests, muhaz, multcomp, network,\n",
       "nnet, orcutt (&gt;= 2.2), ordinal, plm, poLCA, psych, quantreg,\n",
       "rmarkdown, robust, robustbase, rsample, sandwich, sp, spdep (&gt;=\n",
       "1.1), spatialreg, speedglm, spelling, survey, survival,\n",
       "systemfit, testthat (&gt;= 2.1.0), tseries, vars, zoo | NA  | MIT + file LICENSE          | NA | NA | NA | NA | no  | 4.3.1 |\n",
       "| bslib | bslib      | /home/Tiris/anaconda3/envs/r-tutorial/lib/R/library | 0.5.1    | NA   | R (&gt;= 2.10)                                         | base64enc, cachem, grDevices, htmltools (&gt;= 0.5.4), jquerylib\n",
       "(&gt;= 0.1.3), jsonlite, memoise (&gt;= 2.0.1), mime, rlang, sass (&gt;=\n",
       "0.4.0)                   | NA                                | bsicons, curl, fontawesome, ggplot2, knitr, magrittr,\n",
       "rappdirs, rmarkdown (&gt;= 2.7), shiny (&gt;= 1.6.0), testthat,\n",
       "thematic, withr                                                                                                                                                                                                                                                                                                                                                                                                                                                                                                                                                                                                                                   | NA  | MIT + file LICENSE          | NA | NA | NA | NA | no  | 4.3.1 |\n",
       "| cachem | cachem     | /home/Tiris/anaconda3/envs/r-tutorial/lib/R/library | 1.0.8    | NA   | NA                                                  | rlang, fastmap (&gt;= 1.1.1)                                                                                                                                | NA                                | testthat                                                                                                                                                                                                                                                                                                                                                                                                                                                                                                                                                                                                                                                                                                                                                            | NA  | MIT + file LICENSE          | NA | NA | NA | NA | yes | 4.3.1 |\n",
       "| callr | callr      | /home/Tiris/anaconda3/envs/r-tutorial/lib/R/library | 3.7.3    | NA   | R (&gt;= 3.4)                                          | processx (&gt;= 3.6.1), R6, utils                                                                                                                           | NA                                | asciicast, cli (&gt;= 1.1.0), covr, mockery, ps, rprojroot,\n",
       "spelling, testthat (&gt;= 3.0.0), withr (&gt;= 2.3.0)                                                                                                                                                                                                                                                                                                                                                                                                                                                                                                                                                                                                                                                           | NA  | MIT + file LICENSE          | NA | NA | NA | NA | no  | 4.3.1 |\n",
       "| caret | caret      | /home/Tiris/anaconda3/envs/r-tutorial/lib/R/library | 6.0-94   | NA   | ggplot2, lattice (&gt;= 0.20), R (&gt;= 3.2.0)            | e1071, foreach, grDevices, methods, ModelMetrics (&gt;= 1.2.2.2),\n",
       "nlme, plyr, pROC, recipes (&gt;= 0.1.10), reshape2, stats, stats4,\n",
       "utils, withr (&gt;= 2.0.0) | NA                                | BradleyTerry2, covr, Cubist, dplyr, earth (&gt;= 2.2-3),\n",
       "ellipse, fastICA, gam (&gt;= 1.15), ipred, kernlab, klaR, knitr,\n",
       "MASS, Matrix, mda, mgcv, mlbench, MLmetrics, nnet, pamr, party\n",
       "(&gt;= 0.9-99992), pls, proxy, randomForest, RANN, rmarkdown,\n",
       "rpart, spls, subselect, superpc, testthat (&gt;= 0.9.1), themis\n",
       "(&gt;= 0.1.3)                                                                                                                                                                                                                                                                                                                                                                                                                                          | NA  | GPL (&gt;= 2)                  | NA | NA | NA | NA | yes | 4.3.1 |\n",
       "| cellranger | cellranger | /home/Tiris/anaconda3/envs/r-tutorial/lib/R/library | 1.1.0    | NA   | R (&gt;= 3.0.0)                                        | rematch, tibble                                                                                                                                          | NA                                | covr, testthat (&gt;= 1.0.0), knitr, rmarkdown                                                                                                                                                                                                                                                                                                                                                                                                                                                                                                                                                                                                                                                                                                                         | NA  | MIT + file LICENSE          | NA | NA | NA | NA | no  | 4.3.1 |\n",
       "| class | class      | /home/Tiris/anaconda3/envs/r-tutorial/lib/R/library | 7.3-22   | NA   | R (&gt;= 3.0.0), stats, utils                          | MASS                                                                                                                                                     | NA                                | NA                                                                                                                                                                                                                                                                                                                                                                                                                                                                                                                                                                                                                                                                                                                                                                  | NA  | GPL-2 | GPL-3               | NA | NA | NA | NA | yes | 4.3.1 |\n",
       "| cli | cli        | /home/Tiris/anaconda3/envs/r-tutorial/lib/R/library | 3.6.1    | NA   | R (&gt;= 3.4)                                          | utils                                                                                                                                                    | NA                                | callr, covr, crayon, digest, glue (&gt;= 1.6.0), grDevices,\n",
       "htmltools, htmlwidgets, knitr, methods, mockery, processx, ps\n",
       "(&gt;= 1.3.4.9000), rlang (&gt;= 1.0.2.9003), rmarkdown, rprojroot,\n",
       "rstudioapi, testthat, tibble, whoami, withr                                                                                                                                                                                                                                                                                                                                                                                                                                                                                                                                 | NA  | MIT + file LICENSE          | NA | NA | NA | NA | yes | 4.3.1 |\n",
       "| clipr | clipr      | /home/Tiris/anaconda3/envs/r-tutorial/lib/R/library | 0.8.0    | NA   | NA                                                  | utils                                                                                                                                                    | NA                                | covr, knitr, rmarkdown, rstudioapi (&gt;= 0.5), testthat (&gt;=\n",
       "2.0.0)                                                                                                                                                                                                                                                                                                                                                                                                                                                                                                                                                                                                                                                                                                   | NA  | GPL-3                       | NA | NA | NA | NA | no  | 4.3.1 |\n",
       "| clock | clock      | /home/Tiris/anaconda3/envs/r-tutorial/lib/R/library | 0.7.0    | NA   | R (&gt;= 3.5.0)                                        | cli (&gt;= 3.6.1), lifecycle (&gt;= 1.0.3), rlang (&gt;= 1.1.0), tzdb\n",
       "(&gt;= 0.4.0), vctrs (&gt;= 0.6.1)                                                               | cpp11 (&gt;= 0.4.3), tzdb (&gt;= 0.4.0) | covr, knitr, magrittr, pillar, rmarkdown, slider (&gt;= 0.3.0),\n",
       "testthat (&gt;= 3.0.0), withr                                                                                                                                                                                                                                                                                                                                                                                                                                                                                                                                                                                                                                                                            | NA  | MIT + file LICENSE          | NA | NA | NA | NA | yes | 4.3.1 |\n",
       "| cluster | cluster    | /home/Tiris/anaconda3/envs/r-tutorial/lib/R/library | 2.1.4    | NA   | R (&gt;= 3.5.0)                                        | graphics, grDevices, stats, utils                                                                                                                        | NA                                | MASS, Matrix                                                                                                                                                                                                                                                                                                                                                                                                                                                                                                                                                                                                                                                                                                                                                        | NA  | GPL (&gt;= 2)                  | NA | NA | NA | NA | yes | 4.3.1 |\n",
       "| codetools | codetools  | /home/Tiris/anaconda3/envs/r-tutorial/lib/R/library | 0.2-19   | NA   | R (&gt;= 2.1)                                          | NA                                                                                                                                                       | NA                                | NA                                                                                                                                                                                                                                                                                                                                                                                                                                                                                                                                                                                                                                                                                                                                                                  | NA  | GPL                         | NA | NA | NA | NA | no  | 4.3.1 |\n",
       "| colorspace | colorspace | /home/Tiris/anaconda3/envs/r-tutorial/lib/R/library | 2.1-0    | NA   | R (&gt;= 3.0.0), methods                               | graphics, grDevices, stats                                                                                                                               | NA                                | datasets, utils, KernSmooth, MASS, kernlab, mvtnorm, vcd,\n",
       "tcltk, shiny, shinyjs, ggplot2, dplyr, scales, grid, png, jpeg,\n",
       "knitr, rmarkdown, RColorBrewer, rcartocolor, scico, viridis,\n",
       "wesanderson                                                                                                                                                                                                                                                                                                                                                                                                                                                                                                                                                               | NA  | BSD_3_clause + file LICENSE | NA | NA | NA | NA | yes | 4.3.1 |\n",
       "| commonmark | commonmark | /home/Tiris/anaconda3/envs/r-tutorial/lib/R/library | 1.9.0    | NA   | NA                                                  | NA                                                                                                                                                       | NA                                | curl, testthat, xml2                                                                                                                                                                                                                                                                                                                                                                                                                                                                                                                                                                                                                                                                                                                                                | NA  | BSD_2_clause + file LICENSE | NA | NA | NA | NA | yes | 4.3.1 |\n",
       "| compiler | compiler   | /home/Tiris/anaconda3/envs/r-tutorial/lib/R/library | 4.3.1    | base | NA                                                  | NA                                                                                                                                                       | NA                                | NA                                                                                                                                                                                                                                                                                                                                                                                                                                                                                                                                                                                                                                                                                                                                                                  | NA  | Part of R 4.3.1             | NA | NA | NA | NA | NA  | 4.3.1 |\n",
       "| conflicted | conflicted | /home/Tiris/anaconda3/envs/r-tutorial/lib/R/library | 1.2.0    | NA   | R (&gt;= 3.2)                                          | cli (&gt;= 3.4.0), memoise, rlang (&gt;= 1.0.0)                                                                                                                | NA                                | callr, covr, dplyr, Matrix, methods, pkgload, testthat (&gt;=\n",
       "3.0.0), withr                                                                                                                                                                                                                                                                                                                                                                                                                                                                                                                                                                                                                                                                                           | NA  | MIT + file LICENSE          | NA | NA | NA | NA | no  | 4.3.1 |\n",
       "| cpp11 | cpp11      | /home/Tiris/anaconda3/envs/r-tutorial/lib/R/library | 0.4.6    | NA   | R (&gt;= 3.5.0)                                        | NA                                                                                                                                                       | NA                                | bench, brio, callr, cli, covr, decor, desc, ggplot2, glue,\n",
       "knitr, lobstr, mockery, progress, rmarkdown, scales, Rcpp,\n",
       "testthat, tibble, utils, vctrs, withr                                                                                                                                                                                                                                                                                                                                                                                                                                                                                                                                                                                                       | NA  | MIT + file LICENSE          | NA | NA | NA | NA | no  | 4.3.1 |\n",
       "| crayon | crayon     | /home/Tiris/anaconda3/envs/r-tutorial/lib/R/library | 1.5.2    | NA   | NA                                                  | grDevices, methods, utils                                                                                                                                | NA                                | mockery, rstudioapi, testthat, withr                                                                                                                                                                                                                                                                                                                                                                                                                                                                                                                                                                                                                                                                                                                                | NA  | MIT + file LICENSE          | NA | NA | NA | NA | no  | 4.3.1 |\n",
       "| curl | curl       | /home/Tiris/anaconda3/envs/r-tutorial/lib/R/library | 5.1.0    | NA   | R (&gt;= 3.0.0)                                        | NA                                                                                                                                                       | NA                                | spelling, testthat (&gt;= 1.0.0), knitr, jsonlite, rmarkdown,\n",
       "magrittr, httpuv (&gt;= 1.4.4), webutils                                                                                                                                                                                                                                                                                                                                                                                                                                                                                                                                                                                                                                                                   | NA  | MIT + file LICENSE          | NA | NA | NA | NA | yes | 4.3.1 |\n",
       "| data.table | data.table | /home/Tiris/anaconda3/envs/r-tutorial/lib/R/library | 1.14.8   | NA   | R (&gt;= 3.1.0)                                        | methods                                                                                                                                                  | NA                                | bit64 (&gt;= 4.0.0), bit (&gt;= 4.0.4), curl, R.utils, xts,\n",
       "nanotime, zoo (&gt;= 1.8-1), yaml, knitr, rmarkdown                                                                                                                                                                                                                                                                                                                                                                                                                                                                                                                                                                                                                                                             | NA  | MPL-2.0 | file LICENSE      | NA | NA | NA | NA | yes | 4.3.1 |\n",
       "| datasets | datasets   | /home/Tiris/anaconda3/envs/r-tutorial/lib/R/library | 4.3.1    | base | NA                                                  | NA                                                                                                                                                       | NA                                | NA                                                                                                                                                                                                                                                                                                                                                                                                                                                                                                                                                                                                                                                                                                                                                                  | NA  | Part of R 4.3.1             | NA | NA | NA | NA | NA  | 4.3.1 |\n",
       "| DBI | DBI        | /home/Tiris/anaconda3/envs/r-tutorial/lib/R/library | 1.1.3    | NA   | methods, R (&gt;= 3.0.0)                               | NA                                                                                                                                                       | NA                                | blob, covr, DBItest, dbplyr, downlit, dplyr, glue, hms,\n",
       "knitr, magrittr, RMariaDB, rmarkdown, rprojroot, RSQLite (&gt;=\n",
       "1.1-2), testthat, xml2                                                                                                                                                                                                                                                                                                                                                                                                                                                                                                                                                                                                                       | NA  | LGPL (&gt;= 2.1)               | NA | NA | NA | NA | no  | 4.3.1 |\n",
       "| ⋮ | ⋮ | ⋮ | ⋮ | ⋮ | ⋮ | ⋮ | ⋮ | ⋮ | ⋮ | ⋮ | ⋮ | ⋮ | ⋮ | ⋮ | ⋮ | ⋮ |\n",
       "| stringi | stringi     | /home/Tiris/anaconda3/envs/r-tutorial/lib/R/library | 1.7.12   | NA   | R (&gt;= 3.1)                    | tools, utils, stats                                                                                                                                                                                                                                                                                                                                                                                                                                                                                                                                                                                         | NA                                                     | NA                                                                                                                                                                                                                                                                 | NA       | file LICENSE                           | yes | NA | NA | NA | yes | 4.3.1 |\n",
       "| stringr | stringr     | /home/Tiris/anaconda3/envs/r-tutorial/lib/R/library | 1.5.0    | NA   | R (&gt;= 3.3)                    | cli, glue (&gt;= 1.6.1), lifecycle (&gt;= 1.0.3), magrittr, rlang\n",
       "(&gt;= 1.0.0), stringi (&gt;= 1.5.3), vctrs                                                                                                                                                                                                                                                                                                                                                                                                                                                                                                          | NA                                                     | covr, htmltools, htmlwidgets, knitr, rmarkdown, testthat (&gt;=\n",
       "3.0.0)                                                                                                                                                                                               | NA       | MIT + file LICENSE                     | NA  | NA | NA | NA | no  | 4.3.1 |\n",
       "| survival | survival    | /home/Tiris/anaconda3/envs/r-tutorial/lib/R/library | 3.5-7    | NA   | R (&gt;= 3.5.0)                  | graphics, Matrix, methods, splines, stats, utils                                                                                                                                                                                                                                                                                                                                                                                                                                                                                                                                                            | NA                                                     | NA                                                                                                                                                                                                                                                                 | NA       | LGPL (&gt;= 2)                            | NA  | NA | NA | NA | yes | 4.3.1 |\n",
       "| sys | sys         | /home/Tiris/anaconda3/envs/r-tutorial/lib/R/library | 3.4.2    | NA   | NA                            | NA                                                                                                                                                                                                                                                                                                                                                                                                                                                                                                                                                                                                          | NA                                                     | unix (&gt;= 1.4), spelling, testthat                                                                                                                                                                                                                                  | NA       | MIT + file LICENSE                     | NA  | NA | NA | NA | yes | 4.3.1 |\n",
       "| systemfonts | systemfonts | /home/Tiris/anaconda3/envs/r-tutorial/lib/R/library | 1.0.5    | NA   | R (&gt;= 3.2.0)                  | NA                                                                                                                                                                                                                                                                                                                                                                                                                                                                                                                                                                                                          | cpp11 (&gt;= 0.2.1)                                       | covr, knitr, rmarkdown, testthat (&gt;= 2.1.0), tools                                                                                                                                                                                                                 | NA       | MIT + file LICENSE                     | NA  | NA | NA | NA | yes | 4.3.1 |\n",
       "| tcltk | tcltk       | /home/Tiris/anaconda3/envs/r-tutorial/lib/R/library | 4.3.1    | base | NA                            | utils                                                                                                                                                                                                                                                                                                                                                                                                                                                                                                                                                                                                       | NA                                                     | NA                                                                                                                                                                                                                                                                 | NA       | Part of R 4.3.1                        | NA  | NA | NA | NA | yes | 4.3.1 |\n",
       "| textshaping | textshaping | /home/Tiris/anaconda3/envs/r-tutorial/lib/R/library | 0.3.7    | NA   | R (&gt;= 3.2.0)                  | systemfonts (&gt;= 1.0.0)                                                                                                                                                                                                                                                                                                                                                                                                                                                                                                                                                                                      | cpp11 (&gt;= 0.2.1), systemfonts (&gt;= 1.0.0)               | covr, knitr, rmarkdown                                                                                                                                                                                                                                             | NA       | MIT + file LICENSE                     | NA  | NA | NA | NA | yes | 4.3.1 |\n",
       "| tibble | tibble      | /home/Tiris/anaconda3/envs/r-tutorial/lib/R/library | 3.2.1    | NA   | R (&gt;= 3.4.0)                  | fansi (&gt;= 0.4.0), lifecycle (&gt;= 1.0.0), magrittr, methods,\n",
       "pillar (&gt;= 1.8.1), pkgconfig, rlang (&gt;= 1.0.2), utils, vctrs\n",
       "(&gt;= 0.4.2)                                                                                                                                                                                                                                                                                                                                                                                                                                                                        | NA                                                     | bench, bit64, blob, brio, callr, cli, covr, crayon (&gt;=\n",
       "1.3.4), DiagrammeR, dplyr, evaluate, formattable, ggplot2,\n",
       "here, hms, htmltools, knitr, lubridate, mockr, nycflights13,\n",
       "pkgbuild, pkgload, purrr, rmarkdown, stringi, testthat (&gt;=\n",
       "3.0.2), tidyr, withr | NA       | MIT + file LICENSE                     | NA  | NA | NA | NA | yes | 4.3.1 |\n",
       "| tidyr | tidyr       | /home/Tiris/anaconda3/envs/r-tutorial/lib/R/library | 1.3.0    | NA   | R (&gt;= 3.4.0)                  | cli (&gt;= 3.4.1), dplyr (&gt;= 1.0.10), glue, lifecycle (&gt;= 1.0.3),\n",
       "magrittr, purrr (&gt;= 1.0.1), rlang (&gt;= 1.0.4), stringr (&gt;=\n",
       "1.5.0), tibble (&gt;= 2.1.1), tidyselect (&gt;= 1.2.0), utils, vctrs\n",
       "(&gt;= 0.5.2)                                                                                                                                                                                                                                                                                                                                                                                                       | cpp11 (&gt;= 0.4.0)                                       | covr, data.table, knitr, readr, repurrrsive (&gt;= 1.1.0),\n",
       "rmarkdown, testthat (&gt;= 3.0.0)                                                                                                                                                                            | NA       | MIT + file LICENSE                     | NA  | NA | NA | NA | yes | 4.3.1 |\n",
       "| tidyselect | tidyselect  | /home/Tiris/anaconda3/envs/r-tutorial/lib/R/library | 1.2.0    | NA   | R (&gt;= 3.4)                    | cli (&gt;= 3.3.0), glue (&gt;= 1.3.0), lifecycle (&gt;= 1.0.3), rlang\n",
       "(&gt;= 1.0.4), vctrs (&gt;= 0.4.1), withr                                                                                                                                                                                                                                                                                                                                                                                                                                                                                                           | NA                                                     | covr, crayon, dplyr, knitr, magrittr, rmarkdown, stringr,\n",
       "testthat (&gt;= 3.1.1), tibble (&gt;= 2.1.3)                                                                                                                                                                  | NA       | MIT + file LICENSE                     | NA  | NA | NA | NA | no  | 4.3.1 |\n",
       "| tidyverse | tidyverse   | /home/Tiris/anaconda3/envs/r-tutorial/lib/R/library | 2.0.0    | NA   | R (&gt;= 3.3)                    | broom (&gt;= 1.0.3), conflicted (&gt;= 1.2.0), cli (&gt;= 3.6.0),\n",
       "dbplyr (&gt;= 2.3.0), dplyr (&gt;= 1.1.0), dtplyr (&gt;= 1.2.2), forcats\n",
       "(&gt;= 1.0.0), ggplot2 (&gt;= 3.4.1), googledrive (&gt;= 2.0.0),\n",
       "googlesheets4 (&gt;= 1.0.1), haven (&gt;= 2.5.1), hms (&gt;= 1.1.2),\n",
       "httr (&gt;= 1.4.4), jsonlite (&gt;= 1.8.4), lubridate (&gt;= 1.9.2),\n",
       "magrittr (&gt;= 2.0.3), modelr (&gt;= 0.1.10), pillar (&gt;= 1.8.1),\n",
       "purrr (&gt;= 1.0.1), ragg (&gt;= 1.2.5), readr (&gt;= 2.1.4), readxl (&gt;=\n",
       "1.4.2), reprex (&gt;= 2.0.2), rlang (&gt;= 1.0.6), rstudioapi (&gt;=\n",
       "0.14), rvest (&gt;= 1.0.3), stringr (&gt;= 1.5.0), tibble (&gt;= 3.1.8),\n",
       "tidyr (&gt;= 1.3.0), xml2 (&gt;= 1.3.3) | NA                                                     | covr (&gt;= 3.6.1), feather (&gt;= 0.3.5), glue (&gt;= 1.6.2), mockr\n",
       "(&gt;= 0.2.0), knitr (&gt;= 1.41), rmarkdown (&gt;= 2.20), testthat (&gt;=\n",
       "3.1.6)                                                                                                                                | NA       | MIT + file LICENSE                     | NA  | NA | NA | NA | no  | 4.3.1 |\n",
       "| timechange | timechange  | /home/Tiris/anaconda3/envs/r-tutorial/lib/R/library | 0.2.0    | NA   | R (&gt;= 3.3)                    | NA                                                                                                                                                                                                                                                                                                                                                                                                                                                                                                                                                                                                          | cpp11 (&gt;= 0.2.7)                                       | testthat (&gt;= 0.7.1.99), knitr                                                                                                                                                                                                                                      | NA       | GPL-3                                  | NA  | NA | NA | NA | yes | 4.3.1 |\n",
       "| timeDate | timeDate    | /home/Tiris/anaconda3/envs/r-tutorial/lib/R/library | 4022.108 | NA   | R (&gt;= 3.6.0)                  | graphics, utils, stats, methods                                                                                                                                                                                                                                                                                                                                                                                                                                                                                                                                                                             | NA                                                     | RUnit                                                                                                                                                                                                                                                              | NA       | GPL (&gt;= 2)                             | NA  | NA | NA | NA | no  | 4.3.1 |\n",
       "| tinytex | tinytex     | /home/Tiris/anaconda3/envs/r-tutorial/lib/R/library | 0.48     | NA   | NA                            | xfun (&gt;= 0.29)                                                                                                                                                                                                                                                                                                                                                                                                                                                                                                                                                                                              | NA                                                     | testit, rstudioapi                                                                                                                                                                                                                                                 | NA       | MIT + file LICENSE                     | NA  | NA | NA | NA | no  | 4.3.1 |\n",
       "| tools | tools       | /home/Tiris/anaconda3/envs/r-tutorial/lib/R/library | 4.3.1    | base | NA                            | NA                                                                                                                                                                                                                                                                                                                                                                                                                                                                                                                                                                                                          | NA                                                     | codetools, methods, xml2, curl, commonmark, knitr, xfun,\n",
       "mathjaxr, V8                                                                                                                                                                                             | NA       | Part of R 4.3.1                        | NA  | NA | NA | NA | yes | 4.3.1 |\n",
       "| TTR | TTR         | /home/Tiris/anaconda3/envs/r-tutorial/lib/R/library | 0.24.3   | NA   | NA                            | xts (&gt;= 0.10-0), zoo, curl                                                                                                                                                                                                                                                                                                                                                                                                                                                                                                                                                                                  | xts                                                    | RUnit                                                                                                                                                                                                                                                              | quantmod | GPL (&gt;= 2)                             | NA  | NA | NA | NA | yes | 4.3.1 |\n",
       "| tzdb | tzdb        | /home/Tiris/anaconda3/envs/r-tutorial/lib/R/library | 0.4.0    | NA   | R (&gt;= 3.5.0)                  | NA                                                                                                                                                                                                                                                                                                                                                                                                                                                                                                                                                                                                          | cpp11 (&gt;= 0.4.2)                                       | covr, testthat (&gt;= 3.0.0)                                                                                                                                                                                                                                          | NA       | MIT + file LICENSE                     | NA  | NA | NA | NA | yes | 4.3.1 |\n",
       "| utf8 | utf8        | /home/Tiris/anaconda3/envs/r-tutorial/lib/R/library | 1.2.4    | NA   | R (&gt;= 2.10)                   | NA                                                                                                                                                                                                                                                                                                                                                                                                                                                                                                                                                                                                          | NA                                                     | cli, covr, knitr, rlang, rmarkdown, testthat (&gt;= 3.0.0),\n",
       "withr                                                                                                                                                                                                    | NA       | Apache License (== 2.0) | file LICENSE | NA  | NA | NA | NA | yes | 4.3.1 |\n",
       "| utils | utils       | /home/Tiris/anaconda3/envs/r-tutorial/lib/R/library | 4.3.1    | base | NA                            | NA                                                                                                                                                                                                                                                                                                                                                                                                                                                                                                                                                                                                          | NA                                                     | methods, xml2, commonmark, knitr                                                                                                                                                                                                                                   | NA       | Part of R 4.3.1                        | NA  | NA | NA | NA | yes | 4.3.1 |\n",
       "| uuid | uuid        | /home/Tiris/anaconda3/envs/r-tutorial/lib/R/library | 1.1-1    | NA   | R (&gt;= 2.9.0)                  | NA                                                                                                                                                                                                                                                                                                                                                                                                                                                                                                                                                                                                          | NA                                                     | NA                                                                                                                                                                                                                                                                 | NA       | MIT + file LICENSE                     | NA  | NA | NA | NA | yes | 4.3.1 |\n",
       "| vctrs | vctrs       | /home/Tiris/anaconda3/envs/r-tutorial/lib/R/library | 0.6.4    | NA   | R (&gt;= 3.5.0)                  | cli (&gt;= 3.4.0), glue, lifecycle (&gt;= 1.0.3), rlang (&gt;= 1.1.0)                                                                                                                                                                                                                                                                                                                                                                                                                                                                                                                                                | NA                                                     | bit64, covr, crayon, dplyr (&gt;= 0.8.5), generics, knitr,\n",
       "pillar (&gt;= 1.4.4), pkgdown (&gt;= 2.0.1), rmarkdown, testthat (&gt;=\n",
       "3.0.0), tibble (&gt;= 3.1.3), waldo (&gt;= 0.2.0), withr, xml2,\n",
       "zeallot                                                                        | NA       | MIT + file LICENSE                     | NA  | NA | NA | NA | yes | 4.3.1 |\n",
       "| viridisLite | viridisLite | /home/Tiris/anaconda3/envs/r-tutorial/lib/R/library | 0.4.2    | NA   | R (&gt;= 2.10)                   | NA                                                                                                                                                                                                                                                                                                                                                                                                                                                                                                                                                                                                          | NA                                                     | hexbin (&gt;= 1.27.0), ggplot2 (&gt;= 1.0.1), testthat, covr                                                                                                                                                                                                             | NA       | MIT + file LICENSE                     | NA  | NA | NA | NA | no  | 4.3.1 |\n",
       "| vroom | vroom       | /home/Tiris/anaconda3/envs/r-tutorial/lib/R/library | 1.6.4    | NA   | R (&gt;= 3.6)                    | bit64, cli (&gt;= 3.2.0), crayon, glue, hms, lifecycle (&gt;=\n",
       "1.0.3), methods, rlang (&gt;= 0.4.2), stats, tibble (&gt;= 2.0.0),\n",
       "tidyselect, tzdb (&gt;= 0.1.1), vctrs (&gt;= 0.2.0), withr                                                                                                                                                                                                                                                                                                                                                                                                                                 | cpp11 (&gt;= 0.2.0), progress (&gt;= 1.2.1), tzdb (&gt;= 0.1.1) | archive, bench (&gt;= 1.1.0), covr, curl, dplyr, forcats, fs,\n",
       "ggplot2, knitr, patchwork, prettyunits, purrr, rmarkdown,\n",
       "rstudioapi, scales, spelling, testthat (&gt;= 2.1.0), tidyr,\n",
       "utils, waldo, xml2                                                               | NA       | MIT + file LICENSE                     | NA  | NA | NA | NA | yes | 4.3.1 |\n",
       "| withr | withr       | /home/Tiris/anaconda3/envs/r-tutorial/lib/R/library | 2.5.1    | NA   | R (&gt;= 3.2.0)                  | graphics, grDevices, stats                                                                                                                                                                                                                                                                                                                                                                                                                                                                                                                                                                                  | NA                                                     | callr, covr, DBI, knitr, lattice, methods, rlang, rmarkdown\n",
       "(&gt;= 2.12), RSQLite, testthat (&gt;= 3.0.0)                                                                                                                                                               | NA       | MIT + file LICENSE                     | NA  | NA | NA | NA | no  | 4.3.1 |\n",
       "| xfun | xfun        | /home/Tiris/anaconda3/envs/r-tutorial/lib/R/library | 0.40     | NA   | NA                            | stats, tools                                                                                                                                                                                                                                                                                                                                                                                                                                                                                                                                                                                                | NA                                                     | testit, parallel, codetools, rstudioapi, tinytex (&gt;= 0.30),\n",
       "mime, markdown (&gt;= 1.5), knitr (&gt;= 1.42), htmltools, remotes,\n",
       "pak, rhub, renv, curl, jsonlite, magick, yaml, rmarkdown                                                                               | NA       | MIT + file LICENSE                     | NA  | NA | NA | NA | yes | 4.3.1 |\n",
       "| xml2 | xml2        | /home/Tiris/anaconda3/envs/r-tutorial/lib/R/library | 1.3.6    | NA   | R (&gt;= 3.6.0)                  | cli, methods, rlang (&gt;= 1.1.0)                                                                                                                                                                                                                                                                                                                                                                                                                                                                                                                                                                              | NA                                                     | covr, curl, httr, knitr, magrittr, mockery, rmarkdown,\n",
       "testthat (&gt;= 3.0.0)                                                                                                                                                                                        | NA       | MIT + file LICENSE                     | NA  | NA | NA | NA | yes | 4.3.1 |\n",
       "| xtable | xtable      | /home/Tiris/anaconda3/envs/r-tutorial/lib/R/library | 1.8-4    | NA   | R (&gt;= 2.10.0)                 | stats, utils                                                                                                                                                                                                                                                                                                                                                                                                                                                                                                                                                                                                | NA                                                     | knitr, plm, zoo, survival                                                                                                                                                                                                                                          | NA       | GPL (&gt;= 2)                             | NA  | NA | NA | NA | no  | 4.3.1 |\n",
       "| xts | xts         | /home/Tiris/anaconda3/envs/r-tutorial/lib/R/library | 0.13.1   | NA   | R (&gt;= 3.6.0), zoo (&gt;= 1.7-12) | methods                                                                                                                                                                                                                                                                                                                                                                                                                                                                                                                                                                                                     | zoo                                                    | timeSeries, timeDate, tseries, chron, tinytest                                                                                                                                                                                                                     | NA       | GPL (&gt;= 2)                             | NA  | NA | NA | NA | yes | 4.3.1 |\n",
       "| yaml | yaml        | /home/Tiris/anaconda3/envs/r-tutorial/lib/R/library | 2.3.7    | NA   | NA                            | NA                                                                                                                                                                                                                                                                                                                                                                                                                                                                                                                                                                                                          | NA                                                     | RUnit                                                                                                                                                                                                                                                              | NA       | BSD_3_clause + file LICENSE            | NA  | NA | NA | NA | yes | 4.3.1 |\n",
       "| zoo | zoo         | /home/Tiris/anaconda3/envs/r-tutorial/lib/R/library | 1.8-12   | NA   | R (&gt;= 3.1.0), stats           | utils, graphics, grDevices, lattice (&gt;= 0.20-27)                                                                                                                                                                                                                                                                                                                                                                                                                                                                                                                                                            | NA                                                     | AER, coda, chron, ggplot2 (&gt;= 3.0.0), mondate, scales,\n",
       "stinepack, strucchange, timeDate, timeSeries, tis, tseries, xts                                                                                                                                            | NA       | GPL-2 | GPL-3                          | NA  | NA | NA | NA | yes | 4.3.1 |\n",
       "\n"
      ],
      "text/plain": [
       "            Package     LibPath                                            \n",
       "askpass     askpass     /home/Tiris/anaconda3/envs/r-tutorial/lib/R/library\n",
       "backports   backports   /home/Tiris/anaconda3/envs/r-tutorial/lib/R/library\n",
       "base        base        /home/Tiris/anaconda3/envs/r-tutorial/lib/R/library\n",
       "base64enc   base64enc   /home/Tiris/anaconda3/envs/r-tutorial/lib/R/library\n",
       "bit         bit         /home/Tiris/anaconda3/envs/r-tutorial/lib/R/library\n",
       "bit64       bit64       /home/Tiris/anaconda3/envs/r-tutorial/lib/R/library\n",
       "blob        blob        /home/Tiris/anaconda3/envs/r-tutorial/lib/R/library\n",
       "boot        boot        /home/Tiris/anaconda3/envs/r-tutorial/lib/R/library\n",
       "broom       broom       /home/Tiris/anaconda3/envs/r-tutorial/lib/R/library\n",
       "bslib       bslib       /home/Tiris/anaconda3/envs/r-tutorial/lib/R/library\n",
       "cachem      cachem      /home/Tiris/anaconda3/envs/r-tutorial/lib/R/library\n",
       "callr       callr       /home/Tiris/anaconda3/envs/r-tutorial/lib/R/library\n",
       "caret       caret       /home/Tiris/anaconda3/envs/r-tutorial/lib/R/library\n",
       "cellranger  cellranger  /home/Tiris/anaconda3/envs/r-tutorial/lib/R/library\n",
       "class       class       /home/Tiris/anaconda3/envs/r-tutorial/lib/R/library\n",
       "cli         cli         /home/Tiris/anaconda3/envs/r-tutorial/lib/R/library\n",
       "clipr       clipr       /home/Tiris/anaconda3/envs/r-tutorial/lib/R/library\n",
       "clock       clock       /home/Tiris/anaconda3/envs/r-tutorial/lib/R/library\n",
       "cluster     cluster     /home/Tiris/anaconda3/envs/r-tutorial/lib/R/library\n",
       "codetools   codetools   /home/Tiris/anaconda3/envs/r-tutorial/lib/R/library\n",
       "colorspace  colorspace  /home/Tiris/anaconda3/envs/r-tutorial/lib/R/library\n",
       "commonmark  commonmark  /home/Tiris/anaconda3/envs/r-tutorial/lib/R/library\n",
       "compiler    compiler    /home/Tiris/anaconda3/envs/r-tutorial/lib/R/library\n",
       "conflicted  conflicted  /home/Tiris/anaconda3/envs/r-tutorial/lib/R/library\n",
       "cpp11       cpp11       /home/Tiris/anaconda3/envs/r-tutorial/lib/R/library\n",
       "crayon      crayon      /home/Tiris/anaconda3/envs/r-tutorial/lib/R/library\n",
       "curl        curl        /home/Tiris/anaconda3/envs/r-tutorial/lib/R/library\n",
       "data.table  data.table  /home/Tiris/anaconda3/envs/r-tutorial/lib/R/library\n",
       "datasets    datasets    /home/Tiris/anaconda3/envs/r-tutorial/lib/R/library\n",
       "DBI         DBI         /home/Tiris/anaconda3/envs/r-tutorial/lib/R/library\n",
       "⋮           ⋮           ⋮                                                  \n",
       "stringi     stringi     /home/Tiris/anaconda3/envs/r-tutorial/lib/R/library\n",
       "stringr     stringr     /home/Tiris/anaconda3/envs/r-tutorial/lib/R/library\n",
       "survival    survival    /home/Tiris/anaconda3/envs/r-tutorial/lib/R/library\n",
       "sys         sys         /home/Tiris/anaconda3/envs/r-tutorial/lib/R/library\n",
       "systemfonts systemfonts /home/Tiris/anaconda3/envs/r-tutorial/lib/R/library\n",
       "tcltk       tcltk       /home/Tiris/anaconda3/envs/r-tutorial/lib/R/library\n",
       "textshaping textshaping /home/Tiris/anaconda3/envs/r-tutorial/lib/R/library\n",
       "tibble      tibble      /home/Tiris/anaconda3/envs/r-tutorial/lib/R/library\n",
       "tidyr       tidyr       /home/Tiris/anaconda3/envs/r-tutorial/lib/R/library\n",
       "tidyselect  tidyselect  /home/Tiris/anaconda3/envs/r-tutorial/lib/R/library\n",
       "tidyverse   tidyverse   /home/Tiris/anaconda3/envs/r-tutorial/lib/R/library\n",
       "timechange  timechange  /home/Tiris/anaconda3/envs/r-tutorial/lib/R/library\n",
       "timeDate    timeDate    /home/Tiris/anaconda3/envs/r-tutorial/lib/R/library\n",
       "tinytex     tinytex     /home/Tiris/anaconda3/envs/r-tutorial/lib/R/library\n",
       "tools       tools       /home/Tiris/anaconda3/envs/r-tutorial/lib/R/library\n",
       "TTR         TTR         /home/Tiris/anaconda3/envs/r-tutorial/lib/R/library\n",
       "tzdb        tzdb        /home/Tiris/anaconda3/envs/r-tutorial/lib/R/library\n",
       "utf8        utf8        /home/Tiris/anaconda3/envs/r-tutorial/lib/R/library\n",
       "utils       utils       /home/Tiris/anaconda3/envs/r-tutorial/lib/R/library\n",
       "uuid        uuid        /home/Tiris/anaconda3/envs/r-tutorial/lib/R/library\n",
       "vctrs       vctrs       /home/Tiris/anaconda3/envs/r-tutorial/lib/R/library\n",
       "viridisLite viridisLite /home/Tiris/anaconda3/envs/r-tutorial/lib/R/library\n",
       "vroom       vroom       /home/Tiris/anaconda3/envs/r-tutorial/lib/R/library\n",
       "withr       withr       /home/Tiris/anaconda3/envs/r-tutorial/lib/R/library\n",
       "xfun        xfun        /home/Tiris/anaconda3/envs/r-tutorial/lib/R/library\n",
       "xml2        xml2        /home/Tiris/anaconda3/envs/r-tutorial/lib/R/library\n",
       "xtable      xtable      /home/Tiris/anaconda3/envs/r-tutorial/lib/R/library\n",
       "xts         xts         /home/Tiris/anaconda3/envs/r-tutorial/lib/R/library\n",
       "yaml        yaml        /home/Tiris/anaconda3/envs/r-tutorial/lib/R/library\n",
       "zoo         zoo         /home/Tiris/anaconda3/envs/r-tutorial/lib/R/library\n",
       "            Version  Priority\n",
       "askpass     1.2.0    NA      \n",
       "backports   1.4.1    NA      \n",
       "base        4.3.1    base    \n",
       "base64enc   0.1-3    NA      \n",
       "bit         4.0.5    NA      \n",
       "bit64       4.0.5    NA      \n",
       "blob        1.2.4    NA      \n",
       "boot        1.3-28.1 NA      \n",
       "broom       1.0.5    NA      \n",
       "bslib       0.5.1    NA      \n",
       "cachem      1.0.8    NA      \n",
       "callr       3.7.3    NA      \n",
       "caret       6.0-94   NA      \n",
       "cellranger  1.1.0    NA      \n",
       "class       7.3-22   NA      \n",
       "cli         3.6.1    NA      \n",
       "clipr       0.8.0    NA      \n",
       "clock       0.7.0    NA      \n",
       "cluster     2.1.4    NA      \n",
       "codetools   0.2-19   NA      \n",
       "colorspace  2.1-0    NA      \n",
       "commonmark  1.9.0    NA      \n",
       "compiler    4.3.1    base    \n",
       "conflicted  1.2.0    NA      \n",
       "cpp11       0.4.6    NA      \n",
       "crayon      1.5.2    NA      \n",
       "curl        5.1.0    NA      \n",
       "data.table  1.14.8   NA      \n",
       "datasets    4.3.1    base    \n",
       "DBI         1.1.3    NA      \n",
       "⋮           ⋮        ⋮       \n",
       "stringi     1.7.12   NA      \n",
       "stringr     1.5.0    NA      \n",
       "survival    3.5-7    NA      \n",
       "sys         3.4.2    NA      \n",
       "systemfonts 1.0.5    NA      \n",
       "tcltk       4.3.1    base    \n",
       "textshaping 0.3.7    NA      \n",
       "tibble      3.2.1    NA      \n",
       "tidyr       1.3.0    NA      \n",
       "tidyselect  1.2.0    NA      \n",
       "tidyverse   2.0.0    NA      \n",
       "timechange  0.2.0    NA      \n",
       "timeDate    4022.108 NA      \n",
       "tinytex     0.48     NA      \n",
       "tools       4.3.1    base    \n",
       "TTR         0.24.3   NA      \n",
       "tzdb        0.4.0    NA      \n",
       "utf8        1.2.4    NA      \n",
       "utils       4.3.1    base    \n",
       "uuid        1.1-1    NA      \n",
       "vctrs       0.6.4    NA      \n",
       "viridisLite 0.4.2    NA      \n",
       "vroom       1.6.4    NA      \n",
       "withr       2.5.1    NA      \n",
       "xfun        0.40     NA      \n",
       "xml2        1.3.6    NA      \n",
       "xtable      1.8-4    NA      \n",
       "xts         0.13.1   NA      \n",
       "yaml        2.3.7    NA      \n",
       "zoo         1.8-12   NA      \n",
       "            Depends                                            \n",
       "askpass     NA                                                 \n",
       "backports   R (>= 3.0.0)                                       \n",
       "base        NA                                                 \n",
       "base64enc   R (>= 2.9.0)                                       \n",
       "bit         R (>= 2.9.2)                                       \n",
       "bit64       R (>= 3.0.1), bit (>= 4.0.0), utils, methods, stats\n",
       "blob        NA                                                 \n",
       "boot        R (>= 3.0.0), graphics, stats                      \n",
       "broom       R (>= 3.5)                                         \n",
       "bslib       R (>= 2.10)                                        \n",
       "cachem      NA                                                 \n",
       "callr       R (>= 3.4)                                         \n",
       "caret       ggplot2, lattice (>= 0.20), R (>= 3.2.0)           \n",
       "cellranger  R (>= 3.0.0)                                       \n",
       "class       R (>= 3.0.0), stats, utils                         \n",
       "cli         R (>= 3.4)                                         \n",
       "clipr       NA                                                 \n",
       "clock       R (>= 3.5.0)                                       \n",
       "cluster     R (>= 3.5.0)                                       \n",
       "codetools   R (>= 2.1)                                         \n",
       "colorspace  R (>= 3.0.0), methods                              \n",
       "commonmark  NA                                                 \n",
       "compiler    NA                                                 \n",
       "conflicted  R (>= 3.2)                                         \n",
       "cpp11       R (>= 3.5.0)                                       \n",
       "crayon      NA                                                 \n",
       "curl        R (>= 3.0.0)                                       \n",
       "data.table  R (>= 3.1.0)                                       \n",
       "datasets    NA                                                 \n",
       "DBI         methods, R (>= 3.0.0)                              \n",
       "⋮           ⋮                                                  \n",
       "stringi     R (>= 3.1)                                         \n",
       "stringr     R (>= 3.3)                                         \n",
       "survival    R (>= 3.5.0)                                       \n",
       "sys         NA                                                 \n",
       "systemfonts R (>= 3.2.0)                                       \n",
       "tcltk       NA                                                 \n",
       "textshaping R (>= 3.2.0)                                       \n",
       "tibble      R (>= 3.4.0)                                       \n",
       "tidyr       R (>= 3.4.0)                                       \n",
       "tidyselect  R (>= 3.4)                                         \n",
       "tidyverse   R (>= 3.3)                                         \n",
       "timechange  R (>= 3.3)                                         \n",
       "timeDate    R (>= 3.6.0)                                       \n",
       "tinytex     NA                                                 \n",
       "tools       NA                                                 \n",
       "TTR         NA                                                 \n",
       "tzdb        R (>= 3.5.0)                                       \n",
       "utf8        R (>= 2.10)                                        \n",
       "utils       NA                                                 \n",
       "uuid        R (>= 2.9.0)                                       \n",
       "vctrs       R (>= 3.5.0)                                       \n",
       "viridisLite R (>= 2.10)                                        \n",
       "vroom       R (>= 3.6)                                         \n",
       "withr       R (>= 3.2.0)                                       \n",
       "xfun        NA                                                 \n",
       "xml2        R (>= 3.6.0)                                       \n",
       "xtable      R (>= 2.10.0)                                      \n",
       "xts         R (>= 3.6.0), zoo (>= 1.7-12)                      \n",
       "yaml        NA                                                 \n",
       "zoo         R (>= 3.1.0), stats                                \n",
       "            Imports                                                                                                                                                                                                                                                                                                                                                                                                                                                                                                                                                                                                    \n",
       "askpass     sys (>= 2.1)                                                                                                                                                                                                                                                                                                                                                                                                                                                                                                                                                                                               \n",
       "backports   NA                                                                                                                                                                                                                                                                                                                                                                                                                                                                                                                                                                                                         \n",
       "base        NA                                                                                                                                                                                                                                                                                                                                                                                                                                                                                                                                                                                                         \n",
       "base64enc   NA                                                                                                                                                                                                                                                                                                                                                                                                                                                                                                                                                                                                         \n",
       "bit         NA                                                                                                                                                                                                                                                                                                                                                                                                                                                                                                                                                                                                         \n",
       "bit64       NA                                                                                                                                                                                                                                                                                                                                                                                                                                                                                                                                                                                                         \n",
       "blob        methods, rlang, vctrs (>= 0.2.1)                                                                                                                                                                                                                                                                                                                                                                                                                                                                                                                                                                           \n",
       "boot        NA                                                                                                                                                                                                                                                                                                                                                                                                                                                                                                                                                                                                         \n",
       "broom       backports, dplyr (>= 1.0.0), ellipsis, generics (>= 0.0.2),\\nglue, lifecycle, purrr, rlang, stringr, tibble (>= 3.0.0),\\ntidyr (>= 1.0.0)                                                                                                                                                                                                                                                                                                                                                                                                                                                                  \n",
       "bslib       base64enc, cachem, grDevices, htmltools (>= 0.5.4), jquerylib\\n(>= 0.1.3), jsonlite, memoise (>= 2.0.1), mime, rlang, sass (>=\\n0.4.0)                                                                                                                                                                                                                                                                                                                                                                                                                                                                     \n",
       "cachem      rlang, fastmap (>= 1.1.1)                                                                                                                                                                                                                                                                                                                                                                                                                                                                                                                                                                                  \n",
       "callr       processx (>= 3.6.1), R6, utils                                                                                                                                                                                                                                                                                                                                                                                                                                                                                                                                                                             \n",
       "caret       e1071, foreach, grDevices, methods, ModelMetrics (>= 1.2.2.2),\\nnlme, plyr, pROC, recipes (>= 0.1.10), reshape2, stats, stats4,\\nutils, withr (>= 2.0.0)                                                                                                                                                                                                                                                                                                                                                                                                                                                   \n",
       "cellranger  rematch, tibble                                                                                                                                                                                                                                                                                                                                                                                                                                                                                                                                                                                            \n",
       "class       MASS                                                                                                                                                                                                                                                                                                                                                                                                                                                                                                                                                                                                       \n",
       "cli         utils                                                                                                                                                                                                                                                                                                                                                                                                                                                                                                                                                                                                      \n",
       "clipr       utils                                                                                                                                                                                                                                                                                                                                                                                                                                                                                                                                                                                                      \n",
       "clock       cli (>= 3.6.1), lifecycle (>= 1.0.3), rlang (>= 1.1.0), tzdb\\n(>= 0.4.0), vctrs (>= 0.6.1)                                                                                                                                                                                                                                                                                                                                                                                                                                                                                                                 \n",
       "cluster     graphics, grDevices, stats, utils                                                                                                                                                                                                                                                                                                                                                                                                                                                                                                                                                                          \n",
       "codetools   NA                                                                                                                                                                                                                                                                                                                                                                                                                                                                                                                                                                                                         \n",
       "colorspace  graphics, grDevices, stats                                                                                                                                                                                                                                                                                                                                                                                                                                                                                                                                                                                 \n",
       "commonmark  NA                                                                                                                                                                                                                                                                                                                                                                                                                                                                                                                                                                                                         \n",
       "compiler    NA                                                                                                                                                                                                                                                                                                                                                                                                                                                                                                                                                                                                         \n",
       "conflicted  cli (>= 3.4.0), memoise, rlang (>= 1.0.0)                                                                                                                                                                                                                                                                                                                                                                                                                                                                                                                                                                  \n",
       "cpp11       NA                                                                                                                                                                                                                                                                                                                                                                                                                                                                                                                                                                                                         \n",
       "crayon      grDevices, methods, utils                                                                                                                                                                                                                                                                                                                                                                                                                                                                                                                                                                                  \n",
       "curl        NA                                                                                                                                                                                                                                                                                                                                                                                                                                                                                                                                                                                                         \n",
       "data.table  methods                                                                                                                                                                                                                                                                                                                                                                                                                                                                                                                                                                                                    \n",
       "datasets    NA                                                                                                                                                                                                                                                                                                                                                                                                                                                                                                                                                                                                         \n",
       "DBI         NA                                                                                                                                                                                                                                                                                                                                                                                                                                                                                                                                                                                                         \n",
       "⋮           ⋮                                                                                                                                                                                                                                                                                                                                                                                                                                                                                                                                                                                                          \n",
       "stringi     tools, utils, stats                                                                                                                                                                                                                                                                                                                                                                                                                                                                                                                                                                                        \n",
       "stringr     cli, glue (>= 1.6.1), lifecycle (>= 1.0.3), magrittr, rlang\\n(>= 1.0.0), stringi (>= 1.5.3), vctrs                                                                                                                                                                                                                                                                                                                                                                                                                                                                                                         \n",
       "survival    graphics, Matrix, methods, splines, stats, utils                                                                                                                                                                                                                                                                                                                                                                                                                                                                                                                                                           \n",
       "sys         NA                                                                                                                                                                                                                                                                                                                                                                                                                                                                                                                                                                                                         \n",
       "systemfonts NA                                                                                                                                                                                                                                                                                                                                                                                                                                                                                                                                                                                                         \n",
       "tcltk       utils                                                                                                                                                                                                                                                                                                                                                                                                                                                                                                                                                                                                      \n",
       "textshaping systemfonts (>= 1.0.0)                                                                                                                                                                                                                                                                                                                                                                                                                                                                                                                                                                                     \n",
       "tibble      fansi (>= 0.4.0), lifecycle (>= 1.0.0), magrittr, methods,\\npillar (>= 1.8.1), pkgconfig, rlang (>= 1.0.2), utils, vctrs\\n(>= 0.4.2)                                                                                                                                                                                                                                                                                                                                                                                                                                                                       \n",
       "tidyr       cli (>= 3.4.1), dplyr (>= 1.0.10), glue, lifecycle (>= 1.0.3),\\nmagrittr, purrr (>= 1.0.1), rlang (>= 1.0.4), stringr (>=\\n1.5.0), tibble (>= 2.1.1), tidyselect (>= 1.2.0), utils, vctrs\\n(>= 0.5.2)                                                                                                                                                                                                                                                                                                                                                                                                      \n",
       "tidyselect  cli (>= 3.3.0), glue (>= 1.3.0), lifecycle (>= 1.0.3), rlang\\n(>= 1.0.4), vctrs (>= 0.4.1), withr                                                                                                                                                                                                                                                                                                                                                                                                                                                                                                          \n",
       "tidyverse   broom (>= 1.0.3), conflicted (>= 1.2.0), cli (>= 3.6.0),\\ndbplyr (>= 2.3.0), dplyr (>= 1.1.0), dtplyr (>= 1.2.2), forcats\\n(>= 1.0.0), ggplot2 (>= 3.4.1), googledrive (>= 2.0.0),\\ngooglesheets4 (>= 1.0.1), haven (>= 2.5.1), hms (>= 1.1.2),\\nhttr (>= 1.4.4), jsonlite (>= 1.8.4), lubridate (>= 1.9.2),\\nmagrittr (>= 2.0.3), modelr (>= 0.1.10), pillar (>= 1.8.1),\\npurrr (>= 1.0.1), ragg (>= 1.2.5), readr (>= 2.1.4), readxl (>=\\n1.4.2), reprex (>= 2.0.2), rlang (>= 1.0.6), rstudioapi (>=\\n0.14), rvest (>= 1.0.3), stringr (>= 1.5.0), tibble (>= 3.1.8),\\ntidyr (>= 1.3.0), xml2 (>= 1.3.3)\n",
       "timechange  NA                                                                                                                                                                                                                                                                                                                                                                                                                                                                                                                                                                                                         \n",
       "timeDate    graphics, utils, stats, methods                                                                                                                                                                                                                                                                                                                                                                                                                                                                                                                                                                            \n",
       "tinytex     xfun (>= 0.29)                                                                                                                                                                                                                                                                                                                                                                                                                                                                                                                                                                                             \n",
       "tools       NA                                                                                                                                                                                                                                                                                                                                                                                                                                                                                                                                                                                                         \n",
       "TTR         xts (>= 0.10-0), zoo, curl                                                                                                                                                                                                                                                                                                                                                                                                                                                                                                                                                                                 \n",
       "tzdb        NA                                                                                                                                                                                                                                                                                                                                                                                                                                                                                                                                                                                                         \n",
       "utf8        NA                                                                                                                                                                                                                                                                                                                                                                                                                                                                                                                                                                                                         \n",
       "utils       NA                                                                                                                                                                                                                                                                                                                                                                                                                                                                                                                                                                                                         \n",
       "uuid        NA                                                                                                                                                                                                                                                                                                                                                                                                                                                                                                                                                                                                         \n",
       "vctrs       cli (>= 3.4.0), glue, lifecycle (>= 1.0.3), rlang (>= 1.1.0)                                                                                                                                                                                                                                                                                                                                                                                                                                                                                                                                               \n",
       "viridisLite NA                                                                                                                                                                                                                                                                                                                                                                                                                                                                                                                                                                                                         \n",
       "vroom       bit64, cli (>= 3.2.0), crayon, glue, hms, lifecycle (>=\\n1.0.3), methods, rlang (>= 0.4.2), stats, tibble (>= 2.0.0),\\ntidyselect, tzdb (>= 0.1.1), vctrs (>= 0.2.0), withr                                                                                                                                                                                                                                                                                                                                                                                                                                \n",
       "withr       graphics, grDevices, stats                                                                                                                                                                                                                                                                                                                                                                                                                                                                                                                                                                                 \n",
       "xfun        stats, tools                                                                                                                                                                                                                                                                                                                                                                                                                                                                                                                                                                                               \n",
       "xml2        cli, methods, rlang (>= 1.1.0)                                                                                                                                                                                                                                                                                                                                                                                                                                                                                                                                                                             \n",
       "xtable      stats, utils                                                                                                                                                                                                                                                                                                                                                                                                                                                                                                                                                                                               \n",
       "xts         methods                                                                                                                                                                                                                                                                                                                                                                                                                                                                                                                                                                                                    \n",
       "yaml        NA                                                                                                                                                                                                                                                                                                                                                                                                                                                                                                                                                                                                         \n",
       "zoo         utils, graphics, grDevices, lattice (>= 0.20-27)                                                                                                                                                                                                                                                                                                                                                                                                                                                                                                                                                           \n",
       "            LinkingTo                                             \n",
       "askpass     NA                                                    \n",
       "backports   NA                                                    \n",
       "base        NA                                                    \n",
       "base64enc   NA                                                    \n",
       "bit         NA                                                    \n",
       "bit64       NA                                                    \n",
       "blob        NA                                                    \n",
       "boot        NA                                                    \n",
       "broom       NA                                                    \n",
       "bslib       NA                                                    \n",
       "cachem      NA                                                    \n",
       "callr       NA                                                    \n",
       "caret       NA                                                    \n",
       "cellranger  NA                                                    \n",
       "class       NA                                                    \n",
       "cli         NA                                                    \n",
       "clipr       NA                                                    \n",
       "clock       cpp11 (>= 0.4.3), tzdb (>= 0.4.0)                     \n",
       "cluster     NA                                                    \n",
       "codetools   NA                                                    \n",
       "colorspace  NA                                                    \n",
       "commonmark  NA                                                    \n",
       "compiler    NA                                                    \n",
       "conflicted  NA                                                    \n",
       "cpp11       NA                                                    \n",
       "crayon      NA                                                    \n",
       "curl        NA                                                    \n",
       "data.table  NA                                                    \n",
       "datasets    NA                                                    \n",
       "DBI         NA                                                    \n",
       "⋮           ⋮                                                     \n",
       "stringi     NA                                                    \n",
       "stringr     NA                                                    \n",
       "survival    NA                                                    \n",
       "sys         NA                                                    \n",
       "systemfonts cpp11 (>= 0.2.1)                                      \n",
       "tcltk       NA                                                    \n",
       "textshaping cpp11 (>= 0.2.1), systemfonts (>= 1.0.0)              \n",
       "tibble      NA                                                    \n",
       "tidyr       cpp11 (>= 0.4.0)                                      \n",
       "tidyselect  NA                                                    \n",
       "tidyverse   NA                                                    \n",
       "timechange  cpp11 (>= 0.2.7)                                      \n",
       "timeDate    NA                                                    \n",
       "tinytex     NA                                                    \n",
       "tools       NA                                                    \n",
       "TTR         xts                                                   \n",
       "tzdb        cpp11 (>= 0.4.2)                                      \n",
       "utf8        NA                                                    \n",
       "utils       NA                                                    \n",
       "uuid        NA                                                    \n",
       "vctrs       NA                                                    \n",
       "viridisLite NA                                                    \n",
       "vroom       cpp11 (>= 0.2.0), progress (>= 1.2.1), tzdb (>= 0.1.1)\n",
       "withr       NA                                                    \n",
       "xfun        NA                                                    \n",
       "xml2        NA                                                    \n",
       "xtable      NA                                                    \n",
       "xts         zoo                                                   \n",
       "yaml        NA                                                    \n",
       "zoo         NA                                                    \n",
       "            Suggests                                                                                                                                                                                                                                                                                                                                                                                                                                                                                                                                                                                                                                                                                                                                                           \n",
       "askpass     testthat                                                                                                                                                                                                                                                                                                                                                                                                                                                                                                                                                                                                                                                                                                                                                           \n",
       "backports   NA                                                                                                                                                                                                                                                                                                                                                                                                                                                                                                                                                                                                                                                                                                                                                                 \n",
       "base        methods                                                                                                                                                                                                                                                                                                                                                                                                                                                                                                                                                                                                                                                                                                                                                            \n",
       "base64enc   NA                                                                                                                                                                                                                                                                                                                                                                                                                                                                                                                                                                                                                                                                                                                                                                 \n",
       "bit         testthat (>= 0.11.0), roxygen2, knitr, rmarkdown,\\nmicrobenchmark, bit64 (>= 4.0.0), ff (>= 4.0.0)                                                                                                                                                                                                                                                                                                                                                                                                                                                                                                                                                                                                                                                                 \n",
       "bit64       NA                                                                                                                                                                                                                                                                                                                                                                                                                                                                                                                                                                                                                                                                                                                                                                 \n",
       "blob        covr, crayon, pillar (>= 1.2.1), testthat                                                                                                                                                                                                                                                                                                                                                                                                                                                                                                                                                                                                                                                                                                                          \n",
       "boot        MASS, survival                                                                                                                                                                                                                                                                                                                                                                                                                                                                                                                                                                                                                                                                                                                                                     \n",
       "broom       AER, AUC, bbmle, betareg, biglm, binGroup, boot, btergm (>=\\n1.10.6), car, carData, caret, cluster, cmprsk, coda, covr, drc,\\ne1071, emmeans, epiR, ergm (>= 3.10.4), fixest (>= 0.9.0), gam\\n(>= 1.15), gee, geepack, ggplot2, glmnet, glmnetUtils, gmm,\\nHmisc, irlba, interp, joineRML, Kendall, knitr, ks, Lahman,\\nlavaan, leaps, lfe, lm.beta, lme4, lmodel2, lmtest (>= 0.9.38),\\nlsmeans, maps, margins, MASS, mclust, mediation, metafor, mfx,\\nmgcv, mlogit, modeldata, modeltests, muhaz, multcomp, network,\\nnnet, orcutt (>= 2.2), ordinal, plm, poLCA, psych, quantreg,\\nrmarkdown, robust, robustbase, rsample, sandwich, sp, spdep (>=\\n1.1), spatialreg, speedglm, spelling, survey, survival,\\nsystemfit, testthat (>= 2.1.0), tseries, vars, zoo\n",
       "bslib       bsicons, curl, fontawesome, ggplot2, knitr, magrittr,\\nrappdirs, rmarkdown (>= 2.7), shiny (>= 1.6.0), testthat,\\nthematic, withr                                                                                                                                                                                                                                                                                                                                                                                                                                                                                                                                                                                                                                  \n",
       "cachem      testthat                                                                                                                                                                                                                                                                                                                                                                                                                                                                                                                                                                                                                                                                                                                                                           \n",
       "callr       asciicast, cli (>= 1.1.0), covr, mockery, ps, rprojroot,\\nspelling, testthat (>= 3.0.0), withr (>= 2.3.0)                                                                                                                                                                                                                                                                                                                                                                                                                                                                                                                                                                                                                                                          \n",
       "caret       BradleyTerry2, covr, Cubist, dplyr, earth (>= 2.2-3),\\nellipse, fastICA, gam (>= 1.15), ipred, kernlab, klaR, knitr,\\nMASS, Matrix, mda, mgcv, mlbench, MLmetrics, nnet, pamr, party\\n(>= 0.9-99992), pls, proxy, randomForest, RANN, rmarkdown,\\nrpart, spls, subselect, superpc, testthat (>= 0.9.1), themis\\n(>= 0.1.3)                                                                                                                                                                                                                                                                                                                                                                                                                                         \n",
       "cellranger  covr, testthat (>= 1.0.0), knitr, rmarkdown                                                                                                                                                                                                                                                                                                                                                                                                                                                                                                                                                                                                                                                                                                                        \n",
       "class       NA                                                                                                                                                                                                                                                                                                                                                                                                                                                                                                                                                                                                                                                                                                                                                                 \n",
       "cli         callr, covr, crayon, digest, glue (>= 1.6.0), grDevices,\\nhtmltools, htmlwidgets, knitr, methods, mockery, processx, ps\\n(>= 1.3.4.9000), rlang (>= 1.0.2.9003), rmarkdown, rprojroot,\\nrstudioapi, testthat, tibble, whoami, withr                                                                                                                                                                                                                                                                                                                                                                                                                                                                                                                                \n",
       "clipr       covr, knitr, rmarkdown, rstudioapi (>= 0.5), testthat (>=\\n2.0.0)                                                                                                                                                                                                                                                                                                                                                                                                                                                                                                                                                                                                                                                                                                  \n",
       "clock       covr, knitr, magrittr, pillar, rmarkdown, slider (>= 0.3.0),\\ntestthat (>= 3.0.0), withr                                                                                                                                                                                                                                                                                                                                                                                                                                                                                                                                                                                                                                                                           \n",
       "cluster     MASS, Matrix                                                                                                                                                                                                                                                                                                                                                                                                                                                                                                                                                                                                                                                                                                                                                       \n",
       "codetools   NA                                                                                                                                                                                                                                                                                                                                                                                                                                                                                                                                                                                                                                                                                                                                                                 \n",
       "colorspace  datasets, utils, KernSmooth, MASS, kernlab, mvtnorm, vcd,\\ntcltk, shiny, shinyjs, ggplot2, dplyr, scales, grid, png, jpeg,\\nknitr, rmarkdown, RColorBrewer, rcartocolor, scico, viridis,\\nwesanderson                                                                                                                                                                                                                                                                                                                                                                                                                                                                                                                                                              \n",
       "commonmark  curl, testthat, xml2                                                                                                                                                                                                                                                                                                                                                                                                                                                                                                                                                                                                                                                                                                                                               \n",
       "compiler    NA                                                                                                                                                                                                                                                                                                                                                                                                                                                                                                                                                                                                                                                                                                                                                                 \n",
       "conflicted  callr, covr, dplyr, Matrix, methods, pkgload, testthat (>=\\n3.0.0), withr                                                                                                                                                                                                                                                                                                                                                                                                                                                                                                                                                                                                                                                                                          \n",
       "cpp11       bench, brio, callr, cli, covr, decor, desc, ggplot2, glue,\\nknitr, lobstr, mockery, progress, rmarkdown, scales, Rcpp,\\ntestthat, tibble, utils, vctrs, withr                                                                                                                                                                                                                                                                                                                                                                                                                                                                                                                                                                                                      \n",
       "crayon      mockery, rstudioapi, testthat, withr                                                                                                                                                                                                                                                                                                                                                                                                                                                                                                                                                                                                                                                                                                                               \n",
       "curl        spelling, testthat (>= 1.0.0), knitr, jsonlite, rmarkdown,\\nmagrittr, httpuv (>= 1.4.4), webutils                                                                                                                                                                                                                                                                                                                                                                                                                                                                                                                                                                                                                                                                  \n",
       "data.table  bit64 (>= 4.0.0), bit (>= 4.0.4), curl, R.utils, xts,\\nnanotime, zoo (>= 1.8-1), yaml, knitr, rmarkdown                                                                                                                                                                                                                                                                                                                                                                                                                                                                                                                                                                                                                                                            \n",
       "datasets    NA                                                                                                                                                                                                                                                                                                                                                                                                                                                                                                                                                                                                                                                                                                                                                                 \n",
       "DBI         blob, covr, DBItest, dbplyr, downlit, dplyr, glue, hms,\\nknitr, magrittr, RMariaDB, rmarkdown, rprojroot, RSQLite (>=\\n1.1-2), testthat, xml2                                                                                                                                                                                                                                                                                                                                                                                                                                                                                                                                                                                                                      \n",
       "⋮           ⋮                                                                                                                                                                                                                                                                                                                                                                                                                                                                                                                                                                                                                                                                                                                                                                  \n",
       "stringi     NA                                                                                                                                                                                                                                                                                                                                                                                                                                                                                                                                                                                                                                                                                                                                                                 \n",
       "stringr     covr, htmltools, htmlwidgets, knitr, rmarkdown, testthat (>=\\n3.0.0)                                                                                                                                                                                                                                                                                                                                                                                                                                                                                                                                                                                                                                                                                               \n",
       "survival    NA                                                                                                                                                                                                                                                                                                                                                                                                                                                                                                                                                                                                                                                                                                                                                                 \n",
       "sys         unix (>= 1.4), spelling, testthat                                                                                                                                                                                                                                                                                                                                                                                                                                                                                                                                                                                                                                                                                                                                  \n",
       "systemfonts covr, knitr, rmarkdown, testthat (>= 2.1.0), tools                                                                                                                                                                                                                                                                                                                                                                                                                                                                                                                                                                                                                                                                                                                 \n",
       "tcltk       NA                                                                                                                                                                                                                                                                                                                                                                                                                                                                                                                                                                                                                                                                                                                                                                 \n",
       "textshaping covr, knitr, rmarkdown                                                                                                                                                                                                                                                                                                                                                                                                                                                                                                                                                                                                                                                                                                                                             \n",
       "tibble      bench, bit64, blob, brio, callr, cli, covr, crayon (>=\\n1.3.4), DiagrammeR, dplyr, evaluate, formattable, ggplot2,\\nhere, hms, htmltools, knitr, lubridate, mockr, nycflights13,\\npkgbuild, pkgload, purrr, rmarkdown, stringi, testthat (>=\\n3.0.2), tidyr, withr                                                                                                                                                                                                                                                                                                                                                                                                                                                                                                 \n",
       "tidyr       covr, data.table, knitr, readr, repurrrsive (>= 1.1.0),\\nrmarkdown, testthat (>= 3.0.0)                                                                                                                                                                                                                                                                                                                                                                                                                                                                                                                                                                                                                                                                            \n",
       "tidyselect  covr, crayon, dplyr, knitr, magrittr, rmarkdown, stringr,\\ntestthat (>= 3.1.1), tibble (>= 2.1.3)                                                                                                                                                                                                                                                                                                                                                                                                                                                                                                                                                                                                                                                                  \n",
       "tidyverse   covr (>= 3.6.1), feather (>= 0.3.5), glue (>= 1.6.2), mockr\\n(>= 0.2.0), knitr (>= 1.41), rmarkdown (>= 2.20), testthat (>=\\n3.1.6)                                                                                                                                                                                                                                                                                                                                                                                                                                                                                                                                                                                                                                \n",
       "timechange  testthat (>= 0.7.1.99), knitr                                                                                                                                                                                                                                                                                                                                                                                                                                                                                                                                                                                                                                                                                                                                      \n",
       "timeDate    RUnit                                                                                                                                                                                                                                                                                                                                                                                                                                                                                                                                                                                                                                                                                                                                                              \n",
       "tinytex     testit, rstudioapi                                                                                                                                                                                                                                                                                                                                                                                                                                                                                                                                                                                                                                                                                                                                                 \n",
       "tools       codetools, methods, xml2, curl, commonmark, knitr, xfun,\\nmathjaxr, V8                                                                                                                                                                                                                                                                                                                                                                                                                                                                                                                                                                                                                                                                                             \n",
       "TTR         RUnit                                                                                                                                                                                                                                                                                                                                                                                                                                                                                                                                                                                                                                                                                                                                                              \n",
       "tzdb        covr, testthat (>= 3.0.0)                                                                                                                                                                                                                                                                                                                                                                                                                                                                                                                                                                                                                                                                                                                                          \n",
       "utf8        cli, covr, knitr, rlang, rmarkdown, testthat (>= 3.0.0),\\nwithr                                                                                                                                                                                                                                                                                                                                                                                                                                                                                                                                                                                                                                                                                                    \n",
       "utils       methods, xml2, commonmark, knitr                                                                                                                                                                                                                                                                                                                                                                                                                                                                                                                                                                                                                                                                                                                                   \n",
       "uuid        NA                                                                                                                                                                                                                                                                                                                                                                                                                                                                                                                                                                                                                                                                                                                                                                 \n",
       "vctrs       bit64, covr, crayon, dplyr (>= 0.8.5), generics, knitr,\\npillar (>= 1.4.4), pkgdown (>= 2.0.1), rmarkdown, testthat (>=\\n3.0.0), tibble (>= 3.1.3), waldo (>= 0.2.0), withr, xml2,\\nzeallot                                                                                                                                                                                                                                                                                                                                                                                                                                                                                                                                                                        \n",
       "viridisLite hexbin (>= 1.27.0), ggplot2 (>= 1.0.1), testthat, covr                                                                                                                                                                                                                                                                                                                                                                                                                                                                                                                                                                                                                                                                                                             \n",
       "vroom       archive, bench (>= 1.1.0), covr, curl, dplyr, forcats, fs,\\nggplot2, knitr, patchwork, prettyunits, purrr, rmarkdown,\\nrstudioapi, scales, spelling, testthat (>= 2.1.0), tidyr,\\nutils, waldo, xml2                                                                                                                                                                                                                                                                                                                                                                                                                                                                                                                                                               \n",
       "withr       callr, covr, DBI, knitr, lattice, methods, rlang, rmarkdown\\n(>= 2.12), RSQLite, testthat (>= 3.0.0)                                                                                                                                                                                                                                                                                                                                                                                                                                                                                                                                                                                                                                                               \n",
       "xfun        testit, parallel, codetools, rstudioapi, tinytex (>= 0.30),\\nmime, markdown (>= 1.5), knitr (>= 1.42), htmltools, remotes,\\npak, rhub, renv, curl, jsonlite, magick, yaml, rmarkdown                                                                                                                                                                                                                                                                                                                                                                                                                                                                                                                                                                               \n",
       "xml2        covr, curl, httr, knitr, magrittr, mockery, rmarkdown,\\ntestthat (>= 3.0.0)                                                                                                                                                                                                                                                                                                                                                                                                                                                                                                                                                                                                                                                                                        \n",
       "xtable      knitr, plm, zoo, survival                                                                                                                                                                                                                                                                                                                                                                                                                                                                                                                                                                                                                                                                                                                                          \n",
       "xts         timeSeries, timeDate, tseries, chron, tinytest                                                                                                                                                                                                                                                                                                                                                                                                                                                                                                                                                                                                                                                                                                                     \n",
       "yaml        RUnit                                                                                                                                                                                                                                                                                                                                                                                                                                                                                                                                                                                                                                                                                                                                                              \n",
       "zoo         AER, coda, chron, ggplot2 (>= 3.0.0), mondate, scales,\\nstinepack, strucchange, timeDate, timeSeries, tis, tseries, xts                                                                                                                                                                                                                                                                                                                                                                                                                                                                                                                                                                                                                                            \n",
       "            Enhances License                                License_is_FOSS\n",
       "askpass     NA       MIT + file LICENSE                     NA             \n",
       "backports   NA       GPL-2 | GPL-3                          NA             \n",
       "base        NA       Part of R 4.3.1                        NA             \n",
       "base64enc   png      GPL-2 | GPL-3                          NA             \n",
       "bit         NA       GPL-2 | GPL-3                          NA             \n",
       "bit64       NA       GPL-2 | GPL-3                          NA             \n",
       "blob        NA       MIT + file LICENSE                     NA             \n",
       "boot        NA       Unlimited                              NA             \n",
       "broom       NA       MIT + file LICENSE                     NA             \n",
       "bslib       NA       MIT + file LICENSE                     NA             \n",
       "cachem      NA       MIT + file LICENSE                     NA             \n",
       "callr       NA       MIT + file LICENSE                     NA             \n",
       "caret       NA       GPL (>= 2)                             NA             \n",
       "cellranger  NA       MIT + file LICENSE                     NA             \n",
       "class       NA       GPL-2 | GPL-3                          NA             \n",
       "cli         NA       MIT + file LICENSE                     NA             \n",
       "clipr       NA       GPL-3                                  NA             \n",
       "clock       NA       MIT + file LICENSE                     NA             \n",
       "cluster     NA       GPL (>= 2)                             NA             \n",
       "codetools   NA       GPL                                    NA             \n",
       "colorspace  NA       BSD_3_clause + file LICENSE            NA             \n",
       "commonmark  NA       BSD_2_clause + file LICENSE            NA             \n",
       "compiler    NA       Part of R 4.3.1                        NA             \n",
       "conflicted  NA       MIT + file LICENSE                     NA             \n",
       "cpp11       NA       MIT + file LICENSE                     NA             \n",
       "crayon      NA       MIT + file LICENSE                     NA             \n",
       "curl        NA       MIT + file LICENSE                     NA             \n",
       "data.table  NA       MPL-2.0 | file LICENSE                 NA             \n",
       "datasets    NA       Part of R 4.3.1                        NA             \n",
       "DBI         NA       LGPL (>= 2.1)                          NA             \n",
       "⋮           ⋮        ⋮                                      ⋮              \n",
       "stringi     NA       file LICENSE                           yes            \n",
       "stringr     NA       MIT + file LICENSE                     NA             \n",
       "survival    NA       LGPL (>= 2)                            NA             \n",
       "sys         NA       MIT + file LICENSE                     NA             \n",
       "systemfonts NA       MIT + file LICENSE                     NA             \n",
       "tcltk       NA       Part of R 4.3.1                        NA             \n",
       "textshaping NA       MIT + file LICENSE                     NA             \n",
       "tibble      NA       MIT + file LICENSE                     NA             \n",
       "tidyr       NA       MIT + file LICENSE                     NA             \n",
       "tidyselect  NA       MIT + file LICENSE                     NA             \n",
       "tidyverse   NA       MIT + file LICENSE                     NA             \n",
       "timechange  NA       GPL-3                                  NA             \n",
       "timeDate    NA       GPL (>= 2)                             NA             \n",
       "tinytex     NA       MIT + file LICENSE                     NA             \n",
       "tools       NA       Part of R 4.3.1                        NA             \n",
       "TTR         quantmod GPL (>= 2)                             NA             \n",
       "tzdb        NA       MIT + file LICENSE                     NA             \n",
       "utf8        NA       Apache License (== 2.0) | file LICENSE NA             \n",
       "utils       NA       Part of R 4.3.1                        NA             \n",
       "uuid        NA       MIT + file LICENSE                     NA             \n",
       "vctrs       NA       MIT + file LICENSE                     NA             \n",
       "viridisLite NA       MIT + file LICENSE                     NA             \n",
       "vroom       NA       MIT + file LICENSE                     NA             \n",
       "withr       NA       MIT + file LICENSE                     NA             \n",
       "xfun        NA       MIT + file LICENSE                     NA             \n",
       "xml2        NA       MIT + file LICENSE                     NA             \n",
       "xtable      NA       GPL (>= 2)                             NA             \n",
       "xts         NA       GPL (>= 2)                             NA             \n",
       "yaml        NA       BSD_3_clause + file LICENSE            NA             \n",
       "zoo         NA       GPL-2 | GPL-3                          NA             \n",
       "            License_restricts_use OS_type MD5sum NeedsCompilation Built\n",
       "askpass     NA                    NA      NA     yes              4.3.1\n",
       "backports   NA                    NA      NA     yes              4.3.1\n",
       "base        NA                    NA      NA     NA               4.3.1\n",
       "base64enc   NA                    NA      NA     yes              4.3.1\n",
       "bit         NA                    NA      NA     yes              4.3.1\n",
       "bit64       NA                    NA      NA     yes              4.3.1\n",
       "blob        NA                    NA      NA     no               4.3.1\n",
       "boot        NA                    NA      NA     no               4.3.1\n",
       "broom       NA                    NA      NA     no               4.3.1\n",
       "bslib       NA                    NA      NA     no               4.3.1\n",
       "cachem      NA                    NA      NA     yes              4.3.1\n",
       "callr       NA                    NA      NA     no               4.3.1\n",
       "caret       NA                    NA      NA     yes              4.3.1\n",
       "cellranger  NA                    NA      NA     no               4.3.1\n",
       "class       NA                    NA      NA     yes              4.3.1\n",
       "cli         NA                    NA      NA     yes              4.3.1\n",
       "clipr       NA                    NA      NA     no               4.3.1\n",
       "clock       NA                    NA      NA     yes              4.3.1\n",
       "cluster     NA                    NA      NA     yes              4.3.1\n",
       "codetools   NA                    NA      NA     no               4.3.1\n",
       "colorspace  NA                    NA      NA     yes              4.3.1\n",
       "commonmark  NA                    NA      NA     yes              4.3.1\n",
       "compiler    NA                    NA      NA     NA               4.3.1\n",
       "conflicted  NA                    NA      NA     no               4.3.1\n",
       "cpp11       NA                    NA      NA     no               4.3.1\n",
       "crayon      NA                    NA      NA     no               4.3.1\n",
       "curl        NA                    NA      NA     yes              4.3.1\n",
       "data.table  NA                    NA      NA     yes              4.3.1\n",
       "datasets    NA                    NA      NA     NA               4.3.1\n",
       "DBI         NA                    NA      NA     no               4.3.1\n",
       "⋮           ⋮                     ⋮       ⋮      ⋮                ⋮    \n",
       "stringi     NA                    NA      NA     yes              4.3.1\n",
       "stringr     NA                    NA      NA     no               4.3.1\n",
       "survival    NA                    NA      NA     yes              4.3.1\n",
       "sys         NA                    NA      NA     yes              4.3.1\n",
       "systemfonts NA                    NA      NA     yes              4.3.1\n",
       "tcltk       NA                    NA      NA     yes              4.3.1\n",
       "textshaping NA                    NA      NA     yes              4.3.1\n",
       "tibble      NA                    NA      NA     yes              4.3.1\n",
       "tidyr       NA                    NA      NA     yes              4.3.1\n",
       "tidyselect  NA                    NA      NA     no               4.3.1\n",
       "tidyverse   NA                    NA      NA     no               4.3.1\n",
       "timechange  NA                    NA      NA     yes              4.3.1\n",
       "timeDate    NA                    NA      NA     no               4.3.1\n",
       "tinytex     NA                    NA      NA     no               4.3.1\n",
       "tools       NA                    NA      NA     yes              4.3.1\n",
       "TTR         NA                    NA      NA     yes              4.3.1\n",
       "tzdb        NA                    NA      NA     yes              4.3.1\n",
       "utf8        NA                    NA      NA     yes              4.3.1\n",
       "utils       NA                    NA      NA     yes              4.3.1\n",
       "uuid        NA                    NA      NA     yes              4.3.1\n",
       "vctrs       NA                    NA      NA     yes              4.3.1\n",
       "viridisLite NA                    NA      NA     no               4.3.1\n",
       "vroom       NA                    NA      NA     yes              4.3.1\n",
       "withr       NA                    NA      NA     no               4.3.1\n",
       "xfun        NA                    NA      NA     yes              4.3.1\n",
       "xml2        NA                    NA      NA     yes              4.3.1\n",
       "xtable      NA                    NA      NA     no               4.3.1\n",
       "xts         NA                    NA      NA     yes              4.3.1\n",
       "yaml        NA                    NA      NA     yes              4.3.1\n",
       "zoo         NA                    NA      NA     yes              4.3.1"
      ]
     },
     "metadata": {},
     "output_type": "display_data"
    }
   ],
   "source": [
    "installed.packages()"
   ]
  },
  {
   "cell_type": "markdown",
   "id": "7f09681e-84ae-424f-802f-1f87835d2b87",
   "metadata": {},
   "source": [
    "Instead of library(pkname) we can use require(pkname). It`s different, because uninstall package in library command will cause an error in the programm, but require will return us a value FALSE"
   ]
  },
  {
   "cell_type": "markdown",
   "id": "8d3ea951-20b0-4b0a-a0fe-72326995bfb7",
   "metadata": {},
   "source": [
    "### Installing packages"
   ]
  },
  {
   "cell_type": "code",
   "execution_count": 34,
   "id": "799f162d-623b-4180-9110-34607c6183f6",
   "metadata": {},
   "outputs": [
    {
     "name": "stderr",
     "output_type": "stream",
     "text": [
      "устанавливаю также зависимости ‘quadprog’, ‘timeSeries’, ‘tseries’, ‘chron’, ‘tinytest’\n",
      "\n",
      "\n",
      "Обновляю HTML-список пакетов в '.Library'\n",
      "\n",
      "Making 'packages.html' ...\n",
      " готово\n",
      "\n"
     ]
    }
   ],
   "source": [
    "install.packages(\"xts\", dependencies = TRUE)"
   ]
  },
  {
   "cell_type": "code",
   "execution_count": 35,
   "id": "7dcb3d83-d1e4-49ab-9c50-030bf41c5b88",
   "metadata": {},
   "outputs": [
    {
     "name": "stderr",
     "output_type": "stream",
     "text": [
      "Загрузка требуемого пакета: zoo\n",
      "\n",
      "\n",
      "Присоединяю пакет: ‘zoo’\n",
      "\n",
      "\n",
      "Следующие объекты скрыты от ‘package:base’:\n",
      "\n",
      "    as.Date, as.Date.numeric\n",
      "\n",
      "\n"
     ]
    }
   ],
   "source": [
    "library(\"xts\")"
   ]
  },
  {
   "cell_type": "code",
   "execution_count": 36,
   "id": "6edd829b-93a8-4a77-854d-ca939f1a1ae4",
   "metadata": {},
   "outputs": [
    {
     "data": {
      "text/plain": [
       "R version 4.3.1 (2023-06-16)\n",
       "Platform: x86_64-conda-linux-gnu (64-bit)\n",
       "Running under: Arch Linux\n",
       "\n",
       "Matrix products: default\n",
       "BLAS/LAPACK: /home/Tiris/anaconda3/envs/r-tutorial/lib/libopenblasp-r0.3.21.so;  LAPACK version 3.9.0\n",
       "\n",
       "locale:\n",
       " [1] LC_CTYPE=ru_RU.UTF-8       LC_NUMERIC=C              \n",
       " [3] LC_TIME=ru_RU.UTF-8        LC_COLLATE=ru_RU.UTF-8    \n",
       " [5] LC_MONETARY=ru_RU.UTF-8    LC_MESSAGES=ru_RU.UTF-8   \n",
       " [7] LC_PAPER=ru_RU.UTF-8       LC_NAME=C                 \n",
       " [9] LC_ADDRESS=C               LC_TELEPHONE=C            \n",
       "[11] LC_MEASUREMENT=ru_RU.UTF-8 LC_IDENTIFICATION=C       \n",
       "\n",
       "time zone: Europe/Moscow\n",
       "tzcode source: system (glibc)\n",
       "\n",
       "attached base packages:\n",
       "[1] grid      stats     graphics  grDevices utils     datasets  methods  \n",
       "[8] base     \n",
       "\n",
       "other attached packages:\n",
       "[1] xts_0.14.0 zoo_1.8-12\n",
       "\n",
       "loaded via a namespace (and not attached):\n",
       " [1] digest_0.6.33     IRdisplay_1.1     utf8_1.2.4        base64enc_0.1-3  \n",
       " [5] fastmap_1.1.1     lattice_0.22-5    glue_1.6.2        htmltools_0.5.6.1\n",
       " [9] repr_1.1.6        lifecycle_1.0.3   cli_3.6.1         fansi_1.0.5      \n",
       "[13] vctrs_0.6.4       pbdZMQ_0.3-10     compiler_4.3.1    tools_4.3.1      \n",
       "[17] evaluate_0.22     pillar_1.9.0      crayon_1.5.2      rlang_1.1.1      \n",
       "[21] jsonlite_1.8.7    IRkernel_1.3.2    uuid_1.1-1       "
      ]
     },
     "metadata": {},
     "output_type": "display_data"
    }
   ],
   "source": [
    "sessionInfo()"
   ]
  },
  {
   "cell_type": "code",
   "execution_count": 37,
   "id": "b565c777-2dba-48ec-8f3d-65e5a3287e22",
   "metadata": {},
   "outputs": [
    {
     "name": "stderr",
     "output_type": "stream",
     "text": [
      "устанавливаю также зависимость ‘rngWELL’\n",
      "\n",
      "\n",
      "Обновляю HTML-список пакетов в '.Library'\n",
      "\n",
      "Making 'packages.html' ...\n",
      " готово\n",
      "\n"
     ]
    }
   ],
   "source": [
    "install.packages(\"randtoolbox\", dependencies = TRUE)"
   ]
  },
  {
   "cell_type": "code",
   "execution_count": 38,
   "id": "b606cda2-2ec1-4baf-82b8-9aa69de49467",
   "metadata": {},
   "outputs": [
    {
     "name": "stderr",
     "output_type": "stream",
     "text": [
      "Загрузка требуемого пакета: rngWELL\n",
      "\n",
      "This is randtoolbox. For an overview, type 'help(\"randtoolbox\")'.\n",
      "\n"
     ]
    }
   ],
   "source": [
    "library(randtoolbox)"
   ]
  },
  {
   "cell_type": "markdown",
   "id": "8379c1a7-a375-4f51-b14b-7ff4d32b7333",
   "metadata": {},
   "source": [
    "### Recycling rules\n",
    "<ol>\n",
    "    <li>The lenght of the result is equal to the length of the larger of the vectors</li>\n",
    "    <li>The smaller vector is duplicated(recycling) several times so tha the length of the recycling vector matches the length of the larger one</li>\n",
    "    <li>If the length of the larger vector is not evently disible by the length of the smaller one, a warning is issued</li>\n",
    "</ol>"
   ]
  },
  {
   "cell_type": "code",
   "execution_count": 12,
   "id": "c6337fba-c31a-425b-9116-cdad2d91f381",
   "metadata": {},
   "outputs": [
    {
     "name": "stderr",
     "output_type": "stream",
     "text": [
      "Warning message in 1:5 + 0:1:\n",
      "“длина большего объекта не является произведением длины меньшего объекта”\n"
     ]
    },
    {
     "data": {
      "text/html": [
       "<style>\n",
       ".list-inline {list-style: none; margin:0; padding: 0}\n",
       ".list-inline>li {display: inline-block}\n",
       ".list-inline>li:not(:last-child)::after {content: \"\\00b7\"; padding: 0 .5ex}\n",
       "</style>\n",
       "<ol class=list-inline><li>1</li><li>3</li><li>3</li><li>5</li><li>5</li></ol>\n"
      ],
      "text/latex": [
       "\\begin{enumerate*}\n",
       "\\item 1\n",
       "\\item 3\n",
       "\\item 3\n",
       "\\item 5\n",
       "\\item 5\n",
       "\\end{enumerate*}\n"
      ],
      "text/markdown": [
       "1. 1\n",
       "2. 3\n",
       "3. 3\n",
       "4. 5\n",
       "5. 5\n",
       "\n",
       "\n"
      ],
      "text/plain": [
       "[1] 1 3 3 5 5"
      ]
     },
     "metadata": {},
     "output_type": "display_data"
    }
   ],
   "source": [
    "1:5 + 0:1"
   ]
  },
  {
   "cell_type": "code",
   "execution_count": 3,
   "id": "c62b1799-d968-46a2-b2d1-7c3e8649c3df",
   "metadata": {},
   "outputs": [
    {
     "data": {
      "text/html": [
       "<style>\n",
       ".list-inline {list-style: none; margin:0; padding: 0}\n",
       ".list-inline>li {display: inline-block}\n",
       ".list-inline>li:not(:last-child)::after {content: \"\\00b7\"; padding: 0 .5ex}\n",
       "</style>\n",
       "<ol class=list-inline><li>4</li><li>5</li><li>6</li><li>7</li><li>8</li><li>9</li><li>10</li><li>11</li><li>12</li><li>13</li></ol>\n"
      ],
      "text/latex": [
       "\\begin{enumerate*}\n",
       "\\item 4\n",
       "\\item 5\n",
       "\\item 6\n",
       "\\item 7\n",
       "\\item 8\n",
       "\\item 9\n",
       "\\item 10\n",
       "\\item 11\n",
       "\\item 12\n",
       "\\item 13\n",
       "\\end{enumerate*}\n"
      ],
      "text/markdown": [
       "1. 4\n",
       "2. 5\n",
       "3. 6\n",
       "4. 7\n",
       "5. 8\n",
       "6. 9\n",
       "7. 10\n",
       "8. 11\n",
       "9. 12\n",
       "10. 13\n",
       "\n",
       "\n"
      ],
      "text/plain": [
       " [1]  4  5  6  7  8  9 10 11 12 13"
      ]
     },
     "metadata": {},
     "output_type": "display_data"
    },
    {
     "data": {
      "text/html": [
       "<style>\n",
       ".list-inline {list-style: none; margin:0; padding: 0}\n",
       ".list-inline>li {display: inline-block}\n",
       ".list-inline>li:not(:last-child)::after {content: \"\\00b7\"; padding: 0 .5ex}\n",
       "</style>\n",
       "<ol class=list-inline><li>25</li><li>36</li><li>49</li><li>64</li></ol>\n"
      ],
      "text/latex": [
       "\\begin{enumerate*}\n",
       "\\item 25\n",
       "\\item 36\n",
       "\\item 49\n",
       "\\item 64\n",
       "\\end{enumerate*}\n"
      ],
      "text/markdown": [
       "1. 25\n",
       "2. 36\n",
       "3. 49\n",
       "4. 64\n",
       "\n",
       "\n"
      ],
      "text/plain": [
       "[1] 25 36 49 64"
      ]
     },
     "metadata": {},
     "output_type": "display_data"
    },
    {
     "data": {
      "text/html": [
       "<style>\n",
       ".list-inline {list-style: none; margin:0; padding: 0}\n",
       ".list-inline>li {display: inline-block}\n",
       ".list-inline>li:not(:last-child)::after {content: \"\\00b7\"; padding: 0 .5ex}\n",
       "</style>\n",
       "<ol class=list-inline><li>FALSE</li><li>FALSE</li><li>TRUE</li><li>TRUE</li><li>TRUE</li></ol>\n"
      ],
      "text/latex": [
       "\\begin{enumerate*}\n",
       "\\item FALSE\n",
       "\\item FALSE\n",
       "\\item TRUE\n",
       "\\item TRUE\n",
       "\\item TRUE\n",
       "\\end{enumerate*}\n"
      ],
      "text/markdown": [
       "1. FALSE\n",
       "2. FALSE\n",
       "3. TRUE\n",
       "4. TRUE\n",
       "5. TRUE\n",
       "\n",
       "\n"
      ],
      "text/plain": [
       "[1] FALSE FALSE  TRUE  TRUE  TRUE"
      ]
     },
     "metadata": {},
     "output_type": "display_data"
    }
   ],
   "source": [
    "1:10 + 3\n",
    "(5:8) ^ 2\n",
    "1:5 >= 3"
   ]
  },
  {
   "cell_type": "markdown",
   "id": "f466c71c-b81d-4685-8dd1-ffbe1df39994",
   "metadata": {},
   "source": [
    "Let's consider a simle vector"
   ]
  },
  {
   "cell_type": "code",
   "execution_count": 3,
   "id": "6e5de391-8832-4c28-9de6-02bb1891a003",
   "metadata": {},
   "outputs": [
    {
     "data": {
      "text/html": [
       "<style>\n",
       ".list-inline {list-style: none; margin:0; padding: 0}\n",
       ".list-inline>li {display: inline-block}\n",
       ".list-inline>li:not(:last-child)::after {content: \"\\00b7\"; padding: 0 .5ex}\n",
       "</style>\n",
       "<ol class=list-inline><li>10</li><li>20</li><li>30</li><li>40</li><li>50</li><li>60</li><li>70</li><li>80</li><li>90</li><li>100</li></ol>\n"
      ],
      "text/latex": [
       "\\begin{enumerate*}\n",
       "\\item 10\n",
       "\\item 20\n",
       "\\item 30\n",
       "\\item 40\n",
       "\\item 50\n",
       "\\item 60\n",
       "\\item 70\n",
       "\\item 80\n",
       "\\item 90\n",
       "\\item 100\n",
       "\\end{enumerate*}\n"
      ],
      "text/markdown": [
       "1. 10\n",
       "2. 20\n",
       "3. 30\n",
       "4. 40\n",
       "5. 50\n",
       "6. 60\n",
       "7. 70\n",
       "8. 80\n",
       "9. 90\n",
       "10. 100\n",
       "\n",
       "\n"
      ],
      "text/plain": [
       " [1]  10  20  30  40  50  60  70  80  90 100"
      ]
     },
     "metadata": {},
     "output_type": "display_data"
    }
   ],
   "source": [
    "x <- seq(10, 100, by = 10)\n",
    "x"
   ]
  },
  {
   "cell_type": "markdown",
   "id": "335c120a-a908-40a8-93fc-7eb82fd0ee77",
   "metadata": {},
   "source": [
    "Reading and writing elements is done using \"[\" operator"
   ]
  },
  {
   "cell_type": "code",
   "execution_count": 6,
   "id": "94841a8f-86f9-46dc-a242-1c8e6317fc7e",
   "metadata": {},
   "outputs": [
    {
     "data": {
      "text/html": [],
      "text/latex": [],
      "text/markdown": [],
      "text/plain": [
       "numeric(0)"
      ]
     },
     "metadata": {},
     "output_type": "display_data"
    }
   ],
   "source": [
    "ind <- 0\n",
    "x[ind]\n",
    "val <- x[ind]\n",
    "x[ind] <- val"
   ]
  },
  {
   "cell_type": "markdown",
   "id": "65cec535-47af-479e-adc2-964ed0ef0708",
   "metadata": {},
   "source": [
    "#### Positive indexes"
   ]
  },
  {
   "cell_type": "code",
   "execution_count": 11,
   "id": "71106ab6-e130-49f9-87f5-162f3567e785",
   "metadata": {},
   "outputs": [
    {
     "data": {
      "text/html": [
       "<style>\n",
       ".list-inline {list-style: none; margin:0; padding: 0}\n",
       ".list-inline>li {display: inline-block}\n",
       ".list-inline>li:not(:last-child)::after {content: \"\\00b7\"; padding: 0 .5ex}\n",
       "</style>\n",
       "<ol class=list-inline><li>10</li><li>20</li><li>30</li><li>40</li><li>50</li><li>60</li><li>70</li><li>80</li><li>90</li><li>100</li></ol>\n"
      ],
      "text/latex": [
       "\\begin{enumerate*}\n",
       "\\item 10\n",
       "\\item 20\n",
       "\\item 30\n",
       "\\item 40\n",
       "\\item 50\n",
       "\\item 60\n",
       "\\item 70\n",
       "\\item 80\n",
       "\\item 90\n",
       "\\item 100\n",
       "\\end{enumerate*}\n"
      ],
      "text/markdown": [
       "1. 10\n",
       "2. 20\n",
       "3. 30\n",
       "4. 40\n",
       "5. 50\n",
       "6. 60\n",
       "7. 70\n",
       "8. 80\n",
       "9. 90\n",
       "10. 100\n",
       "\n",
       "\n"
      ],
      "text/plain": [
       " [1]  10  20  30  40  50  60  70  80  90 100"
      ]
     },
     "metadata": {},
     "output_type": "display_data"
    },
    {
     "data": {
      "text/html": [
       "10"
      ],
      "text/latex": [
       "10"
      ],
      "text/markdown": [
       "10"
      ],
      "text/plain": [
       "[1] 10"
      ]
     },
     "metadata": {},
     "output_type": "display_data"
    },
    {
     "data": {
      "text/html": [
       "<style>\n",
       ".list-inline {list-style: none; margin:0; padding: 0}\n",
       ".list-inline>li {display: inline-block}\n",
       ".list-inline>li:not(:last-child)::after {content: \"\\00b7\"; padding: 0 .5ex}\n",
       "</style>\n",
       "<ol class=list-inline><li>30</li><li>40</li></ol>\n"
      ],
      "text/latex": [
       "\\begin{enumerate*}\n",
       "\\item 30\n",
       "\\item 40\n",
       "\\end{enumerate*}\n"
      ],
      "text/markdown": [
       "1. 30\n",
       "2. 40\n",
       "\n",
       "\n"
      ],
      "text/plain": [
       "[1] 30 40"
      ]
     },
     "metadata": {},
     "output_type": "display_data"
    },
    {
     "data": {
      "text/html": [
       "<style>\n",
       ".list-inline {list-style: none; margin:0; padding: 0}\n",
       ".list-inline>li {display: inline-block}\n",
       ".list-inline>li:not(:last-child)::after {content: \"\\00b7\"; padding: 0 .5ex}\n",
       "</style>\n",
       "<ol class=list-inline><li>50</li><li>60</li><li>30</li><li>60</li><li>70</li><li>80</li><li>100</li></ol>\n"
      ],
      "text/latex": [
       "\\begin{enumerate*}\n",
       "\\item 50\n",
       "\\item 60\n",
       "\\item 30\n",
       "\\item 60\n",
       "\\item 70\n",
       "\\item 80\n",
       "\\item 100\n",
       "\\end{enumerate*}\n"
      ],
      "text/markdown": [
       "1. 50\n",
       "2. 60\n",
       "3. 30\n",
       "4. 60\n",
       "5. 70\n",
       "6. 80\n",
       "7. 100\n",
       "\n",
       "\n"
      ],
      "text/plain": [
       "[1]  50  60  30  60  70  80 100"
      ]
     },
     "metadata": {},
     "output_type": "display_data"
    },
    {
     "data": {
      "text/html": [
       "80"
      ],
      "text/latex": [
       "80"
      ],
      "text/markdown": [
       "80"
      ],
      "text/plain": [
       "[1] 80"
      ]
     },
     "metadata": {},
     "output_type": "display_data"
    }
   ],
   "source": [
    "x[]\n",
    "x[1]\n",
    "x[3:4]\n",
    "x[c(5, 6, 3, 6:8, x[1])]\n",
    "x[length(x)-2]"
   ]
  },
  {
   "cell_type": "markdown",
   "id": "59f6e0b4-f04a-44bf-bc2f-ff3d150e6522",
   "metadata": {},
   "source": [
    "#### Negativeve indexes\n",
    "All except those specified"
   ]
  },
  {
   "cell_type": "code",
   "execution_count": 10,
   "id": "e4b558c2-4050-4733-be8c-ff3cc420c7b1",
   "metadata": {},
   "outputs": [
    {
     "data": {
      "text/html": [
       "<style>\n",
       ".list-inline {list-style: none; margin:0; padding: 0}\n",
       ".list-inline>li {display: inline-block}\n",
       ".list-inline>li:not(:last-child)::after {content: \"\\00b7\"; padding: 0 .5ex}\n",
       "</style>\n",
       "<ol class=list-inline><li>10</li><li>20</li><li>30</li><li>40</li><li>60</li><li>70</li><li>80</li><li>90</li><li>100</li></ol>\n"
      ],
      "text/latex": [
       "\\begin{enumerate*}\n",
       "\\item 10\n",
       "\\item 20\n",
       "\\item 30\n",
       "\\item 40\n",
       "\\item 60\n",
       "\\item 70\n",
       "\\item 80\n",
       "\\item 90\n",
       "\\item 100\n",
       "\\end{enumerate*}\n"
      ],
      "text/markdown": [
       "1. 10\n",
       "2. 20\n",
       "3. 30\n",
       "4. 40\n",
       "5. 60\n",
       "6. 70\n",
       "7. 80\n",
       "8. 90\n",
       "9. 100\n",
       "\n",
       "\n"
      ],
      "text/plain": [
       "[1]  10  20  30  40  60  70  80  90 100"
      ]
     },
     "metadata": {},
     "output_type": "display_data"
    },
    {
     "data": {
      "text/html": [
       "<style>\n",
       ".list-inline {list-style: none; margin:0; padding: 0}\n",
       ".list-inline>li {display: inline-block}\n",
       ".list-inline>li:not(:last-child)::after {content: \"\\00b7\"; padding: 0 .5ex}\n",
       "</style>\n",
       "<ol class=list-inline><li>10</li><li>20</li><li>70</li><li>80</li><li>90</li><li>100</li></ol>\n"
      ],
      "text/latex": [
       "\\begin{enumerate*}\n",
       "\\item 10\n",
       "\\item 20\n",
       "\\item 70\n",
       "\\item 80\n",
       "\\item 90\n",
       "\\item 100\n",
       "\\end{enumerate*}\n"
      ],
      "text/markdown": [
       "1. 10\n",
       "2. 20\n",
       "3. 70\n",
       "4. 80\n",
       "5. 90\n",
       "6. 100\n",
       "\n",
       "\n"
      ],
      "text/plain": [
       "[1]  10  20  70  80  90 100"
      ]
     },
     "metadata": {},
     "output_type": "display_data"
    },
    {
     "data": {
      "text/html": [
       "<style>\n",
       ".list-inline {list-style: none; margin:0; padding: 0}\n",
       ".list-inline>li {display: inline-block}\n",
       ".list-inline>li:not(:last-child)::after {content: \"\\00b7\"; padding: 0 .5ex}\n",
       "</style>\n",
       "<ol class=list-inline><li>40</li><li>60</li><li>70</li><li>80</li><li>90</li></ol>\n"
      ],
      "text/latex": [
       "\\begin{enumerate*}\n",
       "\\item 40\n",
       "\\item 60\n",
       "\\item 70\n",
       "\\item 80\n",
       "\\item 90\n",
       "\\end{enumerate*}\n"
      ],
      "text/markdown": [
       "1. 40\n",
       "2. 60\n",
       "3. 70\n",
       "4. 80\n",
       "5. 90\n",
       "\n",
       "\n"
      ],
      "text/plain": [
       "[1] 40 60 70 80 90"
      ]
     },
     "metadata": {},
     "output_type": "display_data"
    }
   ],
   "source": [
    "x[-5]\n",
    "x[-(3:6)]\n",
    "x[c(-3, -5, -length(x), -(1"
   ]
  },
  {
   "cell_type": "markdown",
   "id": "7e67f1d1-3bef-40ae-8843-e36e08acae4e",
   "metadata": {},
   "source": [
    "#### Logical indexes"
   ]
  },
  {
   "cell_type": "code",
   "execution_count": 15,
   "id": "88836f41-251d-4d7a-9ef3-46baa942b8ec",
   "metadata": {},
   "outputs": [
    {
     "data": {
      "text/html": [
       "<style>\n",
       ".list-inline {list-style: none; margin:0; padding: 0}\n",
       ".list-inline>li {display: inline-block}\n",
       ".list-inline>li:not(:last-child)::after {content: \"\\00b7\"; padding: 0 .5ex}\n",
       "</style>\n",
       "<ol class=list-inline><li>10</li><li>30</li><li>50</li><li>70</li><li>90</li></ol>\n"
      ],
      "text/latex": [
       "\\begin{enumerate*}\n",
       "\\item 10\n",
       "\\item 30\n",
       "\\item 50\n",
       "\\item 70\n",
       "\\item 90\n",
       "\\end{enumerate*}\n"
      ],
      "text/markdown": [
       "1. 10\n",
       "2. 30\n",
       "3. 50\n",
       "4. 70\n",
       "5. 90\n",
       "\n",
       "\n"
      ],
      "text/plain": [
       "[1] 10 30 50 70 90"
      ]
     },
     "metadata": {},
     "output_type": "display_data"
    },
    {
     "data": {
      "text/html": [
       "<style>\n",
       ".list-inline {list-style: none; margin:0; padding: 0}\n",
       ".list-inline>li {display: inline-block}\n",
       ".list-inline>li:not(:last-child)::after {content: \"\\00b7\"; padding: 0 .5ex}\n",
       "</style>\n",
       "<ol class=list-inline><li>10</li><li>30</li><li>50</li><li>70</li><li>90</li></ol>\n"
      ],
      "text/latex": [
       "\\begin{enumerate*}\n",
       "\\item 10\n",
       "\\item 30\n",
       "\\item 50\n",
       "\\item 70\n",
       "\\item 90\n",
       "\\end{enumerate*}\n"
      ],
      "text/markdown": [
       "1. 10\n",
       "2. 30\n",
       "3. 50\n",
       "4. 70\n",
       "5. 90\n",
       "\n",
       "\n"
      ],
      "text/plain": [
       "[1] 10 30 50 70 90"
      ]
     },
     "metadata": {},
     "output_type": "display_data"
    },
    {
     "data": {
      "text/html": [
       "<style>\n",
       ".list-inline {list-style: none; margin:0; padding: 0}\n",
       ".list-inline>li {display: inline-block}\n",
       ".list-inline>li:not(:last-child)::after {content: \"\\00b7\"; padding: 0 .5ex}\n",
       "</style>\n",
       "<ol class=list-inline><li>80</li><li>90</li></ol>\n"
      ],
      "text/latex": [
       "\\begin{enumerate*}\n",
       "\\item 80\n",
       "\\item 90\n",
       "\\end{enumerate*}\n"
      ],
      "text/markdown": [
       "1. 80\n",
       "2. 90\n",
       "\n",
       "\n"
      ],
      "text/plain": [
       "[1] 80 90"
      ]
     },
     "metadata": {},
     "output_type": "display_data"
    }
   ],
   "source": [
    "x[rep(c(TRUE, FALSE), 5)]\n",
    "x[c(TRUE, FALSE)]\n",
    "x[77 <= x & x <= 90]"
   ]
  },
  {
   "cell_type": "markdown",
   "id": "6dc04485-660f-4429-8989-e6c5bab618c9",
   "metadata": {},
   "source": [
    "#### Named indexes"
   ]
  },
  {
   "cell_type": "code",
   "execution_count": 21,
   "id": "429a7a35-d489-43f8-9d84-97d986ac5ae8",
   "metadata": {},
   "outputs": [
    {
     "data": {
      "text/html": [
       "<style>\n",
       ".dl-inline {width: auto; margin:0; padding: 0}\n",
       ".dl-inline>dt, .dl-inline>dd {float: none; width: auto; display: inline-block}\n",
       ".dl-inline>dt::after {content: \":\\0020\"; padding-right: .5ex}\n",
       ".dl-inline>dt:not(:first-of-type) {padding-left: .5ex}\n",
       "</style><dl class=dl-inline><dt>one</dt><dd>1</dd><dt>two</dt><dd>2</dd><dt>forty two</dt><dd>42</dd></dl>\n"
      ],
      "text/latex": [
       "\\begin{description*}\n",
       "\\item[one] 1\n",
       "\\item[two] 2\n",
       "\\item[forty two] 42\n",
       "\\end{description*}\n"
      ],
      "text/markdown": [
       "one\n",
       ":   1two\n",
       ":   2forty two\n",
       ":   42\n",
       "\n"
      ],
      "text/plain": [
       "      one       two forty two \n",
       "        1         2        42 "
      ]
     },
     "metadata": {},
     "output_type": "display_data"
    }
   ],
   "source": [
    "a[c(\"one\", \"two\", \"forty two\")]"
   ]
  },
  {
   "cell_type": "code",
   "execution_count": 22,
   "id": "9297cf48-44d6-4ac5-aa6e-74a48ebeed66",
   "metadata": {},
   "outputs": [
    {
     "data": {
      "text/html": [
       "<style>\n",
       ".dl-inline {width: auto; margin:0; padding: 0}\n",
       ".dl-inline>dt, .dl-inline>dd {float: none; width: auto; display: inline-block}\n",
       ".dl-inline>dt::after {content: \":\\0020\"; padding-right: .5ex}\n",
       ".dl-inline>dt:not(:first-of-type) {padding-left: .5ex}\n",
       "</style><dl class=dl-inline><dt>one</dt><dd>1</dd><dt>two</dt><dd>2</dd><dt>3</dt><dd>&lt;NA&gt;</dd></dl>\n"
      ],
      "text/latex": [
       "\\begin{description*}\n",
       "\\item[one] 1\n",
       "\\item[two] 2\n",
       "\\item[3] <NA>\n",
       "\\end{description*}\n"
      ],
      "text/markdown": [
       "one\n",
       ":   1two\n",
       ":   23\n",
       ":   &lt;NA&gt;\n",
       "\n"
      ],
      "text/plain": [
       " one  two <NA> \n",
       "   1    2   NA "
      ]
     },
     "metadata": {},
     "output_type": "display_data"
    }
   ],
   "source": [
    "a[c(\"one\", \"two\", \"three\")]"
   ]
  },
  {
   "cell_type": "markdown",
   "id": "4ee9ce83-0492-4dda-b552-dfa57bcddc83",
   "metadata": {},
   "source": [
    "### Functiom **all** and **any**"
   ]
  },
  {
   "cell_type": "code",
   "execution_count": 4,
   "id": "8121fc1a-ba9d-41ff-a706-c324c748b63d",
   "metadata": {},
   "outputs": [
    {
     "data": {
      "text/html": [
       "TRUE"
      ],
      "text/latex": [
       "TRUE"
      ],
      "text/markdown": [
       "TRUE"
      ],
      "text/plain": [
       "[1] TRUE"
      ]
     },
     "metadata": {},
     "output_type": "display_data"
    },
    {
     "data": {
      "text/html": [
       "FALSE"
      ],
      "text/latex": [
       "FALSE"
      ],
      "text/markdown": [
       "FALSE"
      ],
      "text/plain": [
       "[1] FALSE"
      ]
     },
     "metadata": {},
     "output_type": "display_data"
    }
   ],
   "source": [
    "all(x<200)\n",
    "all(x>20)"
   ]
  },
  {
   "cell_type": "code",
   "execution_count": 5,
   "id": "8dda6815-008c-468a-95e7-cf52f6d01008",
   "metadata": {},
   "outputs": [
    {
     "data": {
      "text/html": [
       "FALSE"
      ],
      "text/latex": [
       "FALSE"
      ],
      "text/markdown": [
       "FALSE"
      ],
      "text/plain": [
       "[1] FALSE"
      ]
     },
     "metadata": {},
     "output_type": "display_data"
    },
    {
     "data": {
      "text/html": [
       "TRUE"
      ],
      "text/latex": [
       "TRUE"
      ],
      "text/markdown": [
       "TRUE"
      ],
      "text/plain": [
       "[1] TRUE"
      ]
     },
     "metadata": {},
     "output_type": "display_data"
    }
   ],
   "source": [
    "any(x>150)\n",
    "any(x<15)"
   ]
  },
  {
   "cell_type": "markdown",
   "id": "7c1dce89-cc38-42b2-9bd2-f6a26a16ee34",
   "metadata": {},
   "source": [
    "### Function **which**"
   ]
  },
  {
   "cell_type": "code",
   "execution_count": 8,
   "id": "e898e7ae-1fbd-4a4d-a565-302cf238ccf1",
   "metadata": {},
   "outputs": [
    {
     "data": {
      "text/html": [],
      "text/latex": [],
      "text/markdown": [],
      "text/plain": [
       "integer(0)"
      ]
     },
     "metadata": {},
     "output_type": "display_data"
    },
    {
     "data": {
      "text/html": [
       "3"
      ],
      "text/latex": [
       "3"
      ],
      "text/markdown": [
       "3"
      ],
      "text/plain": [
       "[1] 3"
      ]
     },
     "metadata": {},
     "output_type": "display_data"
    },
    {
     "data": {
      "text/html": [
       "<style>\n",
       ".list-inline {list-style: none; margin:0; padding: 0}\n",
       ".list-inline>li {display: inline-block}\n",
       ".list-inline>li:not(:last-child)::after {content: \"\\00b7\"; padding: 0 .5ex}\n",
       "</style>\n",
       "<ol class=list-inline><li>5</li><li>6</li><li>7</li><li>8</li><li>9</li><li>10</li></ol>\n"
      ],
      "text/latex": [
       "\\begin{enumerate*}\n",
       "\\item 5\n",
       "\\item 6\n",
       "\\item 7\n",
       "\\item 8\n",
       "\\item 9\n",
       "\\item 10\n",
       "\\end{enumerate*}\n"
      ],
      "text/markdown": [
       "1. 5\n",
       "2. 6\n",
       "3. 7\n",
       "4. 8\n",
       "5. 9\n",
       "6. 10\n",
       "\n",
       "\n"
      ],
      "text/plain": [
       "[1]  5  6  7  8  9 10"
      ]
     },
     "metadata": {},
     "output_type": "display_data"
    }
   ],
   "source": [
    "which(x==15)\n",
    "which(x==30)\n",
    "which(x>=50)"
   ]
  },
  {
   "cell_type": "code",
   "execution_count": 10,
   "id": "51c8a093-cb40-443b-b364-3a1774793edf",
   "metadata": {},
   "outputs": [
    {
     "data": {
      "text/html": [
       "1"
      ],
      "text/latex": [
       "1"
      ],
      "text/markdown": [
       "1"
      ],
      "text/plain": [
       "[1] 1"
      ]
     },
     "metadata": {},
     "output_type": "display_data"
    },
    {
     "data": {
      "text/html": [
       "10"
      ],
      "text/latex": [
       "10"
      ],
      "text/markdown": [
       "10"
      ],
      "text/plain": [
       "[1] 10"
      ]
     },
     "metadata": {},
     "output_type": "display_data"
    }
   ],
   "source": [
    "which.min(x)\n",
    "which.max(x)"
   ]
  },
  {
   "cell_type": "markdown",
   "id": "ff95d32c-599e-426a-8dd2-b3c9cb0f6831",
   "metadata": {},
   "source": [
    "### Object attributes"
   ]
  },
  {
   "cell_type": "code",
   "execution_count": 11,
   "id": "5c08be90-bfa8-4daf-b8bd-67fa422a7098",
   "metadata": {},
   "outputs": [],
   "source": [
    "x <- c(5, 3, 9)\n",
    "names(x) <- c(\"V\", \"III\", \"IX\")"
   ]
  },
  {
   "cell_type": "code",
   "execution_count": 12,
   "id": "f5ff457e-f093-46ee-b11a-86b96e61b883",
   "metadata": {},
   "outputs": [
    {
     "data": {
      "text/html": [
       "<dl>\n",
       "\t<dt>$names</dt>\n",
       "\t\t<dd><style>\n",
       ".list-inline {list-style: none; margin:0; padding: 0}\n",
       ".list-inline>li {display: inline-block}\n",
       ".list-inline>li:not(:last-child)::after {content: \"\\00b7\"; padding: 0 .5ex}\n",
       "</style>\n",
       "<ol class=list-inline><li>'V'</li><li>'III'</li><li>'IX'</li></ol>\n",
       "</dd>\n",
       "\t<dt>$author</dt>\n",
       "\t\t<dd>'Caesar'</dd>\n",
       "</dl>\n"
      ],
      "text/latex": [
       "\\begin{description}\n",
       "\\item[\\$names] \\begin{enumerate*}\n",
       "\\item 'V'\n",
       "\\item 'III'\n",
       "\\item 'IX'\n",
       "\\end{enumerate*}\n",
       "\n",
       "\\item[\\$author] 'Caesar'\n",
       "\\end{description}\n"
      ],
      "text/markdown": [
       "$names\n",
       ":   1. 'V'\n",
       "2. 'III'\n",
       "3. 'IX'\n",
       "\n",
       "\n",
       "\n",
       "$author\n",
       ":   'Caesar'\n",
       "\n",
       "\n"
      ],
      "text/plain": [
       "$names\n",
       "[1] \"V\"   \"III\" \"IX\" \n",
       "\n",
       "$author\n",
       "[1] \"Caesar\"\n"
      ]
     },
     "metadata": {},
     "output_type": "display_data"
    }
   ],
   "source": [
    "attr(x, \"author\") <- \"Caesar\"\n",
    "attributes(x)"
   ]
  },
  {
   "cell_type": "code",
   "execution_count": 13,
   "id": "4042432f-d6db-4a8f-ad34-7fd6eb41b751",
   "metadata": {},
   "outputs": [
    {
     "data": {
      "text/plain": [
       "NULL"
      ]
     },
     "metadata": {},
     "output_type": "display_data"
    }
   ],
   "source": [
    "attributes(x) <- NULL\n",
    "attributes(x)"
   ]
  },
  {
   "cell_type": "markdown",
   "id": "53aa1c32-f37b-472a-8deb-9f4c3550c970",
   "metadata": {},
   "source": [
    "### fizz-buzz"
   ]
  },
  {
   "cell_type": "code",
   "execution_count": 21,
   "id": "1bee928b-6dc8-463e-8917-c8eb3d4363be",
   "metadata": {},
   "outputs": [
    {
     "data": {
      "text/html": [
       "<style>\n",
       ".list-inline {list-style: none; margin:0; padding: 0}\n",
       ".list-inline>li {display: inline-block}\n",
       ".list-inline>li:not(:last-child)::after {content: \"\\00b7\"; padding: 0 .5ex}\n",
       "</style>\n",
       "<ol class=list-inline><li>'1'</li><li>'2'</li><li>'fizz'</li><li>'4'</li><li>'buzz'</li><li>'fizz'</li><li>'7'</li><li>'8'</li><li>'fizz'</li><li>'buzz'</li><li>'11'</li><li>'fizz'</li><li>'13'</li><li>'14'</li><li>'fizz-buzz'</li><li>'16'</li><li>'17'</li><li>'fizz'</li><li>'19'</li><li>'buzz'</li><li>'fizz'</li><li>'22'</li><li>'23'</li><li>'fizz'</li><li>'buzz'</li><li>'26'</li><li>'fizz'</li><li>'28'</li><li>'29'</li><li>'fizz-buzz'</li><li>'31'</li><li>'32'</li><li>'fizz'</li><li>'34'</li><li>'buzz'</li><li>'fizz'</li><li>'37'</li><li>'38'</li><li>'fizz'</li><li>'buzz'</li><li>'41'</li><li>'fizz'</li><li>'43'</li><li>'44'</li><li>'fizz-buzz'</li><li>'46'</li><li>'47'</li><li>'fizz'</li><li>'49'</li><li>'buzz'</li><li>'fizz'</li><li>'52'</li><li>'53'</li><li>'fizz'</li><li>'buzz'</li><li>'56'</li><li>'fizz'</li><li>'58'</li><li>'59'</li><li>'fizz-buzz'</li><li>'61'</li><li>'62'</li><li>'fizz'</li><li>'64'</li><li>'buzz'</li><li>'fizz'</li><li>'67'</li><li>'68'</li><li>'fizz'</li><li>'buzz'</li><li>'71'</li><li>'fizz'</li><li>'73'</li><li>'74'</li><li>'fizz-buzz'</li><li>'76'</li><li>'77'</li><li>'fizz'</li><li>'79'</li><li>'buzz'</li><li>'fizz'</li><li>'82'</li><li>'83'</li><li>'fizz'</li><li>'buzz'</li><li>'86'</li><li>'fizz'</li><li>'88'</li><li>'89'</li><li>'fizz-buzz'</li><li>'91'</li><li>'92'</li><li>'fizz'</li><li>'94'</li><li>'buzz'</li><li>'fizz'</li><li>'97'</li><li>'98'</li><li>'fizz'</li><li>'buzz'</li></ol>\n"
      ],
      "text/latex": [
       "\\begin{enumerate*}\n",
       "\\item '1'\n",
       "\\item '2'\n",
       "\\item 'fizz'\n",
       "\\item '4'\n",
       "\\item 'buzz'\n",
       "\\item 'fizz'\n",
       "\\item '7'\n",
       "\\item '8'\n",
       "\\item 'fizz'\n",
       "\\item 'buzz'\n",
       "\\item '11'\n",
       "\\item 'fizz'\n",
       "\\item '13'\n",
       "\\item '14'\n",
       "\\item 'fizz-buzz'\n",
       "\\item '16'\n",
       "\\item '17'\n",
       "\\item 'fizz'\n",
       "\\item '19'\n",
       "\\item 'buzz'\n",
       "\\item 'fizz'\n",
       "\\item '22'\n",
       "\\item '23'\n",
       "\\item 'fizz'\n",
       "\\item 'buzz'\n",
       "\\item '26'\n",
       "\\item 'fizz'\n",
       "\\item '28'\n",
       "\\item '29'\n",
       "\\item 'fizz-buzz'\n",
       "\\item '31'\n",
       "\\item '32'\n",
       "\\item 'fizz'\n",
       "\\item '34'\n",
       "\\item 'buzz'\n",
       "\\item 'fizz'\n",
       "\\item '37'\n",
       "\\item '38'\n",
       "\\item 'fizz'\n",
       "\\item 'buzz'\n",
       "\\item '41'\n",
       "\\item 'fizz'\n",
       "\\item '43'\n",
       "\\item '44'\n",
       "\\item 'fizz-buzz'\n",
       "\\item '46'\n",
       "\\item '47'\n",
       "\\item 'fizz'\n",
       "\\item '49'\n",
       "\\item 'buzz'\n",
       "\\item 'fizz'\n",
       "\\item '52'\n",
       "\\item '53'\n",
       "\\item 'fizz'\n",
       "\\item 'buzz'\n",
       "\\item '56'\n",
       "\\item 'fizz'\n",
       "\\item '58'\n",
       "\\item '59'\n",
       "\\item 'fizz-buzz'\n",
       "\\item '61'\n",
       "\\item '62'\n",
       "\\item 'fizz'\n",
       "\\item '64'\n",
       "\\item 'buzz'\n",
       "\\item 'fizz'\n",
       "\\item '67'\n",
       "\\item '68'\n",
       "\\item 'fizz'\n",
       "\\item 'buzz'\n",
       "\\item '71'\n",
       "\\item 'fizz'\n",
       "\\item '73'\n",
       "\\item '74'\n",
       "\\item 'fizz-buzz'\n",
       "\\item '76'\n",
       "\\item '77'\n",
       "\\item 'fizz'\n",
       "\\item '79'\n",
       "\\item 'buzz'\n",
       "\\item 'fizz'\n",
       "\\item '82'\n",
       "\\item '83'\n",
       "\\item 'fizz'\n",
       "\\item 'buzz'\n",
       "\\item '86'\n",
       "\\item 'fizz'\n",
       "\\item '88'\n",
       "\\item '89'\n",
       "\\item 'fizz-buzz'\n",
       "\\item '91'\n",
       "\\item '92'\n",
       "\\item 'fizz'\n",
       "\\item '94'\n",
       "\\item 'buzz'\n",
       "\\item 'fizz'\n",
       "\\item '97'\n",
       "\\item '98'\n",
       "\\item 'fizz'\n",
       "\\item 'buzz'\n",
       "\\end{enumerate*}\n"
      ],
      "text/markdown": [
       "1. '1'\n",
       "2. '2'\n",
       "3. 'fizz'\n",
       "4. '4'\n",
       "5. 'buzz'\n",
       "6. 'fizz'\n",
       "7. '7'\n",
       "8. '8'\n",
       "9. 'fizz'\n",
       "10. 'buzz'\n",
       "11. '11'\n",
       "12. 'fizz'\n",
       "13. '13'\n",
       "14. '14'\n",
       "15. 'fizz-buzz'\n",
       "16. '16'\n",
       "17. '17'\n",
       "18. 'fizz'\n",
       "19. '19'\n",
       "20. 'buzz'\n",
       "21. 'fizz'\n",
       "22. '22'\n",
       "23. '23'\n",
       "24. 'fizz'\n",
       "25. 'buzz'\n",
       "26. '26'\n",
       "27. 'fizz'\n",
       "28. '28'\n",
       "29. '29'\n",
       "30. 'fizz-buzz'\n",
       "31. '31'\n",
       "32. '32'\n",
       "33. 'fizz'\n",
       "34. '34'\n",
       "35. 'buzz'\n",
       "36. 'fizz'\n",
       "37. '37'\n",
       "38. '38'\n",
       "39. 'fizz'\n",
       "40. 'buzz'\n",
       "41. '41'\n",
       "42. 'fizz'\n",
       "43. '43'\n",
       "44. '44'\n",
       "45. 'fizz-buzz'\n",
       "46. '46'\n",
       "47. '47'\n",
       "48. 'fizz'\n",
       "49. '49'\n",
       "50. 'buzz'\n",
       "51. 'fizz'\n",
       "52. '52'\n",
       "53. '53'\n",
       "54. 'fizz'\n",
       "55. 'buzz'\n",
       "56. '56'\n",
       "57. 'fizz'\n",
       "58. '58'\n",
       "59. '59'\n",
       "60. 'fizz-buzz'\n",
       "61. '61'\n",
       "62. '62'\n",
       "63. 'fizz'\n",
       "64. '64'\n",
       "65. 'buzz'\n",
       "66. 'fizz'\n",
       "67. '67'\n",
       "68. '68'\n",
       "69. 'fizz'\n",
       "70. 'buzz'\n",
       "71. '71'\n",
       "72. 'fizz'\n",
       "73. '73'\n",
       "74. '74'\n",
       "75. 'fizz-buzz'\n",
       "76. '76'\n",
       "77. '77'\n",
       "78. 'fizz'\n",
       "79. '79'\n",
       "80. 'buzz'\n",
       "81. 'fizz'\n",
       "82. '82'\n",
       "83. '83'\n",
       "84. 'fizz'\n",
       "85. 'buzz'\n",
       "86. '86'\n",
       "87. 'fizz'\n",
       "88. '88'\n",
       "89. '89'\n",
       "90. 'fizz-buzz'\n",
       "91. '91'\n",
       "92. '92'\n",
       "93. 'fizz'\n",
       "94. '94'\n",
       "95. 'buzz'\n",
       "96. 'fizz'\n",
       "97. '97'\n",
       "98. '98'\n",
       "99. 'fizz'\n",
       "100. 'buzz'\n",
       "\n",
       "\n"
      ],
      "text/plain": [
       "  [1] \"1\"         \"2\"         \"fizz\"      \"4\"         \"buzz\"      \"fizz\"     \n",
       "  [7] \"7\"         \"8\"         \"fizz\"      \"buzz\"      \"11\"        \"fizz\"     \n",
       " [13] \"13\"        \"14\"        \"fizz-buzz\" \"16\"        \"17\"        \"fizz\"     \n",
       " [19] \"19\"        \"buzz\"      \"fizz\"      \"22\"        \"23\"        \"fizz\"     \n",
       " [25] \"buzz\"      \"26\"        \"fizz\"      \"28\"        \"29\"        \"fizz-buzz\"\n",
       " [31] \"31\"        \"32\"        \"fizz\"      \"34\"        \"buzz\"      \"fizz\"     \n",
       " [37] \"37\"        \"38\"        \"fizz\"      \"buzz\"      \"41\"        \"fizz\"     \n",
       " [43] \"43\"        \"44\"        \"fizz-buzz\" \"46\"        \"47\"        \"fizz\"     \n",
       " [49] \"49\"        \"buzz\"      \"fizz\"      \"52\"        \"53\"        \"fizz\"     \n",
       " [55] \"buzz\"      \"56\"        \"fizz\"      \"58\"        \"59\"        \"fizz-buzz\"\n",
       " [61] \"61\"        \"62\"        \"fizz\"      \"64\"        \"buzz\"      \"fizz\"     \n",
       " [67] \"67\"        \"68\"        \"fizz\"      \"buzz\"      \"71\"        \"fizz\"     \n",
       " [73] \"73\"        \"74\"        \"fizz-buzz\" \"76\"        \"77\"        \"fizz\"     \n",
       " [79] \"79\"        \"buzz\"      \"fizz\"      \"82\"        \"83\"        \"fizz\"     \n",
       " [85] \"buzz\"      \"86\"        \"fizz\"      \"88\"        \"89\"        \"fizz-buzz\"\n",
       " [91] \"91\"        \"92\"        \"fizz\"      \"94\"        \"buzz\"      \"fizz\"     \n",
       " [97] \"97\"        \"98\"        \"fizz\"      \"buzz\"     "
      ]
     },
     "metadata": {},
     "output_type": "display_data"
    }
   ],
   "source": [
    "x <- 1:100\n",
    "for (i in 1:100) {\n",
    "    if (i %% 15 == 0) {\n",
    "        x[i] <- \"fizz-buzz\"\n",
    "    } else if (i %% 3 == 0) {\n",
    "        x[i] <- \"fizz\"\n",
    "        } else if (i %% 5 == 0) {\n",
    "            x[i] <- \"buzz\"\n",
    "        }\n",
    "    }\n",
    "x"
   ]
  },
  {
   "cell_type": "code",
   "execution_count": 24,
   "id": "6a46f083-e656-4e16-86cb-0eac920c3921",
   "metadata": {},
   "outputs": [
    {
     "data": {
      "text/html": [
       "<style>\n",
       ".list-inline {list-style: none; margin:0; padding: 0}\n",
       ".list-inline>li {display: inline-block}\n",
       ".list-inline>li:not(:last-child)::after {content: \"\\00b7\"; padding: 0 .5ex}\n",
       "</style>\n",
       "<ol class=list-inline><li>'1'</li><li>'2'</li><li>'fizz'</li><li>'4'</li><li>'buzz'</li><li>'fizz'</li><li>'7'</li><li>'8'</li><li>'fizz'</li><li>'buzz'</li><li>'11'</li><li>'fizz'</li><li>'13'</li><li>'14'</li><li>'fizz-buzz'</li><li>'16'</li><li>'17'</li><li>'fizz'</li><li>'19'</li><li>'buzz'</li><li>'fizz'</li><li>'22'</li><li>'23'</li><li>'fizz'</li><li>'buzz'</li><li>'26'</li><li>'fizz'</li><li>'28'</li><li>'29'</li><li>'fizz-buzz'</li><li>'31'</li><li>'32'</li><li>'fizz'</li><li>'34'</li><li>'buzz'</li><li>'fizz'</li><li>'37'</li><li>'38'</li><li>'fizz'</li><li>'buzz'</li><li>'41'</li><li>'fizz'</li><li>'43'</li><li>'44'</li><li>'fizz-buzz'</li><li>'46'</li><li>'47'</li><li>'fizz'</li><li>'49'</li><li>'buzz'</li><li>'fizz'</li><li>'52'</li><li>'53'</li><li>'fizz'</li><li>'buzz'</li><li>'56'</li><li>'fizz'</li><li>'58'</li><li>'59'</li><li>'fizz-buzz'</li><li>'61'</li><li>'62'</li><li>'fizz'</li><li>'64'</li><li>'buzz'</li><li>'fizz'</li><li>'67'</li><li>'68'</li><li>'fizz'</li><li>'buzz'</li><li>'71'</li><li>'fizz'</li><li>'73'</li><li>'74'</li><li>'fizz-buzz'</li><li>'76'</li><li>'77'</li><li>'fizz'</li><li>'79'</li><li>'buzz'</li><li>'fizz'</li><li>'82'</li><li>'83'</li><li>'fizz'</li><li>'buzz'</li><li>'86'</li><li>'fizz'</li><li>'88'</li><li>'89'</li><li>'fizz-buzz'</li><li>'91'</li><li>'92'</li><li>'fizz'</li><li>'94'</li><li>'buzz'</li><li>'fizz'</li><li>'97'</li><li>'98'</li><li>'fizz'</li><li>'buzz'</li></ol>\n"
      ],
      "text/latex": [
       "\\begin{enumerate*}\n",
       "\\item '1'\n",
       "\\item '2'\n",
       "\\item 'fizz'\n",
       "\\item '4'\n",
       "\\item 'buzz'\n",
       "\\item 'fizz'\n",
       "\\item '7'\n",
       "\\item '8'\n",
       "\\item 'fizz'\n",
       "\\item 'buzz'\n",
       "\\item '11'\n",
       "\\item 'fizz'\n",
       "\\item '13'\n",
       "\\item '14'\n",
       "\\item 'fizz-buzz'\n",
       "\\item '16'\n",
       "\\item '17'\n",
       "\\item 'fizz'\n",
       "\\item '19'\n",
       "\\item 'buzz'\n",
       "\\item 'fizz'\n",
       "\\item '22'\n",
       "\\item '23'\n",
       "\\item 'fizz'\n",
       "\\item 'buzz'\n",
       "\\item '26'\n",
       "\\item 'fizz'\n",
       "\\item '28'\n",
       "\\item '29'\n",
       "\\item 'fizz-buzz'\n",
       "\\item '31'\n",
       "\\item '32'\n",
       "\\item 'fizz'\n",
       "\\item '34'\n",
       "\\item 'buzz'\n",
       "\\item 'fizz'\n",
       "\\item '37'\n",
       "\\item '38'\n",
       "\\item 'fizz'\n",
       "\\item 'buzz'\n",
       "\\item '41'\n",
       "\\item 'fizz'\n",
       "\\item '43'\n",
       "\\item '44'\n",
       "\\item 'fizz-buzz'\n",
       "\\item '46'\n",
       "\\item '47'\n",
       "\\item 'fizz'\n",
       "\\item '49'\n",
       "\\item 'buzz'\n",
       "\\item 'fizz'\n",
       "\\item '52'\n",
       "\\item '53'\n",
       "\\item 'fizz'\n",
       "\\item 'buzz'\n",
       "\\item '56'\n",
       "\\item 'fizz'\n",
       "\\item '58'\n",
       "\\item '59'\n",
       "\\item 'fizz-buzz'\n",
       "\\item '61'\n",
       "\\item '62'\n",
       "\\item 'fizz'\n",
       "\\item '64'\n",
       "\\item 'buzz'\n",
       "\\item 'fizz'\n",
       "\\item '67'\n",
       "\\item '68'\n",
       "\\item 'fizz'\n",
       "\\item 'buzz'\n",
       "\\item '71'\n",
       "\\item 'fizz'\n",
       "\\item '73'\n",
       "\\item '74'\n",
       "\\item 'fizz-buzz'\n",
       "\\item '76'\n",
       "\\item '77'\n",
       "\\item 'fizz'\n",
       "\\item '79'\n",
       "\\item 'buzz'\n",
       "\\item 'fizz'\n",
       "\\item '82'\n",
       "\\item '83'\n",
       "\\item 'fizz'\n",
       "\\item 'buzz'\n",
       "\\item '86'\n",
       "\\item 'fizz'\n",
       "\\item '88'\n",
       "\\item '89'\n",
       "\\item 'fizz-buzz'\n",
       "\\item '91'\n",
       "\\item '92'\n",
       "\\item 'fizz'\n",
       "\\item '94'\n",
       "\\item 'buzz'\n",
       "\\item 'fizz'\n",
       "\\item '97'\n",
       "\\item '98'\n",
       "\\item 'fizz'\n",
       "\\item 'buzz'\n",
       "\\end{enumerate*}\n"
      ],
      "text/markdown": [
       "1. '1'\n",
       "2. '2'\n",
       "3. 'fizz'\n",
       "4. '4'\n",
       "5. 'buzz'\n",
       "6. 'fizz'\n",
       "7. '7'\n",
       "8. '8'\n",
       "9. 'fizz'\n",
       "10. 'buzz'\n",
       "11. '11'\n",
       "12. 'fizz'\n",
       "13. '13'\n",
       "14. '14'\n",
       "15. 'fizz-buzz'\n",
       "16. '16'\n",
       "17. '17'\n",
       "18. 'fizz'\n",
       "19. '19'\n",
       "20. 'buzz'\n",
       "21. 'fizz'\n",
       "22. '22'\n",
       "23. '23'\n",
       "24. 'fizz'\n",
       "25. 'buzz'\n",
       "26. '26'\n",
       "27. 'fizz'\n",
       "28. '28'\n",
       "29. '29'\n",
       "30. 'fizz-buzz'\n",
       "31. '31'\n",
       "32. '32'\n",
       "33. 'fizz'\n",
       "34. '34'\n",
       "35. 'buzz'\n",
       "36. 'fizz'\n",
       "37. '37'\n",
       "38. '38'\n",
       "39. 'fizz'\n",
       "40. 'buzz'\n",
       "41. '41'\n",
       "42. 'fizz'\n",
       "43. '43'\n",
       "44. '44'\n",
       "45. 'fizz-buzz'\n",
       "46. '46'\n",
       "47. '47'\n",
       "48. 'fizz'\n",
       "49. '49'\n",
       "50. 'buzz'\n",
       "51. 'fizz'\n",
       "52. '52'\n",
       "53. '53'\n",
       "54. 'fizz'\n",
       "55. 'buzz'\n",
       "56. '56'\n",
       "57. 'fizz'\n",
       "58. '58'\n",
       "59. '59'\n",
       "60. 'fizz-buzz'\n",
       "61. '61'\n",
       "62. '62'\n",
       "63. 'fizz'\n",
       "64. '64'\n",
       "65. 'buzz'\n",
       "66. 'fizz'\n",
       "67. '67'\n",
       "68. '68'\n",
       "69. 'fizz'\n",
       "70. 'buzz'\n",
       "71. '71'\n",
       "72. 'fizz'\n",
       "73. '73'\n",
       "74. '74'\n",
       "75. 'fizz-buzz'\n",
       "76. '76'\n",
       "77. '77'\n",
       "78. 'fizz'\n",
       "79. '79'\n",
       "80. 'buzz'\n",
       "81. 'fizz'\n",
       "82. '82'\n",
       "83. '83'\n",
       "84. 'fizz'\n",
       "85. 'buzz'\n",
       "86. '86'\n",
       "87. 'fizz'\n",
       "88. '88'\n",
       "89. '89'\n",
       "90. 'fizz-buzz'\n",
       "91. '91'\n",
       "92. '92'\n",
       "93. 'fizz'\n",
       "94. '94'\n",
       "95. 'buzz'\n",
       "96. 'fizz'\n",
       "97. '97'\n",
       "98. '98'\n",
       "99. 'fizz'\n",
       "100. 'buzz'\n",
       "\n",
       "\n"
      ],
      "text/plain": [
       "  [1] \"1\"         \"2\"         \"fizz\"      \"4\"         \"buzz\"      \"fizz\"     \n",
       "  [7] \"7\"         \"8\"         \"fizz\"      \"buzz\"      \"11\"        \"fizz\"     \n",
       " [13] \"13\"        \"14\"        \"fizz-buzz\" \"16\"        \"17\"        \"fizz\"     \n",
       " [19] \"19\"        \"buzz\"      \"fizz\"      \"22\"        \"23\"        \"fizz\"     \n",
       " [25] \"buzz\"      \"26\"        \"fizz\"      \"28\"        \"29\"        \"fizz-buzz\"\n",
       " [31] \"31\"        \"32\"        \"fizz\"      \"34\"        \"buzz\"      \"fizz\"     \n",
       " [37] \"37\"        \"38\"        \"fizz\"      \"buzz\"      \"41\"        \"fizz\"     \n",
       " [43] \"43\"        \"44\"        \"fizz-buzz\" \"46\"        \"47\"        \"fizz\"     \n",
       " [49] \"49\"        \"buzz\"      \"fizz\"      \"52\"        \"53\"        \"fizz\"     \n",
       " [55] \"buzz\"      \"56\"        \"fizz\"      \"58\"        \"59\"        \"fizz-buzz\"\n",
       " [61] \"61\"        \"62\"        \"fizz\"      \"64\"        \"buzz\"      \"fizz\"     \n",
       " [67] \"67\"        \"68\"        \"fizz\"      \"buzz\"      \"71\"        \"fizz\"     \n",
       " [73] \"73\"        \"74\"        \"fizz-buzz\" \"76\"        \"77\"        \"fizz\"     \n",
       " [79] \"79\"        \"buzz\"      \"fizz\"      \"82\"        \"83\"        \"fizz\"     \n",
       " [85] \"buzz\"      \"86\"        \"fizz\"      \"88\"        \"89\"        \"fizz-buzz\"\n",
       " [91] \"91\"        \"92\"        \"fizz\"      \"94\"        \"buzz\"      \"fizz\"     \n",
       " [97] \"97\"        \"98\"        \"fizz\"      \"buzz\"     "
      ]
     },
     "metadata": {},
     "output_type": "display_data"
    }
   ],
   "source": [
    "x <- 1:100\n",
    "z <- 1:100\n",
    "z[x %% 3 == 0] <- \"fizz\"\n",
    "z[x %% 5 == 0] <- \"buzz\"\n",
    "z[x %% 15 == 0] <- \"fizz-buzz\"\n",
    "z"
   ]
  },
  {
   "cell_type": "code",
   "execution_count": 25,
   "id": "3a63faa3-ec5b-481d-93f5-71f23c92cfb8",
   "metadata": {},
   "outputs": [
    {
     "data": {
      "text/html": [
       "<style>\n",
       ".list-inline {list-style: none; margin:0; padding: 0}\n",
       ".list-inline>li {display: inline-block}\n",
       ".list-inline>li:not(:last-child)::after {content: \"\\00b7\"; padding: 0 .5ex}\n",
       "</style>\n",
       "<ol class=list-inline><li>'a'</li><li>'w'</li><li>'e'</li><li>'s'</li><li>'o'</li><li>'m'</li><li>'e'</li></ol>\n"
      ],
      "text/latex": [
       "\\begin{enumerate*}\n",
       "\\item 'a'\n",
       "\\item 'w'\n",
       "\\item 'e'\n",
       "\\item 's'\n",
       "\\item 'o'\n",
       "\\item 'm'\n",
       "\\item 'e'\n",
       "\\end{enumerate*}\n"
      ],
      "text/markdown": [
       "1. 'a'\n",
       "2. 'w'\n",
       "3. 'e'\n",
       "4. 's'\n",
       "5. 'o'\n",
       "6. 'm'\n",
       "7. 'e'\n",
       "\n",
       "\n"
      ],
      "text/plain": [
       "[1] \"a\" \"w\" \"e\" \"s\" \"o\" \"m\" \"e\""
      ]
     },
     "metadata": {},
     "output_type": "display_data"
    }
   ],
   "source": [
    "s <- letters                     # вектор букв\n",
    "\n",
    "s[c(1, 23, 5, 19, 15, 13, 5)] "
   ]
  },
  {
   "cell_type": "markdown",
   "id": "eb02b6a4-1944-4c5f-a393-211f1f1d35c4",
   "metadata": {},
   "source": [
    "Let a vector be called non-strictly increasing if each subsequent element in it is not less than the previous one. Similarly, we will call a vector non-strictly decreasing if each subsequent element in it is no larger than the previous one. Write a function that takes one argument (a numeric vector) and returns TRUE if the vector has the property of non-strict monotony, that is, it is either non-rapidly increasing or non-rapidly decreasing. Otherwise, the function returns FALSE.\n",
    "\n",
    "Example. x=c(0, 0, 3, 4, 4, 8) it increases slightly, we return TRUE. y=c(3:0, 1) would be slightly decreasing if it were not for the last unit, so we return FALSE.\n",
    "\n",
    "Hints: \n",
    "\n",
    "\"Not less than\" = \"greater than or equal to\".\n",
    "pay attention to the constant vector, for example rep(0, 10). Is it not strictly increasing? And not strictly decreasing?"
   ]
  },
  {
   "cell_type": "code",
   "execution_count": 38,
   "id": "9b90e991-7195-4431-a256-9b7d70300504",
   "metadata": {},
   "outputs": [
    {
     "data": {
      "text/html": [
       "TRUE"
      ],
      "text/latex": [
       "TRUE"
      ],
      "text/markdown": [
       "TRUE"
      ],
      "text/plain": [
       "[1] TRUE"
      ]
     },
     "metadata": {},
     "output_type": "display_data"
    }
   ],
   "source": [
    "is_monotone <- function(x) {\n",
    "    y <- x[-1] - x[-length(x)]\n",
    "    return(all(y <= 0) | all(y >= 0))\n",
    "}\n",
    "is_monotone(c(6, 5, 5))"
   ]
  },
  {
   "cell_type": "markdown",
   "id": "56a2eb93-1f4a-4578-a2dd-57218691157f",
   "metadata": {},
   "source": [
    "**Solution with diff**"
   ]
  },
  {
   "cell_type": "code",
   "execution_count": null,
   "id": "1ad41e62-d126-43d6-9b7e-47d02419f7ed",
   "metadata": {},
   "outputs": [],
   "source": [
    "is_monotone <- function(x) {\n",
    "    all(diff(x) >= 0) || all(diff(x) <= 0)\n",
    "}"
   ]
  },
  {
   "cell_type": "markdown",
   "id": "d017a7d1-8aa8-42a0-8f55-2fdde8e4a731",
   "metadata": {},
   "source": [
    "Dilute the course with a spoonful of combinatorics. Let's say we have n items from which we need to choose k pieces.\n",
    "\n",
    "The most famous combinatorial formula sets the number of possible combinations. The number of combinations with repetitions (multicombinations) has a similar appearance.\n",
    "\n",
    "Program both of these values as a function depending on n and k. The with_repetitions argument will be responsible for the counting option: if it is FALSE, then let the number of combinations be counted, and if TRUE, then combinations with repetitions."
   ]
  },
  {
   "cell_type": "code",
   "execution_count": 61,
   "id": "29785480-a27f-4586-a294-d732d4a77a22",
   "metadata": {},
   "outputs": [
    {
     "data": {
      "text/html": [
       "364"
      ],
      "text/latex": [
       "364"
      ],
      "text/markdown": [
       "364"
      ],
      "text/plain": [
       "[1] 364"
      ]
     },
     "metadata": {},
     "output_type": "display_data"
    },
    {
     "data": {
      "text/html": [
       "220"
      ],
      "text/latex": [
       "220"
      ],
      "text/markdown": [
       "220"
      ],
      "text/plain": [
       "[1] 220"
      ]
     },
     "metadata": {},
     "output_type": "display_data"
    }
   ],
   "source": [
    "combin_count <- function(n, k, with_repretitions = FALSE) {\n",
    "    if (with_repretitions) {\n",
    "        return(factor_vector(1:(n+k-1), 1:max(k, (n-1)), 1:min(k, (n-1))))\n",
    "        } else {\n",
    "    return(factor_vector(1:n, 1:max(k, (n - k)), 1:min(k, (n - k))))\n",
    "    }\n",
    "}\n",
    "\n",
    "factor_vector <- function(n, k, r) {\n",
    "    n <- n[(length(k)+1):length(n)]\n",
    "    for (i in 1:length(r)) {\n",
    "        if (any(n %% r[i] == 0)) { \n",
    "            n[which(n %% r[i] == 0)[1]] <- n[which(n %% r[i] == 0)[1]] / r[i]\n",
    "            r[i] <- 1\n",
    "        }\n",
    "        }\n",
    "    return(prod(n) / prod(r))\n",
    "    }\n",
    "\n",
    "combin_count(12, 3, TRUE)\n",
    "combin_count(12, 3)"
   ]
  }
 ],
 "metadata": {
  "kernelspec": {
   "display_name": "R",
   "language": "R",
   "name": "ir"
  },
  "language_info": {
   "codemirror_mode": "r",
   "file_extension": ".r",
   "mimetype": "text/x-r-source",
   "name": "R",
   "pygments_lexer": "r",
   "version": "4.3.1"
  }
 },
 "nbformat": 4,
 "nbformat_minor": 5
}
